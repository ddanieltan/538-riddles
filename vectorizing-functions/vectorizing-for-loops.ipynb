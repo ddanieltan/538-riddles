{
 "cells": [
  {
   "cell_type": "markdown",
   "metadata": {},
   "source": [
    "I found a good link about the power of vectorizing functions + practice questions here:\n",
    "\n",
    "\n",
    "https://softwareengineering.stackexchange.com/questions/254475/how-do-i-move-away-from-the-for-loop-school-of-thought?utm_medium=organic&utm_source=google_rich_qa&utm_campaign=google_rich_qa\n",
    "\n",
    "There's also a good article about this topic here:\n",
    "\n",
    "http://kitchingroup.cheme.cmu.edu/blog/2013/02/26/Sums-products-and-linear-algebra-notation-avoiding-loops-where-possible/"
   ]
  },
  {
   "cell_type": "code",
   "execution_count": 1,
   "metadata": {},
   "outputs": [],
   "source": [
    "import numpy as np"
   ]
  },
  {
   "cell_type": "code",
   "execution_count": 2,
   "metadata": {},
   "outputs": [],
   "source": [
    "# Problem 1\n",
    "def sumproducts(x, y):\n",
    "    \"\"\"Return the sum of x[i] * y[j] for all pairs of indices i, j.\n",
    "\n",
    "    >>> sumproducts(np.arange(3000), np.arange(3000))\n",
    "    20236502250000\n",
    "\n",
    "    \"\"\"\n",
    "    total_x=0\n",
    "    for i in x:\n",
    "        total_x+=i\n",
    "    \n",
    "    total_y=0\n",
    "    for i in y:\n",
    "        total_y+=i\n",
    "    \n",
    "    return total_x*total_y\n",
    "    "
   ]
  },
  {
   "cell_type": "code",
   "execution_count": 3,
   "metadata": {},
   "outputs": [],
   "source": [
    "# Solution 1\n",
    "def sumproducts_vectorized(x,y):\n",
    "    \"\"\"\n",
    "    Return the sum of x[i] * y[j] for all pairs of indices i, j.\n",
    "    \"\"\"\n",
    "    return np.sum(x)*np.sum(y)"
   ]
  },
  {
   "cell_type": "code",
   "execution_count": 4,
   "metadata": {},
   "outputs": [
    {
     "name": "stdout",
     "output_type": "stream",
     "text": [
      "test passed\n",
      "100 loops, best of 3: 150 ns per loop\n",
      "100 loops, best of 3: 179 ns per loop\n"
     ]
    }
   ],
   "source": [
    "# Test 1\n",
    "old=sumproducts(np.arange(100),np.arange(100))\n",
    "new=sumproducts_vectorized(np.arange(100),np.arange(100))\n",
    "\n",
    "try: \n",
    "    assert(old==new)\n",
    "    print 'test passed'\n",
    "    %timeit -n 100 old\n",
    "    %timeit -n 100 new\n",
    "    \n",
    "except AssertionError:\n",
    "    print 'test failed'\n",
    "    print 'New solution gave a different ans ({}) vs. original ({})'.format(new,old)\n",
    "\n"
   ]
  },
  {
   "cell_type": "code",
   "execution_count": 5,
   "metadata": {},
   "outputs": [],
   "source": [
    "# Problem 2\n",
    "def countlower(x, y):\n",
    "    \"\"\"Return the number of pairs i, j such that x[i] < y[j].\n",
    "\n",
    "    >>> countlower(np.arange(0, 200, 2), np.arange(40, 140))\n",
    "    4500\n",
    "\n",
    "    \"\"\"\n",
    "    result = 0\n",
    "    for i in range(len(x)):\n",
    "        for j in range(len(y)):\n",
    "            if x[i] < y[j]:\n",
    "                result += 1\n",
    "    return result"
   ]
  },
  {
   "cell_type": "code",
   "execution_count": 6,
   "metadata": {},
   "outputs": [],
   "source": [
    "# Solution 2\n",
    "def countlower_vectorized(x,y):\n",
    "    \"\"\"\n",
    "    Return the number of pairs i, j such that x[i] < y[j].\n",
    "    \"\"\"\n",
    "    \n",
    "    return np.sum(np.searchsorted(np.sort(x),y))"
   ]
  },
  {
   "cell_type": "code",
   "execution_count": 7,
   "metadata": {},
   "outputs": [
    {
     "data": {
      "text/plain": [
       "\"\\n    Find the indices into a sorted array `a` such that, if the\\n    corresponding elements in `v` were inserted before the indices, the\\n    order of `a` would be preserved.\\n    \\n    Examples\\n    --------\\n    >>> np.searchsorted([1,2,3,4,5], 3)\\n    2\\n    >>> np.searchsorted([1,2,3,4,5], 3, side='right')\\n    3\\n    >>> np.searchsorted([1,2,3,4,5], [-10, 10, 2, 3])\\n    array([0, 5, 1, 2])\\n\""
      ]
     },
     "execution_count": 7,
     "metadata": {},
     "output_type": "execute_result"
    }
   ],
   "source": [
    "np.searchsorted??\n",
    "\n",
    "\"\"\"\n",
    "    Find the indices into a sorted array `a` such that, if the\n",
    "    corresponding elements in `v` were inserted before the indices, the\n",
    "    order of `a` would be preserved.\n",
    "    \n",
    "    Examples\n",
    "    --------\n",
    "    >>> np.searchsorted([1,2,3,4,5], 3)\n",
    "    2\n",
    "    >>> np.searchsorted([1,2,3,4,5], 3, side='right')\n",
    "    3\n",
    "    >>> np.searchsorted([1,2,3,4,5], [-10, 10, 2, 3])\n",
    "    array([0, 5, 1, 2])\n",
    "\"\"\""
   ]
  },
  {
   "cell_type": "code",
   "execution_count": 8,
   "metadata": {},
   "outputs": [
    {
     "data": {
      "text/plain": [
       "array([2, 3])"
      ]
     },
     "execution_count": 8,
     "metadata": {},
     "output_type": "execute_result"
    }
   ],
   "source": [
    "np.searchsorted([1,2,4],[3,5])\n",
    "# The output [2,3] is equivalent to saying for each term in [3,5]\n",
    "# For 3, there are 2 items in 1st list that are smaller\n",
    "# For 5, there are 3 items in 1st list that are smaller\n",
    "# summing up the results, we get all pairs of x[i]<y[j]"
   ]
  },
  {
   "cell_type": "code",
   "execution_count": 9,
   "metadata": {},
   "outputs": [
    {
     "data": {
      "text/plain": [
       "5"
      ]
     },
     "execution_count": 9,
     "metadata": {},
     "output_type": "execute_result"
    }
   ],
   "source": [
    "countlower([1,2,4],[3,5])"
   ]
  },
  {
   "cell_type": "code",
   "execution_count": 10,
   "metadata": {},
   "outputs": [
    {
     "name": "stdout",
     "output_type": "stream",
     "text": [
      "test passed\n",
      "100 loops, best of 3: 129 ns per loop\n",
      "100 loops, best of 3: 179 ns per loop\n"
     ]
    }
   ],
   "source": [
    "# Test 2\n",
    "old=countlower(np.arange(100),np.arange(100))\n",
    "new=countlower_vectorized(np.arange(100),np.arange(100))\n",
    "\n",
    "try:\n",
    "    assert(old==new)\n",
    "    print 'test passed'\n",
    "    %timeit -n 100 old\n",
    "    %timeit -n 100 new\n",
    "except AssertionError:\n",
    "    print 'test failed'\n",
    "    print 'New solution gave a different ans ({}) vs. original ({})'.format(new,old)\n"
   ]
  },
  {
   "cell_type": "code",
   "execution_count": 12,
   "metadata": {},
   "outputs": [],
   "source": [
    "# Problem 3\n",
    "def cleanup(x, missing=-1, value=0):\n",
    "    \"\"\"Return an array that's the same as x, except that where x ==\n",
    "    missing, it has value instead.\n",
    "\n",
    "    >>> cleanup(np.arange(-3, 3), value=10)\n",
    "    ... # doctest: +NORMALIZE_WHITESPACE\n",
    "    array([-3, -2, 10, 0, 1, 2])\n",
    "\n",
    "    \"\"\"\n",
    "    result = []\n",
    "    for i in range(len(x)):\n",
    "        if x[i] == missing:\n",
    "            result.append(value)\n",
    "        else:\n",
    "            result.append(x[i])\n",
    "    return np.array(result)"
   ]
  },
  {
   "cell_type": "code",
   "execution_count": 13,
   "metadata": {},
   "outputs": [
    {
     "data": {
      "text/plain": [
       "array([0, 1, 2, 3, 4, 5, 6, 7, 8, 9])"
      ]
     },
     "execution_count": 13,
     "metadata": {},
     "output_type": "execute_result"
    }
   ],
   "source": [
    "cleanup(np.arange(10))"
   ]
  },
  {
   "cell_type": "code",
   "execution_count": null,
   "metadata": {},
   "outputs": [],
   "source": [
    "# Solution 3\n"
   ]
  },
  {
   "cell_type": "code",
   "execution_count": null,
   "metadata": {},
   "outputs": [],
   "source": [
    "# Test 3\n",
    "old=cleanup(np.arange(100),np.arange(100))\n",
    "new=cleanup_vectorized(np.arange(100),np.arange(100))\n",
    "\n",
    "try:\n",
    "    assert(old==new)\n",
    "    print 'test passed'\n",
    "    %timeit -n 100 old\n",
    "    %timeit -n 100 new\n",
    "except AssertionError:\n",
    "    print 'test failed'\n",
    "    print 'New solution gave a different ans ({}) vs. original ({})'.format(new,old)\n"
   ]
  }
 ],
 "metadata": {
  "kernelspec": {
   "display_name": "Python 2",
   "language": "python",
   "name": "python2"
  },
  "language_info": {
   "codemirror_mode": {
    "name": "ipython",
    "version": 2
   },
   "file_extension": ".py",
   "mimetype": "text/x-python",
   "name": "python",
   "nbconvert_exporter": "python",
   "pygments_lexer": "ipython2",
   "version": "2.7.14"
  }
 },
 "nbformat": 4,
 "nbformat_minor": 2
}
