{
 "cells": [
  {
   "cell_type": "markdown",
   "metadata": {},
   "source": [
    "I found a good link about the power of vectorizing functions + practice questions here:\n",
    "\n",
    "\n",
    "https://softwareengineering.stackexchange.com/questions/254475/how-do-i-move-away-from-the-for-loop-school-of-thought?utm_medium=organic&utm_source=google_rich_qa&utm_campaign=google_rich_qa\n",
    "\n",
    "There's also a good article about this topic here:\n",
    "\n",
    "http://kitchingroup.cheme.cmu.edu/blog/2013/02/26/Sums-products-and-linear-algebra-notation-avoiding-loops-where-possible/"
   ]
  },
  {
   "cell_type": "code",
   "execution_count": 11,
   "metadata": {},
   "outputs": [],
   "source": [
    "import numpy as np"
   ]
  },
  {
   "cell_type": "code",
   "execution_count": 29,
   "metadata": {},
   "outputs": [],
   "source": [
    "# Problem 1\n",
    "def sumproducts(x, y):\n",
    "    \"\"\"Return the sum of x[i] * y[j] for all pairs of indices i, j.\n",
    "\n",
    "    >>> sumproducts(np.arange(3000), np.arange(3000))\n",
    "    20236502250000\n",
    "\n",
    "    \"\"\"\n",
    "    total_x=0\n",
    "    for i in x:\n",
    "        total_x+=i\n",
    "    \n",
    "    total_y=0\n",
    "    for i in y:\n",
    "        total_y+=i\n",
    "    \n",
    "    return total_x*total_y\n",
    "    "
   ]
  },
  {
   "cell_type": "code",
   "execution_count": 30,
   "metadata": {},
   "outputs": [],
   "source": [
    "# Solution 1\n",
    "def sumproducts_vectorized(x,y):\n",
    "    \"\"\"\n",
    "    Return the sum of x[i] * y[j] for all pairs of indices i, j.\n",
    "    \"\"\"\n",
    "    return np.sum(x)*np.sum(y)"
   ]
  },
  {
   "cell_type": "code",
   "execution_count": 31,
   "metadata": {},
   "outputs": [
    {
     "name": "stdout",
     "output_type": "stream",
     "text": [
      "24502500\n",
      "24502500\n",
      "100 loops, best of 3: 50.8 µs per loop\n",
      "100 loops, best of 3: 12.8 µs per loop\n"
     ]
    }
   ],
   "source": [
    "# Test 1\n",
    "print sumproducts(np.arange(100),np.arange(100))\n",
    "print sumproducts_vectorized(np.arange(100),np.arange(100))\n",
    "\n",
    "%timeit -n 100 sumproducts(np.arange(100),np.arange(100))\n",
    "%timeit -n 100 sumproducts_vectorized(np.arange(100),np.arange(100))"
   ]
  },
  {
   "cell_type": "code",
   "execution_count": 3,
   "metadata": {},
   "outputs": [],
   "source": [
    "# Problem 2\n",
    "def countlower(x, y):\n",
    "    \"\"\"Return the number of pairs i, j such that x[i] < y[j].\n",
    "\n",
    "    >>> countlower(np.arange(0, 200, 2), np.arange(40, 140))\n",
    "    4500\n",
    "\n",
    "    \"\"\"\n",
    "    result = 0\n",
    "    for i in range(len(x)):\n",
    "        for j in range(len(y)):\n",
    "            if x[i] < y[j]:\n",
    "                result += 1\n",
    "    return result"
   ]
  },
  {
   "cell_type": "code",
   "execution_count": 32,
   "metadata": {},
   "outputs": [],
   "source": [
    "# Solution 2\n",
    "def countlower_vectorized(x,y):\n",
    "    \"\"\"\n",
    "    Return the number of pairs i, j such that x[i] < y[j].\n",
    "    \"\"\"\n",
    "    \n",
    "    return len(np.array(x)<np.array(y))"
   ]
  },
  {
   "cell_type": "code",
   "execution_count": 34,
   "metadata": {},
   "outputs": [
    {
     "name": "stdout",
     "output_type": "stream",
     "text": [
      "4950\n",
      "100\n"
     ]
    }
   ],
   "source": [
    "# Test 2\n",
    "print countlower(np.arange(100),np.arange(100))\n",
    "print countlower_vectorized(np.arange(100),np.arange(100))\n",
    "\n",
    "#%timeit -n 100 sumproducts(np.arange(100),np.arange(100))\n",
    "#%timeit -n 100 sumproducts_vectorized(np.arange(100),np.arange(100))"
   ]
  },
  {
   "cell_type": "code",
   "execution_count": null,
   "metadata": {},
   "outputs": [],
   "source": [
    "# Problem 3\n",
    "def cleanup(x, missing=-1, value=0):\n",
    "    \"\"\"Return an array that's the same as x, except that where x ==\n",
    "    missing, it has value instead.\n",
    "\n",
    "    >>> cleanup(np.arange(-3, 3), value=10)\n",
    "    ... # doctest: +NORMALIZE_WHITESPACE\n",
    "    array([-3, -2, 10, 0, 1, 2])\n",
    "\n",
    "    \"\"\"\n",
    "    result = []\n",
    "    for i in range(len(x)):\n",
    "        if x[i] == missing:\n",
    "            result.append(value)\n",
    "        else:\n",
    "            result.append(x[i])\n",
    "    return np.array(result)"
   ]
  },
  {
   "cell_type": "code",
   "execution_count": null,
   "metadata": {},
   "outputs": [],
   "source": [
    "# Solution 3"
   ]
  }
 ],
 "metadata": {
  "kernelspec": {
   "display_name": "Python 2",
   "language": "python",
   "name": "python2"
  },
  "language_info": {
   "codemirror_mode": {
    "name": "ipython",
    "version": 2
   },
   "file_extension": ".py",
   "mimetype": "text/x-python",
   "name": "python",
   "nbconvert_exporter": "python",
   "pygments_lexer": "ipython2",
   "version": "2.7.14"
  }
 },
 "nbformat": 4,
 "nbformat_minor": 2
}
