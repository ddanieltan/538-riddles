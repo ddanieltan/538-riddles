{
 "cells": [
  {
   "cell_type": "markdown",
   "metadata": {},
   "source": [
    "--- Day 6: Memory Reallocation ---  \n",
    "A debugger program here is having an issue: it is trying to repair a memory reallocation routine,  \n",
    "but it keeps getting stuck in an infinite loop.  \n",
    "\n",
    "In this area, there are sixteen memory banks; each memory bank can hold any number of blocks.  \n",
    "The goal of the reallocation routine is to balance the blocks between the memory banks.  \n",
    "\n",
    "The reallocation routine operates in cycles. In each cycle, it finds the memory bank with the most blocks  \n",
    "(ties won by the lowest-numbered memory bank) and redistributes those blocks among the banks.  \n",
    "To do this, it removes all of the blocks from the selected bank, then moves to the next (by index) memory bank  \n",
    "and inserts one of the blocks. It continues doing this until it runs out of blocks;  \n",
    "if it reaches the last memory bank, it wraps around to the first one.\n",
    "\n",
    "The debugger would like to know how many redistributions can be done  \n",
    "before a blocks-in-banks configuration is produced that has been seen before.  \n",
    "\n",
    "For example, imagine a scenario with only four memory banks:  \n",
    "\n",
    "The banks start with 0, 2, 7, and 0 blocks.  \n",
    "The third bank has the most blocks, so it is chosen for redistribution.  \n",
    "Starting with the next bank (the fourth bank) and then continuing to the first bank,  \n",
    "the second bank, and so on, the 7 blocks are spread out over the memory banks.  \n",
    "The fourth, first, and second banks get two blocks each, and the third bank gets one back.  \n",
    "The final result looks like this: 2 4 1 2.  \n",
    "Next, the second bank is chosen because it contains the most blocks (four).  \n",
    "Because there are four memory banks, each gets one block. The result is: 3 1 2 3.  \n",
    "Now, there is a tie between the first and fourth memory banks, both of which have three blocks.  \n",
    "The first bank wins the tie, and its three blocks are distributed evenly over the other three banks, leaving it with none: 0 2 3 4.  \n",
    "The fourth bank is chosen, and its four blocks are distributed such that each of the four banks receives one: 1 3 4 1.  \n",
    "The third bank is chosen, and the same thing happens: 2 4 1 2.  \n",
    "At this point, we've reached a state we've seen before: 2 4 1 2 was already seen.  \n",
    "The infinite loop is detected after the fifth block redistribution cycle, and so the answer in this example is 5.  \n",
    "\n",
    "Given the initial block counts in your puzzle input, how many redistribution cycles must be completed   \n",
    "before a configuration is produced that has been seen before?  "
   ]
  },
  {
   "cell_type": "code",
   "execution_count": 92,
   "metadata": {
    "collapsed": true
   },
   "outputs": [],
   "source": [
    "import numpy as np\n",
    "import pandas as pd\n",
    "import collections"
   ]
  },
  {
   "cell_type": "code",
   "execution_count": 93,
   "metadata": {
    "collapsed": true
   },
   "outputs": [],
   "source": [
    "# record all combinations\n",
    "combinations=[]\n",
    "combinations.append([0,2,7,0])"
   ]
  },
  {
   "cell_type": "code",
   "execution_count": 94,
   "metadata": {},
   "outputs": [
    {
     "data": {
      "text/plain": [
       "[[0, 2, 7, 0]]"
      ]
     },
     "execution_count": 94,
     "metadata": {},
     "output_type": "execute_result"
    }
   ],
   "source": [
    "combinations"
   ]
  },
  {
   "cell_type": "code",
   "execution_count": 95,
   "metadata": {},
   "outputs": [],
   "source": [
    "def solve(array_num):\n",
    "    steps=0\n",
    "    combinations=[]\n",
    "    combinations.append(array_num)\n",
    "    base=[]\n",
    "    while True:\n",
    "        \n",
    "        if len(combinations)==1:\n",
    "            base=list(array_num) #this syntax is required to copy a new list. Otherwise list1=list2 are pointers to the same list.\n",
    "        else:\n",
    "            base=list(combinations[-1])\n",
    "        \n",
    "        starting_index=base.index(max(base)) #handles both cases with unique max, and tie break using smaller index\n",
    "        increments=max(base)\n",
    "       \n",
    "        base[starting_index]=0\n",
    "        \n",
    "        for i in range(increments):\n",
    "            current_index=(starting_index+i+1)%len(base)\n",
    "            base[current_index]+=1\n",
    "\n",
    "        steps+=1\n",
    "        if base in combinations:\n",
    "            return steps\n",
    "        else:\n",
    "            combinations.append(base)\n",
    "        #print combinations\n",
    "    "
   ]
  },
  {
   "cell_type": "code",
   "execution_count": 96,
   "metadata": {},
   "outputs": [
    {
     "data": {
      "text/plain": [
       "5"
      ]
     },
     "execution_count": 96,
     "metadata": {},
     "output_type": "execute_result"
    }
   ],
   "source": [
    "solve([0,2,7,0])"
   ]
  },
  {
   "cell_type": "code",
   "execution_count": 97,
   "metadata": {
    "collapsed": true
   },
   "outputs": [],
   "source": [
    "#puzzle input\n",
    "inputs=[14,0,15,12,11,11,3,5,1,6,8,4,9,1,8,4]"
   ]
  },
  {
   "cell_type": "code",
   "execution_count": 98,
   "metadata": {},
   "outputs": [
    {
     "data": {
      "text/plain": [
       "11137"
      ]
     },
     "execution_count": 98,
     "metadata": {},
     "output_type": "execute_result"
    }
   ],
   "source": [
    "solve(inputs)"
   ]
  },
  {
   "cell_type": "markdown",
   "metadata": {},
   "source": [
    "--- Part Two ---  \n",
    "Out of curiosity, the debugger would also like to know the size of the loop:  \n",
    "starting from a state that has already been seen, how many block redistribution cycles  \n",
    "must be performed before that same state is seen again?  \n",
    "\n",
    "In the example above, 2 4 1 2 is seen again after four cycles,  \n",
    "and so the answer in that example would be 4.  \n",
    "\n",
    "How many cycles are in the infinite loop that arises from the configuration in your puzzle input?  "
   ]
  },
  {
   "cell_type": "markdown",
   "metadata": {},
   "source": [
    "The explanation for Part 2 is not intuitive at all to me.  \n",
    "It's asking for the no. of loops that ran between the 2 combinations that matched..."
   ]
  },
  {
   "cell_type": "code",
   "execution_count": 105,
   "metadata": {
    "collapsed": true
   },
   "outputs": [],
   "source": [
    "def solve2(array_num):\n",
    "    steps=0\n",
    "    combinations=[]\n",
    "    combinations.append(array_num)\n",
    "    base=[]\n",
    "    while True:\n",
    "        \n",
    "        if len(combinations)==1:\n",
    "            base=list(array_num)\n",
    "        else:\n",
    "            base=list(combinations[-1])\n",
    "        \n",
    "        starting_index=base.index(max(base))\n",
    "        increments=max(base)\n",
    "       \n",
    "        base[starting_index]=0\n",
    "        \n",
    "        for i in range(increments):\n",
    "            current_index=(starting_index+i+1)%len(base)\n",
    "            base[current_index]+=1\n",
    "\n",
    "        steps+=1\n",
    "        if base in combinations:\n",
    "            return combinations,base #edit for part 2\n",
    "        else:\n",
    "            combinations.append(base)\n",
    "    "
   ]
  },
  {
   "cell_type": "code",
   "execution_count": 100,
   "metadata": {
    "collapsed": true
   },
   "outputs": [],
   "source": [
    "combi,base=solve2(inputs)"
   ]
  },
  {
   "cell_type": "code",
   "execution_count": 101,
   "metadata": {},
   "outputs": [
    {
     "data": {
      "text/plain": [
       "[14, 13, 12, 11, 9, 8, 8, 6, 6, 4, 4, 3, 1, 1, 0, 12]"
      ]
     },
     "execution_count": 101,
     "metadata": {},
     "output_type": "execute_result"
    }
   ],
   "source": [
    "base"
   ]
  },
  {
   "cell_type": "code",
   "execution_count": 103,
   "metadata": {},
   "outputs": [
    {
     "data": {
      "text/plain": [
       "10100"
      ]
     },
     "execution_count": 103,
     "metadata": {},
     "output_type": "execute_result"
    }
   ],
   "source": [
    "first_occurance_index=combi.index(base)\n",
    "first_occurance_index"
   ]
  },
  {
   "cell_type": "code",
   "execution_count": 104,
   "metadata": {},
   "outputs": [
    {
     "data": {
      "text/plain": [
       "1037"
      ]
     },
     "execution_count": 104,
     "metadata": {},
     "output_type": "execute_result"
    }
   ],
   "source": [
    "#Answer for part 2\n",
    "len(combi)-first_occurance_index"
   ]
  }
 ],
 "metadata": {
  "kernelspec": {
   "display_name": "Python 2",
   "language": "python",
   "name": "python2"
  },
  "language_info": {
   "codemirror_mode": {
    "name": "ipython",
    "version": 2
   },
   "file_extension": ".py",
   "mimetype": "text/x-python",
   "name": "python",
   "nbconvert_exporter": "python",
   "pygments_lexer": "ipython2",
   "version": "2.7.14"
  }
 },
 "nbformat": 4,
 "nbformat_minor": 2
}
