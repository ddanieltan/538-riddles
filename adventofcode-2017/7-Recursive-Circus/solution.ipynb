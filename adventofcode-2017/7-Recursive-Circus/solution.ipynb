{
 "cells": [
  {
   "cell_type": "markdown",
   "metadata": {},
   "source": [
    "--- Day 7: Recursive Circus ---\n",
    "Wandering further through the circuits of the computer, you come upon a tower of programs  \n",
    "that have gotten themselves into a bit of trouble. A recursive algorithm has gotten out of hand,  \n",
    "and now they're balanced precariously in a large tower.  \n",
    "\n",
    "One program at the bottom supports the entire tower.  \n",
    "It's holding a large disc, and on the disc are balanced several more sub-towers.  \n",
    "At the bottom of these sub-towers, standing on the bottom disc, are other programs,  \n",
    "each holding their own disc, and so on. At the very tops of these sub-sub-sub-...-towers,  \n",
    "many programs stand simply keeping the disc below them balanced but with no disc of their own.  \n",
    "\n",
    "You offer to help, but first you need to understand the structure of these towers.  \n",
    "You ask each program to yell out their name, their weight, and (if they're holding a disc)  \n",
    "the names of the programs immediately above them balancing on that disc. You write this information down  \n",
    "(your puzzle input). Unfortunately, in their panic, they don't do this in an orderly fashion;  \n",
    "by the time you're done, you're not sure which program gave which information.  \n",
    "\n",
    "For example, if your list is the following:  \n",
    "\n",
    "pbga (66)  \n",
    "xhth (57)  \n",
    "ebii (61)  \n",
    "havc (66)  \n",
    "ktlj (57)  \n",
    "fwft (72) -> ktlj, cntj, xhth  \n",
    "qoyq (66)  \n",
    "padx (45) -> pbga, havc, qoyq  \n",
    "tknk (41) -> ugml, padx, fwft  \n",
    "jptl (61)  \n",
    "ugml (68) -> gyxo, ebii, jptl  \n",
    "gyxo (61)  \n",
    "cntj (57)  \n",
    "...then you would be able to recreate the structure of the towers that looks like this:  \n",
    "\n",
    "                gyxo  \n",
    "              /      \n",
    "         ugml - ebii  \n",
    "       /      \\       \n",
    "      |         jptl  \n",
    "      |          \n",
    "      |         pbga    \n",
    "     /        /  \n",
    "tknk --- padx - havc  \n",
    "     \\        \\  \n",
    "      |         qoyq  \n",
    "      |               \n",
    "      |         ktlj  \n",
    "       \\      /       \n",
    "         fwft - cntj  \n",
    "              \\       \n",
    "                xhth  \n",
    "In this example, tknk is at the bottom of the tower (the bottom program), and is holding up ugml, padx, and fwft.   Those programs are, in turn, holding up other programs; in this example, none of those programs are holding up any   other programs, and are all the tops of their own towers. (The actual tower balancing in front of you is much   larger.)  \n",
    "\n",
    "Before you're ready to help them, you need to make sure your information is correct.  \n",
    "What is the name of the bottom program?  "
   ]
  },
  {
   "cell_type": "code",
   "execution_count": 1,
   "metadata": {
    "collapsed": true
   },
   "outputs": [],
   "source": [
    "import numpy as np\n",
    "import pandas as pd"
   ]
  },
  {
   "cell_type": "code",
   "execution_count": 36,
   "metadata": {},
   "outputs": [],
   "source": [
    "# 1. Parse inputs\n",
    "\n",
    "def parse(string):\n",
    "    name=''\n",
    "    weight=0\n",
    "    childs=[]\n",
    "    \n",
    "    if '->' in string:\n",
    "        #padx (45) -> pbga, havc, qoyq is <name>(<weight>) -> <childs...>\n",
    "        front,back1=string.split(' (')\n",
    "        name=str(front)\n",
    "        \n",
    "        num,back2=back1.split(')')\n",
    "        weight=int(num)\n",
    "        \n",
    "        back3=back2.replace(' -> ','')\n",
    "        back4=back3.replace(',','')\n",
    "        back5=back4.split(' ')\n",
    "        childs=back5\n",
    "        \n",
    "    else:\n",
    "        #pbga (66) is <name>(<weight>)\n",
    "        front,back=string.split(' (')\n",
    "        name=str(front)\n",
    "        weight=int(back[:-1])\n",
    "    \n",
    "    return name,weight,childs\n"
   ]
  },
  {
   "cell_type": "code",
   "execution_count": 37,
   "metadata": {},
   "outputs": [
    {
     "data": {
      "text/plain": [
       "('pbga', 66, [])"
      ]
     },
     "execution_count": 37,
     "metadata": {},
     "output_type": "execute_result"
    }
   ],
   "source": [
    "parse('pbga (66)')"
   ]
  },
  {
   "cell_type": "code",
   "execution_count": 38,
   "metadata": {},
   "outputs": [
    {
     "data": {
      "text/plain": [
       "('fwft', 72, ['ktlj', 'cntj', 'xhth'])"
      ]
     },
     "execution_count": 38,
     "metadata": {},
     "output_type": "execute_result"
    }
   ],
   "source": [
    "parse('fwft (72) -> ktlj, cntj, xhth')"
   ]
  },
  {
   "cell_type": "code",
   "execution_count": 39,
   "metadata": {
    "collapsed": true
   },
   "outputs": [],
   "source": [
    "test=[\n",
    "'pbga (66)',\n",
    "'xhth (57)', \n",
    "'ebii (61)', \n",
    "'havc (66)',\n",
    "'ktlj (57)', \n",
    "'fwft (72) -> ktlj, cntj, xhth', \n",
    "'qoyq (66)', \n",
    "'padx (45) -> pbga, havc, qoyq', \n",
    "'tknk (41) -> ugml, padx, fwft',  \n",
    "'jptl (61)',  \n",
    "'ugml (68) -> gyxo, ebii, jptl', \n",
    "'gyxo (61)', \n",
    "'cntj (57)'\n",
    "]"
   ]
  },
  {
   "cell_type": "code",
   "execution_count": 40,
   "metadata": {},
   "outputs": [],
   "source": [
    "test_parsed=[parse(t) for t in test]"
   ]
  },
  {
   "cell_type": "code",
   "execution_count": 41,
   "metadata": {},
   "outputs": [
    {
     "data": {
      "text/plain": [
       "[('pbga', 66, []),\n",
       " ('xhth', 57, []),\n",
       " ('ebii', 61, []),\n",
       " ('havc', 66, []),\n",
       " ('ktlj', 57, []),\n",
       " ('fwft', 72, ['ktlj', 'cntj', 'xhth']),\n",
       " ('qoyq', 66, []),\n",
       " ('padx', 45, ['pbga', 'havc', 'qoyq']),\n",
       " ('tknk', 41, ['ugml', 'padx', 'fwft']),\n",
       " ('jptl', 61, []),\n",
       " ('ugml', 68, ['gyxo', 'ebii', 'jptl']),\n",
       " ('gyxo', 61, []),\n",
       " ('cntj', 57, [])]"
      ]
     },
     "execution_count": 41,
     "metadata": {},
     "output_type": "execute_result"
    }
   ],
   "source": [
    "test_parsed"
   ]
  },
  {
   "cell_type": "code",
   "execution_count": 52,
   "metadata": {
    "collapsed": true
   },
   "outputs": [],
   "source": [
    "def find_bottom_name(array_of_parse):\n",
    "    all_names=[]\n",
    "    all_childs=[]\n",
    "    \n",
    "    for i in array_of_parse:\n",
    "        name=i[0]\n",
    "        childs=i[2]\n",
    "        \n",
    "        if childs!=[]:\n",
    "            all_names.append(name)\n",
    "            all_childs.extend(childs)\n",
    "    \n",
    "    for n in all_names:\n",
    "        if n not in all_childs:\n",
    "            return n\n",
    "    \n",
    "    return 'No bottom found'"
   ]
  },
  {
   "cell_type": "code",
   "execution_count": 53,
   "metadata": {},
   "outputs": [
    {
     "data": {
      "text/plain": [
       "'tknk'"
      ]
     },
     "execution_count": 53,
     "metadata": {},
     "output_type": "execute_result"
    }
   ],
   "source": [
    "find_bottom_name(test_parsed)"
   ]
  },
  {
   "cell_type": "code",
   "execution_count": 63,
   "metadata": {},
   "outputs": [],
   "source": [
    "with open('inputs.txt','r') as f:\n",
    "    inputs=f.readlines()\n",
    "    inputs=[i.replace('\\n','') for i in inputs]"
   ]
  },
  {
   "cell_type": "code",
   "execution_count": 65,
   "metadata": {},
   "outputs": [
    {
     "data": {
      "text/plain": [
       "['hndzyx (28)',\n",
       " 'kdelzk (399)',\n",
       " 'uylvg (403) -> xrvcjq, hihltxf, junpjcj, onkvtu, cckdoyb, favay, xsygurk',\n",
       " 'jiyqd (842) -> vunjzqr, sfooljn, gsnlv',\n",
       " 'mxmzyac (67) -> pbwmrq, eiqjanp, dyanei, zmkuj, vkvvtm, ktlhztg']"
      ]
     },
     "execution_count": 65,
     "metadata": {},
     "output_type": "execute_result"
    }
   ],
   "source": [
    "inputs[:5]"
   ]
  },
  {
   "cell_type": "code",
   "execution_count": 66,
   "metadata": {},
   "outputs": [
    {
     "data": {
      "text/plain": [
       "'hlqnsbe'"
      ]
     },
     "execution_count": 66,
     "metadata": {},
     "output_type": "execute_result"
    }
   ],
   "source": [
    "find_bottom_name([parse(i) for i in inputs])"
   ]
  },
  {
   "cell_type": "code",
   "execution_count": null,
   "metadata": {
    "collapsed": true
   },
   "outputs": [],
   "source": []
  }
 ],
 "metadata": {
  "kernelspec": {
   "display_name": "Python 2",
   "language": "python",
   "name": "python2"
  },
  "language_info": {
   "codemirror_mode": {
    "name": "ipython",
    "version": 2
   },
   "file_extension": ".py",
   "mimetype": "text/x-python",
   "name": "python",
   "nbconvert_exporter": "python",
   "pygments_lexer": "ipython2",
   "version": "2.7.14"
  }
 },
 "nbformat": 4,
 "nbformat_minor": 2
}
