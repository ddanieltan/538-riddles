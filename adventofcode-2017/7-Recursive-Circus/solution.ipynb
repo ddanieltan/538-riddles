{
 "cells": [
  {
   "cell_type": "markdown",
   "metadata": {},
   "source": [
    "--- Day 7: Recursive Circus ---  \n",
    "Wandering further through the circuits of the computer, you come upon a tower of programs  \n",
    "that have gotten themselves into a bit of trouble. A recursive algorithm has gotten out of hand,  \n",
    "and now they're balanced precariously in a large tower.  \n",
    "\n",
    "One program at the bottom supports the entire tower.  \n",
    "It's holding a large disc, and on the disc are balanced several more sub-towers.  \n",
    "At the bottom of these sub-towers, standing on the bottom disc, are other programs,  \n",
    "each holding their own disc, and so on. At the very tops of these sub-sub-sub-...-towers,  \n",
    "many programs stand simply keeping the disc below them balanced but with no disc of their own.  \n",
    "\n",
    "You offer to help, but first you need to understand the structure of these towers.  \n",
    "You ask each program to yell out their name, their weight, and (if they're holding a disc)  \n",
    "the names of the programs immediately above them balancing on that disc. You write this information down  \n",
    "(your puzzle input). Unfortunately, in their panic, they don't do this in an orderly fashion;  \n",
    "by the time you're done, you're not sure which program gave which information.  \n",
    "\n",
    "For example, if your list is the following:  \n",
    "\n",
    "pbga (66)  \n",
    "xhth (57)  \n",
    "ebii (61)  \n",
    "havc (66)  \n",
    "ktlj (57)  \n",
    "fwft (72) -> ktlj, cntj, xhth  \n",
    "qoyq (66)  \n",
    "padx (45) -> pbga, havc, qoyq  \n",
    "tknk (41) -> ugml, padx, fwft  \n",
    "jptl (61)  \n",
    "ugml (68) -> gyxo, ebii, jptl  \n",
    "gyxo (61)  \n",
    "cntj (57)  \n",
    "...then you would be able to recreate the structure of the towers that looks like this:  \n",
    "\n",
    "                gyxo  \n",
    "              /      \n",
    "         ugml - ebii  \n",
    "       /      \\       \n",
    "      |         jptl  \n",
    "      |          \n",
    "      |         pbga    \n",
    "     /        /  \n",
    "tknk --- padx - havc  \n",
    "     \\        \\  \n",
    "      |         qoyq  \n",
    "      |               \n",
    "      |         ktlj  \n",
    "       \\      /       \n",
    "         fwft - cntj  \n",
    "              \\       \n",
    "                xhth  \n",
    "In this example, tknk is at the bottom of the tower (the bottom program), and is holding up ugml, padx, and fwft.   Those programs are, in turn, holding up other programs; in this example, none of those programs are holding up any   other programs, and are all the tops of their own towers. (The actual tower balancing in front of you is much   larger.)  \n",
    "\n",
    "Before you're ready to help them, you need to make sure your information is correct.  \n",
    "What is the name of the bottom program?  "
   ]
  },
  {
   "cell_type": "code",
   "execution_count": 1,
   "metadata": {
    "collapsed": true
   },
   "outputs": [],
   "source": [
    "import numpy as np\n",
    "import pandas as pd"
   ]
  },
  {
   "cell_type": "code",
   "execution_count": 2,
   "metadata": {
    "collapsed": true
   },
   "outputs": [],
   "source": [
    "def parse(string):\n",
    "    \"\"\"Parse out name, weight and children from input string\"\"\"\n",
    "    name=''\n",
    "    weight=0\n",
    "    childs=[]\n",
    "    \n",
    "    if '->' in string:\n",
    "        #padx (45) -> pbga, havc, qoyq is <name>(<weight>) -> <childs...>\n",
    "        front,back1=string.split(' (')\n",
    "        name=str(front)\n",
    "        \n",
    "        num,back2=back1.split(')')\n",
    "        weight=int(num)\n",
    "        \n",
    "        back3=back2.replace(' -> ','')\n",
    "        back4=back3.replace(',','')\n",
    "        back5=back4.split(' ')\n",
    "        childs=back5\n",
    "        \n",
    "    else:\n",
    "        #pbga (66) is <name>(<weight>)\n",
    "        front,back=string.split(' (')\n",
    "        name=str(front)\n",
    "        weight=int(back[:-1])\n",
    "    \n",
    "    return name,weight,childs\n"
   ]
  },
  {
   "cell_type": "code",
   "execution_count": 3,
   "metadata": {},
   "outputs": [
    {
     "data": {
      "text/plain": [
       "('pbga', 66, [])"
      ]
     },
     "execution_count": 3,
     "metadata": {},
     "output_type": "execute_result"
    }
   ],
   "source": [
    "parse('pbga (66)')"
   ]
  },
  {
   "cell_type": "code",
   "execution_count": 4,
   "metadata": {},
   "outputs": [
    {
     "data": {
      "text/plain": [
       "('fwft', 72, ['ktlj', 'cntj', 'xhth'])"
      ]
     },
     "execution_count": 4,
     "metadata": {},
     "output_type": "execute_result"
    }
   ],
   "source": [
    "parse('fwft (72) -> ktlj, cntj, xhth')"
   ]
  },
  {
   "cell_type": "code",
   "execution_count": 5,
   "metadata": {
    "collapsed": true
   },
   "outputs": [],
   "source": [
    "test=[\n",
    "'pbga (66)',\n",
    "'xhth (57)', \n",
    "'ebii (61)', \n",
    "'havc (66)',\n",
    "'ktlj (57)', \n",
    "'fwft (72) -> ktlj, cntj, xhth', \n",
    "'qoyq (66)', \n",
    "'padx (45) -> pbga, havc, qoyq', \n",
    "'tknk (41) -> ugml, padx, fwft',  \n",
    "'jptl (61)',  \n",
    "'ugml (68) -> gyxo, ebii, jptl', \n",
    "'gyxo (61)', \n",
    "'cntj (57)'\n",
    "]"
   ]
  },
  {
   "cell_type": "code",
   "execution_count": 6,
   "metadata": {
    "collapsed": true
   },
   "outputs": [],
   "source": [
    "test_parsed=[parse(t) for t in test]"
   ]
  },
  {
   "cell_type": "code",
   "execution_count": 7,
   "metadata": {},
   "outputs": [
    {
     "data": {
      "text/plain": [
       "[('pbga', 66, []),\n",
       " ('xhth', 57, []),\n",
       " ('ebii', 61, []),\n",
       " ('havc', 66, []),\n",
       " ('ktlj', 57, []),\n",
       " ('fwft', 72, ['ktlj', 'cntj', 'xhth']),\n",
       " ('qoyq', 66, []),\n",
       " ('padx', 45, ['pbga', 'havc', 'qoyq']),\n",
       " ('tknk', 41, ['ugml', 'padx', 'fwft']),\n",
       " ('jptl', 61, []),\n",
       " ('ugml', 68, ['gyxo', 'ebii', 'jptl']),\n",
       " ('gyxo', 61, []),\n",
       " ('cntj', 57, [])]"
      ]
     },
     "execution_count": 7,
     "metadata": {},
     "output_type": "execute_result"
    }
   ],
   "source": [
    "test_parsed"
   ]
  },
  {
   "cell_type": "code",
   "execution_count": 8,
   "metadata": {
    "collapsed": true
   },
   "outputs": [],
   "source": [
    "def find_bottom_name(array_of_parse):\n",
    "    \"\"\"Find the bottom name that is supporting other names, but noone supports him\"\"\"\n",
    "    all_names=[]\n",
    "    all_childs=[]\n",
    "    \n",
    "    for i in array_of_parse:\n",
    "        name=i[0]\n",
    "        childs=i[2]\n",
    "        \n",
    "        if childs!=[]:\n",
    "            all_names.append(name)\n",
    "            all_childs.extend(childs)\n",
    "    \n",
    "    for n in all_names:\n",
    "        if n not in all_childs:\n",
    "            return n\n",
    "    \n",
    "    return 'No bottom found'"
   ]
  },
  {
   "cell_type": "code",
   "execution_count": 9,
   "metadata": {},
   "outputs": [
    {
     "data": {
      "text/plain": [
       "'tknk'"
      ]
     },
     "execution_count": 9,
     "metadata": {},
     "output_type": "execute_result"
    }
   ],
   "source": [
    "find_bottom_name(test_parsed)"
   ]
  },
  {
   "cell_type": "code",
   "execution_count": 22,
   "metadata": {
    "collapsed": true
   },
   "outputs": [],
   "source": [
    "with open('inputs.txt','r') as f:\n",
    "    inputs=f.readlines()\n",
    "    inputs=[i.replace('\\n','') for i in inputs]"
   ]
  },
  {
   "cell_type": "code",
   "execution_count": 23,
   "metadata": {},
   "outputs": [
    {
     "data": {
      "text/plain": [
       "['hndzyx (28)',\n",
       " 'kdelzk (399)',\n",
       " 'uylvg (403) -> xrvcjq, hihltxf, junpjcj, onkvtu, cckdoyb, favay, xsygurk',\n",
       " 'jiyqd (842) -> vunjzqr, sfooljn, gsnlv',\n",
       " 'mxmzyac (67) -> pbwmrq, eiqjanp, dyanei, zmkuj, vkvvtm, ktlhztg']"
      ]
     },
     "execution_count": 23,
     "metadata": {},
     "output_type": "execute_result"
    }
   ],
   "source": [
    "inputs[:5]"
   ]
  },
  {
   "cell_type": "code",
   "execution_count": 12,
   "metadata": {},
   "outputs": [
    {
     "data": {
      "text/plain": [
       "'hlqnsbe'"
      ]
     },
     "execution_count": 12,
     "metadata": {},
     "output_type": "execute_result"
    }
   ],
   "source": [
    "find_bottom_name([parse(i) for i in inputs])"
   ]
  },
  {
   "cell_type": "markdown",
   "metadata": {
    "collapsed": true
   },
   "source": [
    "--- Part Two ---  \n",
    "The programs explain the situation: they can't get down. Rather, they could get down,  \n",
    "if they weren't expending all of their energy trying to keep the tower balanced.  \n",
    "Apparently, one program has the wrong weight, and until it's fixed, they're stuck here.\n",
    "\n",
    "For any program holding a disc, each program standing on that disc forms a sub-tower.  \n",
    "Each of those sub-towers are supposed to be the same weight,  \n",
    "or the disc itself isn't balanced. The weight of a tower is the sum of the weights of the programs in that tower.  \n",
    "\n",
    "In the example above, this means that for ugml's disc to be balanced,  \n",
    "gyxo, ebii, and jptl must all have the same weight, and they do: 61.  \n",
    "\n",
    "However, for tknk to be balanced, each of the programs standing on its disc  \n",
    "and all programs above it must each match. This means that the following sums must all be the same:  \n",
    "\n",
    "ugml + (gyxo + ebii + jptl) = 68 + (61 + 61 + 61) = 251  \n",
    "padx + (pbga + havc + qoyq) = 45 + (66 + 66 + 66) = 243  \n",
    "fwft + (ktlj + cntj + xhth) = 72 + (57 + 57 + 57) = 243  \n",
    "As you can see, tknk's disc is unbalanced: ugml's stack is heavier than the other two.  \n",
    "Even though the nodes above ugml are balanced, ugml itself is too heavy:  \n",
    "it needs to be 8 units lighter for its stack to weigh 243 and keep the towers balanced.  \n",
    "If this change were made, its weight would be 60.\n",
    "\n",
    "Given that exactly one program is the wrong weight,  \n",
    "what would its weight need to be to balance the entire tower?  "
   ]
  },
  {
   "cell_type": "code",
   "execution_count": 13,
   "metadata": {
    "collapsed": true
   },
   "outputs": [],
   "source": [
    "def get_info(name,array_of_parsed):\n",
    "    \"\"\"Input:name, Output:name,weight,child\"\"\"\n",
    "    for i in array_of_parsed:\n",
    "        if i[0]==name:\n",
    "            return i[0],i[1],i[2]\n",
    "    \n",
    "    return 'Failed',0,['Failed']"
   ]
  },
  {
   "cell_type": "code",
   "execution_count": 14,
   "metadata": {
    "collapsed": true
   },
   "outputs": [],
   "source": [
    "def get_weight(name,array_of_parsed):\n",
    "    \"\"\"Calculate weight supported at node 'name'\"\"\"\n",
    "    n1,weight,childs=get_info(name,array_of_parsed)\n",
    "    \n",
    "    if childs==[]:\n",
    "        return weight\n",
    "    else:\n",
    "        for i in childs:\n",
    "            n,w,c=get_info(i,array_of_parsed)\n",
    "            weight+=get_weight(n,array_of_parsed)\n",
    "    return weight\n",
    "                "
   ]
  },
  {
   "cell_type": "code",
   "execution_count": 15,
   "metadata": {},
   "outputs": [
    {
     "data": {
      "text/plain": [
       "('ugml', 68, ['gyxo', 'ebii', 'jptl'])"
      ]
     },
     "execution_count": 15,
     "metadata": {},
     "output_type": "execute_result"
    }
   ],
   "source": [
    "get_info('ugml',test_parsed)"
   ]
  },
  {
   "cell_type": "code",
   "execution_count": 16,
   "metadata": {},
   "outputs": [
    {
     "data": {
      "text/plain": [
       "251"
      ]
     },
     "execution_count": 16,
     "metadata": {},
     "output_type": "execute_result"
    }
   ],
   "source": [
    "get_weight('ugml',test_parsed)"
   ]
  },
  {
   "cell_type": "code",
   "execution_count": 20,
   "metadata": {
    "collapsed": true
   },
   "outputs": [],
   "source": [
    "def check_balance(name,array_of_parsed):\n",
    "    \"\"\"Return True if weights are okay, False if weights are imbalanced\"\"\"\n",
    "    n1,weight,childs=get_info(name,array_of_parsed)\n",
    "    \n",
    "    child_weights=[]\n",
    "    if childs==[]:\n",
    "        return True\n",
    "    elif childs!=[]:\n",
    "        for c in childs:\n",
    "            child_weights.append(get_weight(c,array_of_parsed))\n",
    "    \n",
    "    if all(x==child_weights[0] for x in child_weights): #Check if all terms are the same in list\n",
    "        return True\n",
    "    else:\n",
    "        return False"
   ]
  },
  {
   "cell_type": "code",
   "execution_count": 21,
   "metadata": {},
   "outputs": [
    {
     "name": "stdout",
     "output_type": "stream",
     "text": [
      "('tknk', 41, ['ugml', 'padx', 'fwft'])\n"
     ]
    }
   ],
   "source": [
    "for t in test_parsed:\n",
    "    if check_balance(t[0],test_parsed)==False:\n",
    "        print t"
   ]
  },
  {
   "cell_type": "code",
   "execution_count": 29,
   "metadata": {},
   "outputs": [],
   "source": [
    "inputs_parsed=[parse(i) for i in inputs]"
   ]
  },
  {
   "cell_type": "code",
   "execution_count": 30,
   "metadata": {},
   "outputs": [
    {
     "name": "stdout",
     "output_type": "stream",
     "text": [
      "('aurik', 2443, ['jriph', 'bykobk', 'uylvg', 'yxhntq', 'ywdvft'])\n",
      "('rilyl', 28969, ['aurik', 'fcmspin', 'hpqvzn', 'hymjivf', 'qgrkb'])\n",
      "('hlqnsbe', 77, ['rilyl', 'vhyiaf', 'pdvmaam', 'jkbuq'])\n"
     ]
    }
   ],
   "source": [
    "for i in inputs_parsed:\n",
    "    if check_balance(i[0],inputs_parsed)==False:\n",
    "        print i"
   ]
  },
  {
   "cell_type": "code",
   "execution_count": 31,
   "metadata": {
    "collapsed": true
   },
   "outputs": [],
   "source": [
    "# Given that only 1 node is at fault, we can focus on the earliest node -> 'aurik'"
   ]
  },
  {
   "cell_type": "code",
   "execution_count": 37,
   "metadata": {},
   "outputs": [
    {
     "name": "stdout",
     "output_type": "stream",
     "text": [
      "jriph 2102\n",
      "bykobk 2097\n",
      "uylvg 2097\n",
      "yxhntq 2097\n",
      "ywdvft 2097\n"
     ]
    }
   ],
   "source": [
    "for i in ['jriph', 'bykobk', 'uylvg', 'yxhntq', 'ywdvft']:\n",
    "    print i, get_weight(i,inputs_parsed)"
   ]
  },
  {
   "cell_type": "code",
   "execution_count": 42,
   "metadata": {},
   "outputs": [
    {
     "data": {
      "text/plain": [
       "('jriph', 1998, ['cqrqt', 'kibpy'])"
      ]
     },
     "execution_count": 42,
     "metadata": {},
     "output_type": "execute_result"
    }
   ],
   "source": [
    "get_info('jriph',inputs_parsed)"
   ]
  },
  {
   "cell_type": "code",
   "execution_count": 43,
   "metadata": {},
   "outputs": [
    {
     "name": "stdout",
     "output_type": "stream",
     "text": [
      "cqrqt 52\n",
      "kibpy 52\n"
     ]
    }
   ],
   "source": [
    "for i in ['cqrqt', 'kibpy']:\n",
    "    print i, get_weight(i,inputs_parsed)"
   ]
  },
  {
   "cell_type": "code",
   "execution_count": 44,
   "metadata": {},
   "outputs": [
    {
     "data": {
      "text/plain": [
       "1993"
      ]
     },
     "execution_count": 44,
     "metadata": {},
     "output_type": "execute_result"
    }
   ],
   "source": [
    "# Part 2 Ans\n",
    "# Weight of entire disc = weight of node + weight of children\n",
    "# 2097 = x + 52 + 52\n",
    "2097-52-52"
   ]
  }
 ],
 "metadata": {
  "kernelspec": {
   "display_name": "Python 2",
   "language": "python",
   "name": "python2"
  },
  "language_info": {
   "codemirror_mode": {
    "name": "ipython",
    "version": 2
   },
   "file_extension": ".py",
   "mimetype": "text/x-python",
   "name": "python",
   "nbconvert_exporter": "python",
   "pygments_lexer": "ipython2",
   "version": "2.7.14"
  }
 },
 "nbformat": 4,
 "nbformat_minor": 2
}
