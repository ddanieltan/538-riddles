{
 "cells": [
  {
   "cell_type": "markdown",
   "metadata": {},
   "source": [
    "--- Day 5: A Maze of Twisty Trampolines, All Alike ---  \n",
    "An urgent interrupt arrives from the CPU: it's trapped in a maze of jump instructions,  \n",
    "and it would like assistance from any programs with spare cycles to help find the exit.  \n",
    "\n",
    "The message includes a list of the offsets for each jump.   \n",
    "Jumps are relative: -1 moves to the previous instruction, and 2 skips the next one.  \n",
    "Start at the first instruction in the list.  \n",
    "The goal is to follow the jumps until one leads outside the list.  \n",
    "\n",
    "In addition, these instructions are a little strange; after each jump,  \n",
    "the offset of that instruction increases by 1. So, if you come across an offset of 3,  \n",
    "you would move three instructions forward, but change it to a 4 for the next time it is encountered.  \n",
    "\n",
    "For example, consider the following list of jump offsets:  \n",
    "\n",
    "0  \n",
    "3  \n",
    "0  \n",
    "1  \n",
    "-3  \n",
    "Positive jumps (\"forward\") move downward; negative jumps move upward.  \n",
    "For legibility in this example, these offset values will be written all on one line,  \n",
    "with the current instruction marked in parentheses.  \n",
    "The following steps would be taken before an exit is found:\n",
    "\n",
    "(0) 3  0  1  -3  - before we have taken any steps.  \n",
    "(1) 3  0  1  -3  - jump with offset 0 (that is, don't jump at all). Fortunately, the instruction is then incremented to 1.  \n",
    " 2 (3) 0  1  -3  - step forward because of the instruction we just modified. The first instruction is incremented again, now to 2.  \n",
    " 2  4  0  1 (-3) - jump all the way to the end; leave a 4 behind.  \n",
    " 2 (4) 0  1  -2  - go back to where we just were; increment -3 to -2.  \n",
    " 2  5  0  1  -2  - jump 4 steps forward, escaping the maze.  \n",
    "In this example, the exit is reached in 5 steps.  \n",
    "\n",
    "How many steps does it take to reach the exit?  "
   ]
  },
  {
   "cell_type": "code",
   "execution_count": 100,
   "metadata": {
    "collapsed": true
   },
   "outputs": [],
   "source": [
    "import numpy as np\n",
    "import pandas as pd"
   ]
  },
  {
   "cell_type": "code",
   "execution_count": 101,
   "metadata": {},
   "outputs": [
    {
     "data": {
      "text/plain": [
       "[0, 3, 0, 1, -3]"
      ]
     },
     "execution_count": 101,
     "metadata": {},
     "output_type": "execute_result"
    }
   ],
   "source": [
    "test=[0,3,0,1,-3]\n",
    "test"
   ]
  },
  {
   "cell_type": "code",
   "execution_count": 102,
   "metadata": {},
   "outputs": [],
   "source": [
    "def parse(position,value,array1):\n",
    "    \"\"\"Find current value in position, output new position, update current value\"\"\"\n",
    "    new_position=position+value\n",
    "    array1[position]+=1\n",
    "    return new_position"
   ]
  },
  {
   "cell_type": "code",
   "execution_count": 103,
   "metadata": {
    "collapsed": true
   },
   "outputs": [],
   "source": [
    "def run(array1):\n",
    "\n",
    "    steps=0\n",
    "    position=0\n",
    "\n",
    "    try:\n",
    "        while position<=len(array1):\n",
    "            position=parse(position,array1[position],array1)\n",
    "            steps+=1\n",
    "    except IndexError as e:\n",
    "        print e\n",
    "\n",
    "    return steps"
   ]
  },
  {
   "cell_type": "code",
   "execution_count": 104,
   "metadata": {
    "collapsed": true
   },
   "outputs": [],
   "source": [
    "## ending condition is when position=length of list +1"
   ]
  },
  {
   "cell_type": "code",
   "execution_count": 105,
   "metadata": {},
   "outputs": [
    {
     "name": "stdout",
     "output_type": "stream",
     "text": [
      "list index out of range\n"
     ]
    },
    {
     "data": {
      "text/plain": [
       "5"
      ]
     },
     "execution_count": 105,
     "metadata": {},
     "output_type": "execute_result"
    }
   ],
   "source": [
    "run(test)"
   ]
  },
  {
   "cell_type": "code",
   "execution_count": 112,
   "metadata": {},
   "outputs": [],
   "source": [
    "with open('input.txt','r') as f:\n",
    "    inputs=f.readlines()\n",
    "    inputs=[int(i.strip('\\n')) for i in inputs]\n"
   ]
  },
  {
   "cell_type": "code",
   "execution_count": 113,
   "metadata": {},
   "outputs": [
    {
     "data": {
      "text/plain": [
       "[0, 1, 0, 0, 1]"
      ]
     },
     "execution_count": 113,
     "metadata": {},
     "output_type": "execute_result"
    }
   ],
   "source": [
    "inputs[:5]"
   ]
  },
  {
   "cell_type": "code",
   "execution_count": 108,
   "metadata": {},
   "outputs": [
    {
     "name": "stdout",
     "output_type": "stream",
     "text": [
      "list index out of range\n"
     ]
    },
    {
     "data": {
      "text/plain": [
       "372139"
      ]
     },
     "execution_count": 108,
     "metadata": {},
     "output_type": "execute_result"
    }
   ],
   "source": [
    "run(inputs)"
   ]
  },
  {
   "cell_type": "markdown",
   "metadata": {},
   "source": [
    "--- Part Two ---  \n",
    "Now, the jumps are even stranger: after each jump,  \n",
    "if the offset was three or more, instead decrease it by 1.  \n",
    "Otherwise, increase it by 1 as before.  \n",
    "\n",
    "Using this rule with the above example, the process now takes 10 steps,  \n",
    "and the offset values after finding the exit are left as 2 3 2 3 -1.  \n",
    "\n",
    "How many steps does it now take to reach the exit?  \n",
    "\n"
   ]
  },
  {
   "cell_type": "code",
   "execution_count": 109,
   "metadata": {
    "collapsed": true
   },
   "outputs": [],
   "source": [
    "def parse2(position,value,array1):\n",
    "    \"\"\"Find current value in position, output new position, update current value\"\"\"\n",
    "    \n",
    "    new_position=position+value\n",
    "    if value>=3:\n",
    "        array1[position]-=1\n",
    "    else:\n",
    "        array1[position]+=1    \n",
    "    return new_position"
   ]
  },
  {
   "cell_type": "code",
   "execution_count": 110,
   "metadata": {
    "collapsed": true
   },
   "outputs": [],
   "source": [
    "def run2(array1):\n",
    "\n",
    "    steps=0\n",
    "    position=0\n",
    "\n",
    "    try:\n",
    "        while position<=len(array1):\n",
    "            #print array1\n",
    "            position=parse2(position,array1[position],array1)\n",
    "            steps+=1\n",
    "    except IndexError as e:\n",
    "        print e\n",
    "\n",
    "    return steps"
   ]
  },
  {
   "cell_type": "code",
   "execution_count": 111,
   "metadata": {},
   "outputs": [
    {
     "name": "stdout",
     "output_type": "stream",
     "text": [
      "list index out of range\n"
     ]
    },
    {
     "data": {
      "text/plain": [
       "10"
      ]
     },
     "execution_count": 111,
     "metadata": {},
     "output_type": "execute_result"
    }
   ],
   "source": [
    "run2([0,3,0,1,-3])"
   ]
  },
  {
   "cell_type": "code",
   "execution_count": 114,
   "metadata": {},
   "outputs": [
    {
     "name": "stdout",
     "output_type": "stream",
     "text": [
      "list index out of range\n"
     ]
    },
    {
     "data": {
      "text/plain": [
       "29629538"
      ]
     },
     "execution_count": 114,
     "metadata": {},
     "output_type": "execute_result"
    }
   ],
   "source": [
    "run2(inputs)"
   ]
  }
 ],
 "metadata": {
  "kernelspec": {
   "display_name": "Python 2",
   "language": "python",
   "name": "python2"
  },
  "language_info": {
   "codemirror_mode": {
    "name": "ipython",
    "version": 2
   },
   "file_extension": ".py",
   "mimetype": "text/x-python",
   "name": "python",
   "nbconvert_exporter": "python",
   "pygments_lexer": "ipython2",
   "version": "2.7.14"
  }
 },
 "nbformat": 4,
 "nbformat_minor": 2
}
