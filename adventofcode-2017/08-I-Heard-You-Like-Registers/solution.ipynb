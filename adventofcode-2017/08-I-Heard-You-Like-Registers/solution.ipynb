{
 "cells": [
  {
   "cell_type": "markdown",
   "metadata": {},
   "source": [
    "--- Day 8: I Heard You Like Registers ---  \n",
    "You receive a signal directly from the CPU.  \n",
    "Because of your recent assistance with jump instructions,  \n",
    "it would like you to compute the result of a series of unusual register instructions.  \n",
    "\n",
    "Each instruction consists of several parts:  \n",
    "the register to modify, whether to increase or decrease that register's value,  \n",
    "the amount by which to increase or decrease it, and a condition.  \n",
    "If the condition fails, skip the instruction without modifying the register.  \n",
    "The registers all start at 0. The instructions look like this:  \n",
    "\n",
    "b inc 5 if a > 1  \n",
    "a inc 1 if b < 5  \n",
    "c dec -10 if a >= 1  \n",
    "c inc -20 if c == 10  \n",
    "These instructions would be processed as follows:  \n",
    "\n",
    "Because a starts at 0, it is not greater than 1, and so b is not modified.  \n",
    "a is increased by 1 (to 1) because b is less than 5 (it is 0).  \n",
    "c is decreased by -10 (to 10) because a is now greater than or equal to 1 (it is 1).  \n",
    "c is increased by -20 (to -10) because c is equal to 10.  \n",
    "After this process, the largest value in any register is 1.  \n",
    "\n",
    "You might also encounter <= (less than or equal to) or != (not equal to).  \n",
    "However, the CPU doesn't have the bandwidth to tell you what all the registers are named,  \n",
    "and leaves that to you to determine.  \n",
    "\n",
    "What is the largest value in any register after completing the instructions in your puzzle input?  "
   ]
  },
  {
   "cell_type": "code",
   "execution_count": 36,
   "metadata": {
    "collapsed": true
   },
   "outputs": [],
   "source": [
    "import numpy as np\n",
    "import pandas as pd\n",
    "import operator #https://docs.python.org/2/library/operator.html"
   ]
  },
  {
   "cell_type": "code",
   "execution_count": 37,
   "metadata": {
    "collapsed": true
   },
   "outputs": [],
   "source": [
    "def parse(string):\n",
    "    \"\"\" Parse out name, inc/dec, condition\"\"\"\n",
    "    s=string.split(' ') #['b', 'inc', '5', 'if', 'a', '>', '1']\n",
    "    \n",
    "    name=s[0]\n",
    "    change=s[1]\n",
    "    steps=int(s[2])\n",
    "    conditions=[s[-3],s[-2],int(s[-1])]\n",
    "    \n",
    "    return name,change,steps,conditions"
   ]
  },
  {
   "cell_type": "code",
   "execution_count": 38,
   "metadata": {},
   "outputs": [
    {
     "data": {
      "text/plain": [
       "('b', 'inc', 5, ['a', '>', 1])"
      ]
     },
     "execution_count": 38,
     "metadata": {},
     "output_type": "execute_result"
    }
   ],
   "source": [
    "parse('b inc 5 if a > 1')"
   ]
  },
  {
   "cell_type": "code",
   "execution_count": 39,
   "metadata": {},
   "outputs": [
    {
     "data": {
      "text/plain": [
       "('bmm', 'inc', 977, ['k', '<=', -739])"
      ]
     },
     "execution_count": 39,
     "metadata": {},
     "output_type": "execute_result"
    }
   ],
   "source": [
    "parse('bmm inc 977 if k <= -739')"
   ]
  },
  {
   "cell_type": "code",
   "execution_count": 40,
   "metadata": {
    "collapsed": true
   },
   "outputs": [],
   "source": [
    "test=[\n",
    "'b inc 5 if a > 1',\n",
    "'a inc 1 if b < 5',\n",
    "'c dec -10 if a >= 1',\n",
    "'c inc -20 if c == 10'\n",
    "]"
   ]
  },
  {
   "cell_type": "code",
   "execution_count": 41,
   "metadata": {},
   "outputs": [
    {
     "data": {
      "text/plain": [
       "[('b', 'inc', 5, ['a', '>', 1]),\n",
       " ('a', 'inc', 1, ['b', '<', 5]),\n",
       " ('c', 'dec', -10, ['a', '>=', 1]),\n",
       " ('c', 'inc', -20, ['c', '==', 10])]"
      ]
     },
     "execution_count": 41,
     "metadata": {},
     "output_type": "execute_result"
    }
   ],
   "source": [
    "test_parsed=[parse(t) for t in test]\n",
    "test_parsed"
   ]
  },
  {
   "cell_type": "code",
   "execution_count": 42,
   "metadata": {
    "collapsed": true
   },
   "outputs": [],
   "source": [
    "# Create all names, start with value 0\n",
    "main={} #empty dict\n",
    "for t in test_parsed:\n",
    "    main[t[0]]=0"
   ]
  },
  {
   "cell_type": "code",
   "execution_count": 43,
   "metadata": {},
   "outputs": [
    {
     "data": {
      "text/plain": [
       "{'a': 0, 'b': 0, 'c': 0}"
      ]
     },
     "execution_count": 43,
     "metadata": {},
     "output_type": "execute_result"
    }
   ],
   "source": [
    "main"
   ]
  },
  {
   "cell_type": "code",
   "execution_count": 44,
   "metadata": {},
   "outputs": [],
   "source": [
    "main['a']+=1"
   ]
  },
  {
   "cell_type": "code",
   "execution_count": 45,
   "metadata": {},
   "outputs": [
    {
     "data": {
      "text/plain": [
       "{'a': 1, 'b': 0, 'c': 0}"
      ]
     },
     "execution_count": 45,
     "metadata": {},
     "output_type": "execute_result"
    }
   ],
   "source": [
    "main"
   ]
  },
  {
   "cell_type": "code",
   "execution_count": 46,
   "metadata": {
    "collapsed": true
   },
   "outputs": [],
   "source": [
    "def check_condition(array_of_conditions,dictionary):\n",
    "    name=array_of_conditions[0]\n",
    "    sign=array_of_conditions[1]\n",
    "    back=array_of_conditions[2]\n",
    "    \n",
    "    front=dictionary[name]\n",
    "    \n",
    "    if sign=='>':\n",
    "        return operator.gt(front,back)\n",
    "    elif sign=='>=':\n",
    "        return operator.ge(front,back)\n",
    "    elif sign=='<':\n",
    "        return operator.lt(front,back)\n",
    "    elif sign=='<=':\n",
    "        return operator.le(front,back)\n",
    "    elif sign=='==':\n",
    "        return operator.eq(front,back)\n",
    "    elif sign=='!=':\n",
    "        return operator.ne(front,back)"
   ]
  },
  {
   "cell_type": "code",
   "execution_count": 47,
   "metadata": {
    "collapsed": true
   },
   "outputs": [],
   "source": [
    "def compute(name,change,steps,conditions,dictionary):\n",
    "    if check_condition(conditions,dictionary):\n",
    "        if change=='inc':\n",
    "            dictionary[name]+=steps\n",
    "        elif change=='dec':\n",
    "            dictionary[name]-=steps\n",
    "        "
   ]
  },
  {
   "cell_type": "code",
   "execution_count": 48,
   "metadata": {},
   "outputs": [],
   "source": [
    "for t in test_parsed:\n",
    "    compute(t[0],t[1],t[2],t[3],main)"
   ]
  },
  {
   "cell_type": "code",
   "execution_count": 49,
   "metadata": {},
   "outputs": [
    {
     "data": {
      "text/plain": [
       "{'a': 2, 'b': 0, 'c': -10}"
      ]
     },
     "execution_count": 49,
     "metadata": {},
     "output_type": "execute_result"
    }
   ],
   "source": [
    "main"
   ]
  },
  {
   "cell_type": "code",
   "execution_count": 50,
   "metadata": {},
   "outputs": [
    {
     "data": {
      "text/plain": [
       "2"
      ]
     },
     "execution_count": 50,
     "metadata": {},
     "output_type": "execute_result"
    }
   ],
   "source": [
    "max(main.values())"
   ]
  },
  {
   "cell_type": "code",
   "execution_count": 51,
   "metadata": {},
   "outputs": [
    {
     "data": {
      "text/plain": [
       "['v inc 523 if t == 6',\n",
       " 'qen dec -450 if lht != 10',\n",
       " 'jyg dec -378 if lb != -6',\n",
       " 'k inc -994 if z < 6',\n",
       " 'gjr inc -698 if hbq < 9']"
      ]
     },
     "execution_count": 51,
     "metadata": {},
     "output_type": "execute_result"
    }
   ],
   "source": [
    "with open('inputs.txt','r') as f:\n",
    "    inputs=f.readlines()\n",
    "    inputs=[i.replace('\\n','') for i in inputs]\n",
    "inputs[:5]"
   ]
  },
  {
   "cell_type": "code",
   "execution_count": 52,
   "metadata": {},
   "outputs": [
    {
     "data": {
      "text/plain": [
       "[('v', 'inc', 523, ['t', '==', 6]),\n",
       " ('qen', 'dec', -450, ['lht', '!=', 10]),\n",
       " ('jyg', 'dec', -378, ['lb', '!=', -6]),\n",
       " ('k', 'inc', -994, ['z', '<', 6]),\n",
       " ('gjr', 'inc', -698, ['hbq', '<', 9])]"
      ]
     },
     "execution_count": 52,
     "metadata": {},
     "output_type": "execute_result"
    }
   ],
   "source": [
    "inputs_parsed=[parse(i) for i in inputs]\n",
    "inputs_parsed[:5]"
   ]
  },
  {
   "cell_type": "code",
   "execution_count": 53,
   "metadata": {
    "collapsed": true
   },
   "outputs": [],
   "source": [
    "main={} #empty dict\n",
    "for t in inputs_parsed:\n",
    "    main[t[0]]=0"
   ]
  },
  {
   "cell_type": "code",
   "execution_count": 54,
   "metadata": {
    "collapsed": true
   },
   "outputs": [],
   "source": [
    "for t in inputs_parsed:\n",
    "    compute(t[0],t[1],t[2],t[3],main)"
   ]
  },
  {
   "cell_type": "code",
   "execution_count": 55,
   "metadata": {},
   "outputs": [
    {
     "data": {
      "text/plain": [
       "{'bmm': -2801,\n",
       " 'cj': 1328,\n",
       " 'ee': -3860,\n",
       " 'erl': -5233,\n",
       " 'fg': -1234,\n",
       " 'g': -542,\n",
       " 'gjr': 328,\n",
       " 'gx': -989,\n",
       " 'hbq': 1525,\n",
       " 'iwd': -2340,\n",
       " 'jpc': -1859,\n",
       " 'jyg': -1846,\n",
       " 'k': -1240,\n",
       " 'kfw': -6156,\n",
       " 'lb': 1571,\n",
       " 'lht': -4440,\n",
       " 'ml': -5686,\n",
       " 'mpj': -1,\n",
       " 'osr': -3833,\n",
       " 'pv': -952,\n",
       " 'qen': 3612,\n",
       " 't': -6133,\n",
       " 'tu': 277,\n",
       " 'u': -1685,\n",
       " 'uz': -800,\n",
       " 'v': 256,\n",
       " 'z': -6365}"
      ]
     },
     "execution_count": 55,
     "metadata": {},
     "output_type": "execute_result"
    }
   ],
   "source": [
    "main"
   ]
  },
  {
   "cell_type": "code",
   "execution_count": 56,
   "metadata": {},
   "outputs": [
    {
     "data": {
      "text/plain": [
       "3612"
      ]
     },
     "execution_count": 56,
     "metadata": {},
     "output_type": "execute_result"
    }
   ],
   "source": [
    "max(main.values())"
   ]
  },
  {
   "cell_type": "markdown",
   "metadata": {},
   "source": [
    "--- Part Two ---  \n",
    "To be safe, the CPU also needs to know the highest value held in any register during this process  \n",
    "so that it can decide how much memory to allocate to these operations.  \n",
    "For example, in the above instructions, the highest value ever held was 10  \n",
    "(in register c after the third instruction was evaluated)."
   ]
  },
  {
   "cell_type": "code",
   "execution_count": 63,
   "metadata": {
    "collapsed": true
   },
   "outputs": [],
   "source": [
    "def compute2(name,change,steps,conditions,dictionary):\n",
    "    max_value=max(dictionary.values())\n",
    "    if check_condition(conditions,dictionary):\n",
    "        if change=='inc':\n",
    "            dictionary[name]+=steps\n",
    "            if max(dictionary.values())>max_value:\n",
    "                max_value=max(dictionary.values())  \n",
    "            \n",
    "        elif change=='dec':\n",
    "            dictionary[name]-=steps\n",
    "            if max(dictionary.values())>max_value:\n",
    "                max_value=max(dictionary.values())\n",
    "    return max_value"
   ]
  },
  {
   "cell_type": "code",
   "execution_count": 64,
   "metadata": {},
   "outputs": [
    {
     "data": {
      "text/plain": [
       "10"
      ]
     },
     "execution_count": 64,
     "metadata": {},
     "output_type": "execute_result"
    }
   ],
   "source": [
    "#Test case\n",
    "main={} #empty dict\n",
    "for t in test_parsed:\n",
    "    main[t[0]]=0\n",
    "\n",
    "max_values=[]\n",
    "for t in test_parsed:\n",
    "    max_values.append(compute2(t[0],t[1],t[2],t[3],main))\n",
    "    \n",
    "max(max_values)"
   ]
  },
  {
   "cell_type": "code",
   "execution_count": 65,
   "metadata": {},
   "outputs": [
    {
     "data": {
      "text/plain": [
       "3818"
      ]
     },
     "execution_count": 65,
     "metadata": {},
     "output_type": "execute_result"
    }
   ],
   "source": [
    "#Solution for part 2\n",
    "main={} #empty dict\n",
    "for t in inputs_parsed:\n",
    "    main[t[0]]=0\n",
    "\n",
    "max_values=[]\n",
    "for t in inputs_parsed:\n",
    "    max_values.append(compute2(t[0],t[1],t[2],t[3],main))\n",
    "    \n",
    "max(max_values)"
   ]
  },
  {
   "cell_type": "code",
   "execution_count": null,
   "metadata": {
    "collapsed": true
   },
   "outputs": [],
   "source": []
  }
 ],
 "metadata": {
  "kernelspec": {
   "display_name": "Python 2",
   "language": "python",
   "name": "python2"
  },
  "language_info": {
   "codemirror_mode": {
    "name": "ipython",
    "version": 2
   },
   "file_extension": ".py",
   "mimetype": "text/x-python",
   "name": "python",
   "nbconvert_exporter": "python",
   "pygments_lexer": "ipython2",
   "version": "2.7.14"
  }
 },
 "nbformat": 4,
 "nbformat_minor": 2
}
