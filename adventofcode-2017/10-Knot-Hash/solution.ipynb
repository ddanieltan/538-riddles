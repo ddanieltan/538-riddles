{
 "cells": [
  {
   "cell_type": "markdown",
   "metadata": {},
   "source": [
    "--- Day 10: Knot Hash ---  \n",
    "\n",
    "You come across some programs that are trying to implement a software emulation of a hash based on knot-tying.  \n",
    "The hash these programs are implementing isn't very strong, but you decide to help them anyway.  \n",
    "You make a mental note to remind the Elves later not to invent their own cryptographic functions.  \n",
    "\n",
    "This hash function simulates tying a knot in a circle of string with 256 marks on it.  \n",
    "Based on the input to be hashed, the function repeatedly selects a span of string, brings the ends together,  \n",
    "and gives the span a half-twist to reverse the order of the marks within it.  \n",
    "After doing this many times, the order of the marks is used to build the resulting hash.  \n",
    "\n",
    "  4--5   pinch   4  5           4   1  \n",
    " /    \\  5,0,1  / \\/ \\  twist  / \\ / \\  \n",
    "3      0  -->  3      0  -->  3   X   0  \n",
    " \\    /         \\ /\\ /         \\ / \\ /  \n",
    "  2--1           2  1           2   5  \n",
    "  \n",
    "To achieve this, begin with a list of numbers from 0 to 255, a current position which begins at 0 (the first element in the list),  \n",
    "a skip size (which starts at 0), and a sequence of lengths (your puzzle input).  \n",
    "Then, for each length:  \n",
    "\n",
    "Reverse the order of that length of elements in the list, starting with the element at the current position.  \n",
    "Move the current position forward by that length plus the skip size.  \n",
    "Increase the skip size by one.  \n",
    "The list is circular; if the current position and the length try to reverse elements beyond the end of the list,  \n",
    "the operation reverses using as many extra elements as it needs from the front of the list. If the current position   moves past the end of the list, it wraps around to the front. Lengths larger than the size of the list are invalid.  \n",
    "  \n",
    "Here's an example using a smaller list:  \n",
    "\n",
    "Suppose we instead only had a circular list containing five elements, 0, 1, 2, 3, 4,  \n",
    "and were given input lengths of 3, 4, 1, 5.  \n",
    "\n",
    "The list begins as [0] 1 2 3 4 (where square brackets indicate the current position).  \n",
    "The first length, 3, selects ([0] 1 2) 3 4 (where parentheses indicate the sublist to be reversed).  \n",
    "After reversing that section (0 1 2 into 2 1 0), we get ([2] 1 0) 3 4.  \n",
    "Then, the current position moves forward by the length, 3, plus the skip size, 0: 2 1 0 [3] 4.  \n",
    "Finally, the skip size increases to 1.  \n",
    "The second length, 4, selects a section which wraps: 2 1) 0 ([3] 4.  \n",
    "The sublist 3 4 2 1 is reversed to form 1 2 4 3: 4 3) 0 ([1] 2.  \n",
    "The current position moves forward by the length plus the skip size, a total of 5, causing it not to move because it wraps around: 4 3 0 [1] 2. The skip size increases to 2.  \n",
    "The third length, 1, selects a sublist of a single element, and so reversing it has no effect.  \n",
    "The current position moves forward by the length (1) plus the skip size (2): 4 [3] 0 1 2.  \n",
    "The skip size increases to 3.  \n",
    "The fourth length, 5, selects every element starting with the second: 4) ([3] 0 1 2.  \n",
    "Reversing this sublist (3 0 1 2 4 into 4 2 1 0 3) produces: 3) ([4] 2 1 0.  \n",
    "Finally, the current position moves forward by 8: 3 4 2 1 [0]. The skip size increases to 4.  \n",
    "In this example, the first two numbers in the list end up being 3 and 4; to check the process, you can multiply them together to produce 12.  \n",
    "\n",
    "However, you should instead use the standard list size of 256 (with values 0 to 255) and the sequence of lengths in your puzzle input.  \n",
    "Once this process is complete, what is the result of multiplying the first two numbers in the list?  \n"
   ]
  },
  {
   "cell_type": "code",
   "execution_count": 1,
   "metadata": {
    "collapsed": true
   },
   "outputs": [],
   "source": [
    "import numpy as np"
   ]
  },
  {
   "cell_type": "code",
   "execution_count": 2,
   "metadata": {
    "collapsed": true
   },
   "outputs": [],
   "source": [
    "\n"
   ]
  },
  {
   "cell_type": "code",
   "execution_count": 54,
   "metadata": {
    "collapsed": true
   },
   "outputs": [],
   "source": [
    "def process(length, starting_index, skip, array1):\n",
    "    \"\"\"Takes in a length, starting index. Return amended array\"\"\"\n",
    "    \n",
    "    # Reversing subset\n",
    "    subset=array1[starting_index:starting_index+length]\n",
    "    subset.reverse()\n",
    "    \n",
    "    out_array=[]\n",
    "    if starting_index==0: #[(0,1,2),3,4]\n",
    "        remainder=array1[starting_index+length:]\n",
    "        out_array=subset+remainder\n",
    "    elif starting_index+length==len(array1): #[0,1,(2,3,4)]\n",
    "        remainder=array1[:starting_index]\n",
    "        out_array=remainder+subset\n",
    "    else: #[1,2, (...), 7,8,9]\n",
    "        r1=list(array1[:starting_index])\n",
    "        r2=array1[starting_index+length:]\n",
    "        out_array=r1+subset+r2\n",
    "    \n",
    "    #Moving to new index\n",
    "    if starting_index+length<len(array1):\n",
    "        new_index=starting_index+length+skip\n",
    "    else:\n",
    "        new_index=((starting_index+length)%len(array1))+skip\n",
    "    \n",
    "    #Add 1 to skip\n",
    "    skip+=1\n",
    "    \n",
    "    return out_array, new_index, skip"
   ]
  },
  {
   "cell_type": "code",
   "execution_count": 50,
   "metadata": {},
   "outputs": [
    {
     "data": {
      "text/plain": [
       "(None, 2, 1)"
      ]
     },
     "execution_count": 50,
     "metadata": {},
     "output_type": "execute_result"
    }
   ],
   "source": [
    "process(2,0,0,[0,1,2,3,4])"
   ]
  },
  {
   "cell_type": "code",
   "execution_count": 51,
   "metadata": {},
   "outputs": [
    {
     "data": {
      "text/plain": [
       "[1, 2, 3, 4, 5]"
      ]
     },
     "execution_count": 51,
     "metadata": {},
     "output_type": "execute_result"
    }
   ],
   "source": [
    "[1,2,3]+[4,5]"
   ]
  },
  {
   "cell_type": "code",
   "execution_count": 56,
   "metadata": {},
   "outputs": [
    {
     "data": {
      "text/plain": [
       "([0, 1, 2, 5, 4, 3, 6, 7], 6, 1)"
      ]
     },
     "execution_count": 56,
     "metadata": {},
     "output_type": "execute_result"
    }
   ],
   "source": [
    "process(3,3,0,[0,1,2,3,4,5,6,7])"
   ]
  },
  {
   "cell_type": "code",
   "execution_count": 22,
   "metadata": {
    "collapsed": true
   },
   "outputs": [],
   "source": [
    "test=[0,1,2,3,4]"
   ]
  },
  {
   "cell_type": "code",
   "execution_count": 60,
   "metadata": {},
   "outputs": [
    {
     "name": "stdout",
     "output_type": "stream",
     "text": [
      "[2, 1, 0, 3, 4] 3 1\n",
      "[2, 1, 0, 4, 3] 3 2\n",
      "[2, 1, 0, 4, 3] 6 3\n",
      "[2, 1, 0, 4, 3] 5 4\n"
     ]
    }
   ],
   "source": [
    "#Test case\n",
    "current_index=0\n",
    "skip=0\n",
    "lengths=[3,4,1,6]\n",
    "ans=[0,1,2,3,4]\n",
    "\n",
    "for l in lengths:\n",
    "    ans,current_index,skip=process(l,current_index,skip,ans)\n",
    "    print ans,current_index,skip\n",
    "    \n",
    "    "
   ]
  },
  {
   "cell_type": "code",
   "execution_count": 58,
   "metadata": {},
   "outputs": [
    {
     "data": {
      "text/plain": [
       "[2, 1, 0, 4, 3]"
      ]
     },
     "execution_count": 58,
     "metadata": {},
     "output_type": "execute_result"
    }
   ],
   "source": [
    "ans"
   ]
  },
  {
   "cell_type": "code",
   "execution_count": 25,
   "metadata": {},
   "outputs": [
    {
     "data": {
      "text/plain": [
       "0"
      ]
     },
     "execution_count": 25,
     "metadata": {},
     "output_type": "execute_result"
    }
   ],
   "source": [
    "10%5"
   ]
  },
  {
   "cell_type": "code",
   "execution_count": 23,
   "metadata": {},
   "outputs": [
    {
     "ename": "IndexError",
     "evalue": "list index out of range",
     "output_type": "error",
     "traceback": [
      "\u001b[0;31m---------------------------------------------------------------------------\u001b[0m",
      "\u001b[0;31mIndexError\u001b[0m                                Traceback (most recent call last)",
      "\u001b[0;32m<ipython-input-23-b6a934feab86>\u001b[0m in \u001b[0;36m<module>\u001b[0;34m()\u001b[0m\n\u001b[0;32m----> 1\u001b[0;31m \u001b[0ma\u001b[0m\u001b[0;34m[\u001b[0m\u001b[0;36m5\u001b[0m\u001b[0;34m]\u001b[0m\u001b[0;34m\u001b[0m\u001b[0m\n\u001b[0m",
      "\u001b[0;31mIndexError\u001b[0m: list index out of range"
     ]
    }
   ],
   "source": [
    "a[5]"
   ]
  },
  {
   "cell_type": "code",
   "execution_count": 18,
   "metadata": {},
   "outputs": [],
   "source": [
    "a.reverse()"
   ]
  },
  {
   "cell_type": "code",
   "execution_count": 19,
   "metadata": {},
   "outputs": [
    {
     "data": {
      "text/plain": [
       "[4, 3, 2, 1, 0]"
      ]
     },
     "execution_count": 19,
     "metadata": {},
     "output_type": "execute_result"
    }
   ],
   "source": [
    "a"
   ]
  },
  {
   "cell_type": "code",
   "execution_count": 17,
   "metadata": {},
   "outputs": [],
   "source": [
    "a[2:5].reverse()"
   ]
  },
  {
   "cell_type": "code",
   "execution_count": 9,
   "metadata": {},
   "outputs": [
    {
     "data": {
      "text/plain": [
       "[4]"
      ]
     },
     "execution_count": 9,
     "metadata": {},
     "output_type": "execute_result"
    }
   ],
   "source": [
    "a[4:]"
   ]
  },
  {
   "cell_type": "code",
   "execution_count": 11,
   "metadata": {},
   "outputs": [
    {
     "data": {
      "text/plain": [
       "[0, 1]"
      ]
     },
     "execution_count": 11,
     "metadata": {},
     "output_type": "execute_result"
    }
   ],
   "source": [
    "a[:2]"
   ]
  },
  {
   "cell_type": "code",
   "execution_count": null,
   "metadata": {
    "collapsed": true
   },
   "outputs": [],
   "source": []
  }
 ],
 "metadata": {
  "kernelspec": {
   "display_name": "Python 2",
   "language": "python",
   "name": "python2"
  },
  "language_info": {
   "codemirror_mode": {
    "name": "ipython",
    "version": 2
   },
   "file_extension": ".py",
   "mimetype": "text/x-python",
   "name": "python",
   "nbconvert_exporter": "python",
   "pygments_lexer": "ipython2",
   "version": "2.7.14"
  }
 },
 "nbformat": 4,
 "nbformat_minor": 2
}
