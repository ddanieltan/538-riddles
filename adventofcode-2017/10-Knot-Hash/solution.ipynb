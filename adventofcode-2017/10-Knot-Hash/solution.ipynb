{
 "cells": [
  {
   "cell_type": "markdown",
   "metadata": {},
   "source": [
    "--- Day 10: Knot Hash ---  \n",
    "\n",
    "You come across some programs that are trying to implement a software emulation of a hash based on knot-tying.  \n",
    "The hash these programs are implementing isn't very strong, but you decide to help them anyway.  \n",
    "You make a mental note to remind the Elves later not to invent their own cryptographic functions.  \n",
    "\n",
    "This hash function simulates tying a knot in a circle of string with 256 marks on it.  \n",
    "Based on the input to be hashed, the function repeatedly selects a span of string, brings the ends together,  \n",
    "and gives the span a half-twist to reverse the order of the marks within it.  \n",
    "After doing this many times, the order of the marks is used to build the resulting hash.  \n",
    "\n",
    "  4--5   pinch   4  5           4   1  \n",
    " /    \\  5,0,1  / \\/ \\  twist  / \\ / \\  \n",
    "3      0  -->  3      0  -->  3   X   0  \n",
    " \\    /         \\ /\\ /         \\ / \\ /  \n",
    "  2--1           2  1           2   5  \n",
    "  \n",
    "To achieve this, begin with a list of numbers from 0 to 255, a current position which begins at 0 (the first element in the list),  \n",
    "a skip size (which starts at 0), and a sequence of lengths (your puzzle input).  \n",
    "Then, for each length:  \n",
    "\n",
    "Reverse the order of that length of elements in the list, starting with the element at the current position.  \n",
    "Move the current position forward by that length plus the skip size.  \n",
    "Increase the skip size by one.  \n",
    "The list is circular; if the current position and the length try to reverse elements beyond the end of the list,  \n",
    "the operation reverses using as many extra elements as it needs from the front of the list. If the current position   moves past the end of the list, it wraps around to the front. Lengths larger than the size of the list are invalid.  \n",
    "  \n",
    "Here's an example using a smaller list:  \n",
    "\n",
    "Suppose we instead only had a circular list containing five elements, 0, 1, 2, 3, 4,  \n",
    "and were given input lengths of 3, 4, 1, 5.  \n",
    "\n",
    "The list begins as [0] 1 2 3 4 (where square brackets indicate the current position).  \n",
    "The first length, 3, selects ([0] 1 2) 3 4 (where parentheses indicate the sublist to be reversed).  \n",
    "After reversing that section (0 1 2 into 2 1 0), we get ([2] 1 0) 3 4.  \n",
    "Then, the current position moves forward by the length, 3, plus the skip size, 0: 2 1 0 [3] 4.  \n",
    "Finally, the skip size increases to 1.  \n",
    "The second length, 4, selects a section which wraps: 2 1) 0 ([3] 4.  \n",
    "The sublist 3 4 2 1 is reversed to form 1 2 4 3: 4 3) 0 ([1] 2.  \n",
    "The current position moves forward by the length plus the skip size, a total of 5, causing it not to move because it wraps around: 4 3 0 [1] 2. The skip size increases to 2.  \n",
    "The third length, 1, selects a sublist of a single element, and so reversing it has no effect.  \n",
    "The current position moves forward by the length (1) plus the skip size (2): 4 [3] 0 1 2.  \n",
    "The skip size increases to 3.  \n",
    "The fourth length, 5, selects every element starting with the second: 4) ([3] 0 1 2.  \n",
    "Reversing this sublist (3 0 1 2 4 into 4 2 1 0 3) produces: 3) ([4] 2 1 0.  \n",
    "Finally, the current position moves forward by 8: 3 4 2 1 [0]. The skip size increases to 4.  \n",
    "In this example, the first two numbers in the list end up being 3 and 4; to check the process, you can multiply them together to produce 12.  \n",
    "\n",
    "However, you should instead use the standard list size of 256 (with values 0 to 255) and the sequence of lengths in your puzzle input.  \n",
    "Once this process is complete, what is the result of multiplying the first two numbers in the list?  \n"
   ]
  },
  {
   "cell_type": "code",
   "execution_count": 1,
   "metadata": {
    "collapsed": true
   },
   "outputs": [],
   "source": [
    "import numpy as np"
   ]
  },
  {
   "cell_type": "code",
   "execution_count": 10,
   "metadata": {
    "collapsed": true
   },
   "outputs": [],
   "source": [
    "def process(length, starting_index, skip, array1):\n",
    "    \"\"\"Takes in a length, starting index. Return amended array\"\"\"\n",
    "    \n",
    "    # roll array\n",
    "    rolled=np.roll(array1,-starting_index)\n",
    "    \n",
    "    # Reversing subset\n",
    "    subset=rolled[:length]\n",
    "    subset=np.flip(subset,axis=0) #Reversing np array\n",
    "    \n",
    "    # joining back\n",
    "    output=np.concatenate((subset,rolled[length:]),axis=0)\n",
    "    \n",
    "    # roll back\n",
    "    output=np.roll(output,starting_index)\n",
    "    \n",
    "    # calculate new index\n",
    "    new_index=((starting_index+length)%len(array1))+skip\n",
    "    \n",
    "    #Add 1 to skip\n",
    "    skip+=1\n",
    "    \n",
    "    return output, new_index, skip"
   ]
  },
  {
   "cell_type": "code",
   "execution_count": 9,
   "metadata": {},
   "outputs": [
    {
     "data": {
      "text/plain": [
       "array([3, 2, 1])"
      ]
     },
     "execution_count": 9,
     "metadata": {},
     "output_type": "execute_result"
    }
   ],
   "source": [
    "np.flip(np.roll([0,1,2,3],-1)[:3],axis=0)"
   ]
  },
  {
   "cell_type": "code",
   "execution_count": 11,
   "metadata": {},
   "outputs": [
    {
     "data": {
      "text/plain": [
       "(array([1, 0, 2, 3, 4]), 2, 1)"
      ]
     },
     "execution_count": 11,
     "metadata": {},
     "output_type": "execute_result"
    }
   ],
   "source": [
    "process(2,0,0,[0,1,2,3,4])"
   ]
  },
  {
   "cell_type": "code",
   "execution_count": 56,
   "metadata": {},
   "outputs": [
    {
     "data": {
      "text/plain": [
       "([0, 1, 2, 5, 4, 3, 6, 7], 6, 1)"
      ]
     },
     "execution_count": 56,
     "metadata": {},
     "output_type": "execute_result"
    }
   ],
   "source": [
    "process(3,3,0,[0,1,2,3,4,5,6,7])"
   ]
  },
  {
   "cell_type": "code",
   "execution_count": 51,
   "metadata": {},
   "outputs": [
    {
     "data": {
      "text/plain": [
       "[1, 2, 3, 4, 5]"
      ]
     },
     "execution_count": 51,
     "metadata": {},
     "output_type": "execute_result"
    }
   ],
   "source": [
    "[1,2,3]+[4,5]"
   ]
  },
  {
   "cell_type": "code",
   "execution_count": 22,
   "metadata": {
    "collapsed": true
   },
   "outputs": [],
   "source": [
    "test=[0,1,2,3,4]"
   ]
  },
  {
   "cell_type": "code",
   "execution_count": 12,
   "metadata": {},
   "outputs": [
    {
     "name": "stdout",
     "output_type": "stream",
     "text": [
      "[2 1 0 3 4] 3 1\n",
      "[4 3 0 1 2] 3 2\n",
      "[4 3 0 1 2] 6 3\n",
      "[3 4 2 1 0] 5 4\n"
     ]
    }
   ],
   "source": [
    "#Test case\n",
    "current_index=0\n",
    "skip=0\n",
    "lengths=[3,4,1,6]\n",
    "ans=[0,1,2,3,4]\n",
    "\n",
    "for l in lengths:\n",
    "    ans,current_index,skip=process(l,current_index,skip,ans)\n",
    "    print ans,current_index,skip\n",
    "    \n",
    "    "
   ]
  },
  {
   "cell_type": "code",
   "execution_count": 13,
   "metadata": {},
   "outputs": [
    {
     "data": {
      "text/plain": [
       "12"
      ]
     },
     "execution_count": 13,
     "metadata": {},
     "output_type": "execute_result"
    }
   ],
   "source": [
    "# Ans for Test\n",
    "ans[0]*ans[1]"
   ]
  },
  {
   "cell_type": "code",
   "execution_count": 15,
   "metadata": {},
   "outputs": [],
   "source": [
    "# Part 1 Inputs\n",
    "\n",
    "\n",
    "current_index=0\n",
    "skip=0\n",
    "lengths=[199,0,255,136,174,254,227,16,51,85,1,2,22,17,7,192]\n",
    "ans=range(256) #0,1..,255\n",
    "\n",
    "for l in lengths:\n",
    "    ans,current_index,skip=process(l,current_index,skip,ans)\n",
    "    #print ans,current_index,skip"
   ]
  },
  {
   "cell_type": "code",
   "execution_count": 16,
   "metadata": {},
   "outputs": [
    {
     "data": {
      "text/plain": [
       "3770"
      ]
     },
     "execution_count": 16,
     "metadata": {},
     "output_type": "execute_result"
    }
   ],
   "source": [
    "# Ans for Part 1\n",
    "ans[0]*ans[1]"
   ]
  },
  {
   "cell_type": "markdown",
   "metadata": {},
   "source": [
    "--- Part Two ---  \n",
    "The logic you've constructed forms a single round of the Knot Hash algorithm;  \n",
    "running the full thing requires many of these rounds.  \n",
    "Some input and output processing is also required.  \n",
    "\n",
    "First, from now on, your input should be taken not as a list of numbers, but as a string of bytes instead.  \n",
    "Unless otherwise specified, convert characters to bytes using their ASCII codes.  \n",
    "This will allow you to handle arbitrary ASCII strings, and it also ensures that your input lengths are never larger than 255.  \n",
    "For example, if you are given 1,2,3,  \n",
    "you should convert it to the ASCII codes for each character: 49,44,50,44,51.  \n",
    "\n",
    "Once you have determined the sequence of lengths to use,  \n",
    "add the following lengths to the end of the sequence: 17, 31, 73, 47, 23.  \n",
    "For example, if you are given 1,2,3, your final sequence of lengths should be 49,44,50,44,51,17,31,73,47,23 (the ASCII codes from the input string combined with the standard length suffix values).  \n",
    "\n",
    "Second, instead of merely running one round like you did above,  \n",
    "run a total of 64 rounds, using the same length sequence in each round.  \n",
    "The current position and skip size should be preserved between rounds.  \n",
    "For example, if the previous example was your first round, you would start your second round with the same length sequence (3, 4, 1, 5, 17, 31, 73, 47, 23,  \n",
    "now assuming they came from ASCII codes and include the suffix), but start with the previous round's current position (4) and skip size (4).  \n",
    "\n",
    "Once the rounds are complete, you will be left with the numbers from 0 to 255 in some order, called the sparse hash. Your next task is to reduce these to a list of only 16 numbers called the dense hash.  \n",
    "To do this, use numeric bitwise XOR to combine each consecutive block of 16 numbers in the sparse hash (there are 16 such blocks in a list of 256 numbers).  \n",
    "So, the first element in the dense hash is the first sixteen elements of the sparse hash XOR'd together, the second element in the dense hash is the second sixteen elements of the sparse hash XOR'd together, etc.  \n",
    "\n",
    "For example, if the first sixteen elements of your sparse hash are as shown below, and the XOR operator is ^,  \n",
    "you would calculate the first output number like this:  \n",
    "\n",
    "65 ^ 27 ^ 9 ^ 1 ^ 4 ^ 3 ^ 40 ^ 50 ^ 91 ^ 7 ^ 6 ^ 0 ^ 2 ^ 5 ^ 68 ^ 22 = 64  \n",
    "Perform this operation on each of the sixteen blocks of sixteen numbers in your sparse hash to determine the sixteen numbers in your dense hash.  \n",
    "\n",
    "Finally, the standard way to represent a Knot Hash is as a single hexadecimal string;  \n",
    "the final output is the dense hash in hexadecimal notation.  \n",
    "Because each number in your dense hash will be between 0 and 255 (inclusive),  \n",
    "always represent each number as two hexadecimal digits (including a leading zero as necessary).  \n",
    "So, if your first three numbers are 64, 7, 255, they correspond to the hexadecimal numbers 40, 07, ff,  \n",
    "and so the first six characters of the hash would be 4007ff.  \n",
    "Because every Knot Hash is sixteen such numbers, the hexadecimal representation is always 32 hexadecimal digits (0-f) long.  \n",
    "\n",
    "Here are some example hashes:  \n",
    "\n",
    "The empty string becomes a2582a3a0e66e6e86e3812dcb672a272.  \n",
    "AoC 2017 becomes 33efeb34ea91902bb2f59c9920caa6cd.  \n",
    "1,2,3 becomes 3efbe78a8d82f29979031a4aa0b16a9d.  \n",
    "1,2,4 becomes 63960835bcdc130f0b66d7ff4f6a5a8e.  \n",
    "Treating your puzzle input as a string of ASCII characters, what is the Knot Hash of your puzzle input?  \n",
    "Ignore any leading or trailing whitespace you might encounter.  "
   ]
  },
  {
   "cell_type": "code",
   "execution_count": 72,
   "metadata": {},
   "outputs": [
    {
     "data": {
      "text/plain": [
       "str"
      ]
     },
     "execution_count": 72,
     "metadata": {},
     "output_type": "execute_result"
    }
   ],
   "source": [
    "type(hex(7)[2:])"
   ]
  },
  {
   "cell_type": "code",
   "execution_count": 83,
   "metadata": {},
   "outputs": [
    {
     "data": {
      "text/plain": [
       "'ff'"
      ]
     },
     "execution_count": 83,
     "metadata": {},
     "output_type": "execute_result"
    }
   ],
   "source": [
    "\"{:02x}\".format(255)"
   ]
  },
  {
   "cell_type": "code",
   "execution_count": 70,
   "metadata": {},
   "outputs": [
    {
     "data": {
      "text/plain": [
       "'0x40'"
      ]
     },
     "execution_count": 70,
     "metadata": {},
     "output_type": "execute_result"
    }
   ],
   "source": [
    "hex(64).format(2)"
   ]
  },
  {
   "cell_type": "code",
   "execution_count": 38,
   "metadata": {
    "collapsed": true
   },
   "outputs": [],
   "source": [
    "def convert_to_ascii(string):\n",
    "    output=[]\n",
    "    for l in string:\n",
    "        output.append(ord(l)) # ord(string) returns ASCII code\n",
    "    return output+[17, 31, 73, 47, 23] #standard suffix"
   ]
  },
  {
   "cell_type": "code",
   "execution_count": 40,
   "metadata": {},
   "outputs": [
    {
     "data": {
      "text/plain": [
       "[49, 44, 50, 44, 51, 17, 31, 73, 47, 23]"
      ]
     },
     "execution_count": 40,
     "metadata": {},
     "output_type": "execute_result"
    }
   ],
   "source": [
    "convert_to_ascii('1,2,3')"
   ]
  },
  {
   "cell_type": "code",
   "execution_count": 41,
   "metadata": {},
   "outputs": [],
   "source": [
    "# Part 2\n",
    "current_index=0\n",
    "skip=0\n",
    "lengths=convert_to_ascii('199,0,255,136,174,254,227,16,51,85,1,2,22,17,7,192')\n",
    "ans=range(256) #0,1..,255\n"
   ]
  },
  {
   "cell_type": "code",
   "execution_count": 42,
   "metadata": {},
   "outputs": [
    {
     "data": {
      "text/plain": [
       "[49, 57, 57, 44, 48]"
      ]
     },
     "execution_count": 42,
     "metadata": {},
     "output_type": "execute_result"
    }
   ],
   "source": [
    "lengths[:5] #199,0"
   ]
  },
  {
   "cell_type": "code",
   "execution_count": 44,
   "metadata": {},
   "outputs": [],
   "source": [
    "for i in range(64):\n",
    "    for l in lengths:\n",
    "        ans,current_index,skip=process(l,current_index,skip,ans)\n",
    "\n"
   ]
  },
  {
   "cell_type": "code",
   "execution_count": 45,
   "metadata": {},
   "outputs": [
    {
     "data": {
      "text/plain": [
       "array([ 38, 111,  35,  15,  81, 250, 121, 218,   5,  76, 166, 186, 174,\n",
       "       157,  47, 141,  80, 140, 161, 126, 241,  90, 234, 135,  21,  77,\n",
       "       130, 236, 201, 208,   3,  57, 193, 153, 165, 238, 242,  60, 211,\n",
       "       125, 179,   9,  48, 198, 144,  39, 108,   2, 182,  56,  26,  37,\n",
       "       118, 227, 185, 117, 137, 253, 142,  72, 168,  65,  36,  17, 222,\n",
       "       143, 107, 184, 230,  61, 255, 102,  98,  32, 205,  96, 180, 217,\n",
       "       156, 151,  91, 188, 122, 204, 101, 216, 202,  44,  34, 228, 172,\n",
       "        43,  64,   7, 232,  52, 213,  23, 114,  10, 148, 147, 225,  94,\n",
       "         6,  20, 219, 178, 189, 192, 150, 133, 243, 123, 167,  55, 177,\n",
       "       170, 129,  86,  31, 171,  54, 239,  84,  13, 115, 223, 119, 195,\n",
       "       104,   1, 206, 169, 181, 136, 221, 120, 163,  49, 183,  59,  33,\n",
       "       154,  25, 209,  69,  58,  45,  53, 149, 207,  67, 196, 116,  66,\n",
       "       235,  63,  93, 155, 200,  27,  75,  62, 124, 191, 164, 249,  12,\n",
       "        29, 246, 199,  70, 109,  14, 152,  40,  19, 160, 132, 248, 105,\n",
       "        50,   8,  71, 233,  83,  92, 173, 252,  89, 134, 212,  68, 240,\n",
       "        97, 224, 231, 226, 112,  51,  99, 229, 110,  18, 139, 244, 128,\n",
       "       215, 194,  79,  11,  46, 103,  73,  42,  16, 210, 138,  85, 159,\n",
       "       214,  88, 106, 190, 251, 237, 146, 162,  95, 145, 113,  78, 158,\n",
       "        82,  30,  74, 131,  22,  41, 247,  87, 254, 127,  24,  28, 175,\n",
       "         4, 100, 176,   0, 197, 220, 203, 187, 245])"
      ]
     },
     "execution_count": 45,
     "metadata": {},
     "output_type": "execute_result"
    }
   ],
   "source": [
    "ans #sparse hash"
   ]
  },
  {
   "cell_type": "code",
   "execution_count": 78,
   "metadata": {
    "collapsed": true
   },
   "outputs": [],
   "source": [
    "def convert_sparse_to_dense_hash(array1):\n",
    "    array_list=[ans[i:i+16] for i in range(0,len(ans),16)] #slicing array into chunks of 16\n",
    "    \n",
    "    hex_integers=[]\n",
    "    for a in array_list:\n",
    "        hex_integers.append(a[0]^a[1]^a[2]^a[3]^a[4]^a[5]^a[6]^a[7]^\\\n",
    "                            a[8]^a[9]^a[10]^a[11]^a[12]^a[13]^a[14]^a[15])\n",
    "    print hex_integers\n",
    "    \n",
    "    hex_output=''\n",
    "    for h in hex_integers:\n",
    "        hex_output+=\"{:02x}\".format(h) #\n",
    "    \n",
    "    return hex_output"
   ]
  },
  {
   "cell_type": "code",
   "execution_count": 55,
   "metadata": {},
   "outputs": [
    {
     "data": {
      "text/plain": [
       "array([ 38, 111,  35,  15,  81, 250, 121, 218,   5,  76, 166, 186, 174,\n",
       "       157,  47, 141])"
      ]
     },
     "execution_count": 55,
     "metadata": {},
     "output_type": "execute_result"
    }
   ],
   "source": [
    "ans[0:16]"
   ]
  },
  {
   "cell_type": "code",
   "execution_count": 76,
   "metadata": {},
   "outputs": [
    {
     "data": {
      "text/plain": [
       "16"
      ]
     },
     "execution_count": 76,
     "metadata": {},
     "output_type": "execute_result"
    }
   ],
   "source": [
    "[ans[i:i+16] for i in range(0,len(ans),16)] #slicing array into chunks of 16"
   ]
  },
  {
   "cell_type": "code",
   "execution_count": 77,
   "metadata": {},
   "outputs": [
    {
     "data": {
      "text/plain": [
       "256"
      ]
     },
     "execution_count": 77,
     "metadata": {},
     "output_type": "execute_result"
    }
   ],
   "source": [
    "len(ans)"
   ]
  },
  {
   "cell_type": "code",
   "execution_count": 79,
   "metadata": {},
   "outputs": [
    {
     "name": "stdout",
     "output_type": "stream",
     "text": [
      "[169, 208, 230, 134, 73, 208, 23, 76, 135, 86, 165, 155, 162, 29, 77, 198]\n",
      "a9L\n",
      "d0L\n",
      "e6L\n",
      "86L\n",
      "49L\n",
      "d0L\n",
      "17L\n",
      "4cL\n",
      "87L\n",
      "56L\n",
      "a5L\n",
      "9bL\n",
      "a2L\n",
      "1dL\n",
      "4dL\n",
      "c6L\n"
     ]
    },
    {
     "data": {
      "text/plain": [
       "'a9Ld0Le6L86L49Ld0L17L4cL87L56La5L9bLa2L1dL4dLc6L'"
      ]
     },
     "execution_count": 79,
     "metadata": {},
     "output_type": "execute_result"
    }
   ],
   "source": [
    "convert_sparse_to_dense_hash(ans)"
   ]
  },
  {
   "cell_type": "code",
   "execution_count": null,
   "metadata": {
    "collapsed": true
   },
   "outputs": [],
   "source": []
  }
 ],
 "metadata": {
  "kernelspec": {
   "display_name": "Python 2",
   "language": "python",
   "name": "python2"
  },
  "language_info": {
   "codemirror_mode": {
    "name": "ipython",
    "version": 2
   },
   "file_extension": ".py",
   "mimetype": "text/x-python",
   "name": "python",
   "nbconvert_exporter": "python",
   "pygments_lexer": "ipython2",
   "version": "2.7.13"
  }
 },
 "nbformat": 4,
 "nbformat_minor": 2
}
