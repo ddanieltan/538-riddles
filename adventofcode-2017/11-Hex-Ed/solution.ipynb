{
 "cells": [
  {
   "cell_type": "markdown",
   "metadata": {},
   "source": [
    "--- Day 11: Hex Ed ---  \n",
    "Crossing the bridge, you've barely reached the other side of the stream when a program comes up to you,  \n",
    "clearly in distress. \"It's my child process,\" she says, \"he's gotten lost in an infinite grid!\"  \n",
    "\n",
    "Fortunately for her, you have plenty of experience with infinite grids.  \n",
    "\n",
    "Unfortunately for you, it's a hex grid.  \n",
    "\n",
    "The hexagons (\"hexes\") in this grid are aligned such that adjacent hexes can be found to the north, northeast, southeast, south, southwest, and northwest:  \n",
    "\n",
    "  \\ n  /  \n",
    "nw +--+ ne  \n",
    "  /    \\  \n",
    "-+      +-  \n",
    "  \\    /  \n",
    "sw +--+ se  \n",
    "  / s  \\  \n",
    "You have the path the child process took.  \n",
    "Starting where he started, you need to determine the fewest number of steps required to reach him.  \n",
    "(A \"step\" means to move from the hex you are in to any adjacent hex.)  \n",
    "\n",
    "For example:  \n",
    "\n",
    "ne,ne,ne is 3 steps away.  \n",
    "ne,ne,sw,sw is 0 steps away (back where you started).  \n",
    "ne,ne,s,s is 2 steps away (se,se).  \n",
    "se,sw,se,sw,sw is 3 steps away (s,s,sw).  "
   ]
  },
  {
   "cell_type": "code",
   "execution_count": 1,
   "metadata": {
    "collapsed": true
   },
   "outputs": [],
   "source": [
    "import numpy as np"
   ]
  },
  {
   "cell_type": "code",
   "execution_count": null,
   "metadata": {
    "collapsed": true
   },
   "outputs": [],
   "source": [
    "# Amazing explanation\n",
    "# https://www.redblobgames.com/grids/hexagons/"
   ]
  },
  {
   "cell_type": "code",
   "execution_count": null,
   "metadata": {
    "collapsed": true
   },
   "outputs": [],
   "source": [
    "# Our grid is a flat-top grid and I will use cube grids notation"
   ]
  },
  {
   "cell_type": "code",
   "execution_count": 1,
   "metadata": {
    "collapsed": true
   },
   "outputs": [],
   "source": [
    "# Dictionary of movements and the x,y,z displacement for 1 step\n",
    "# Cube(x,y,z)\n",
    "\n",
    "moves={ \n",
    "    'n':[0,1,-1],\n",
    "    'ne':[1,0,-1],\n",
    "    'se':[1,-1,0],\n",
    "    's':[0,-1,1],\n",
    "    'sw':[-1,0,1],\n",
    "    'nw':[-1,1,0]\n",
    "}"
   ]
  },
  {
   "cell_type": "code",
   "execution_count": 2,
   "metadata": {},
   "outputs": [
    {
     "data": {
      "text/plain": [
       "[1, 0, -1]"
      ]
     },
     "execution_count": 2,
     "metadata": {},
     "output_type": "execute_result"
    }
   ],
   "source": [
    "moves['ne']"
   ]
  },
  {
   "cell_type": "code",
   "execution_count": 3,
   "metadata": {
    "collapsed": true
   },
   "outputs": [],
   "source": [
    "def cube_manhattan(cube_a,cube_b):\n",
    "    \"\"\"Return min. # of steps between 2 cube locations\"\"\"\n",
    "    \n",
    "    return (abs(cube_a[0]-cube_b[0])\\\n",
    "            +abs(cube_a[1]-cube_b[1])\\\n",
    "            +abs(cube_a[2]-cube_b[2]))/2"
   ]
  },
  {
   "cell_type": "code",
   "execution_count": 4,
   "metadata": {
    "collapsed": true
   },
   "outputs": [],
   "source": [
    "current_position=[0,0,0]\n",
    "instructions=['ne','ne','ne']\n",
    "\n",
    "for i in instructions:\n",
    "    current_position=[x+y for x,y in zip(current_position,moves[i])] \n",
    "\n",
    "\n"
   ]
  },
  {
   "cell_type": "code",
   "execution_count": 5,
   "metadata": {},
   "outputs": [
    {
     "data": {
      "text/plain": [
       "[3, 0, -3]"
      ]
     },
     "execution_count": 5,
     "metadata": {},
     "output_type": "execute_result"
    }
   ],
   "source": [
    "current_position"
   ]
  },
  {
   "cell_type": "code",
   "execution_count": 6,
   "metadata": {},
   "outputs": [
    {
     "data": {
      "text/plain": [
       "3"
      ]
     },
     "execution_count": 6,
     "metadata": {},
     "output_type": "execute_result"
    }
   ],
   "source": [
    "cube_manhattan(current_position,[0,0,0])"
   ]
  },
  {
   "cell_type": "code",
   "execution_count": 7,
   "metadata": {},
   "outputs": [
    {
     "data": {
      "text/plain": [
       "[1, -1, 0]"
      ]
     },
     "execution_count": 7,
     "metadata": {},
     "output_type": "execute_result"
    }
   ],
   "source": [
    "[x+y for x,y in zip([0,0,0],[1,-1,0])] #using zip to add 2 lists by index"
   ]
  },
  {
   "cell_type": "code",
   "execution_count": 8,
   "metadata": {
    "collapsed": true
   },
   "outputs": [],
   "source": [
    "with open('inputs.txt','r') as f:\n",
    "    inputs=f.readlines()\n",
    "    inputs=[i.split(',') for i in inputs]\n",
    "\n"
   ]
  },
  {
   "cell_type": "code",
   "execution_count": 9,
   "metadata": {},
   "outputs": [
    {
     "data": {
      "text/plain": [
       "['se', 's', 'ne', 'sw', 'sw']"
      ]
     },
     "execution_count": 9,
     "metadata": {},
     "output_type": "execute_result"
    }
   ],
   "source": [
    "inputs=inputs[0]\n",
    "inputs[:5]"
   ]
  },
  {
   "cell_type": "code",
   "execution_count": 10,
   "metadata": {},
   "outputs": [],
   "source": [
    "# Part 1\n",
    "current_position=[0,0,0]\n",
    "\n",
    "for i in inputs:\n",
    "    current_position=[x+y for x,y in zip(current_position,moves[i])] "
   ]
  },
  {
   "cell_type": "code",
   "execution_count": 11,
   "metadata": {},
   "outputs": [
    {
     "data": {
      "text/plain": [
       "[327, 395, -722]"
      ]
     },
     "execution_count": 11,
     "metadata": {},
     "output_type": "execute_result"
    }
   ],
   "source": [
    "current_position"
   ]
  },
  {
   "cell_type": "code",
   "execution_count": 12,
   "metadata": {},
   "outputs": [
    {
     "data": {
      "text/plain": [
       "722"
      ]
     },
     "execution_count": 12,
     "metadata": {},
     "output_type": "execute_result"
    }
   ],
   "source": [
    "cube_manhattan(current_position,[0,0,0])"
   ]
  },
  {
   "cell_type": "code",
   "execution_count": null,
   "metadata": {
    "collapsed": true
   },
   "outputs": [],
   "source": [
    "## Part 2"
   ]
  }
 ],
 "metadata": {
  "kernelspec": {
   "display_name": "Python 2",
   "language": "python",
   "name": "python2"
  },
  "language_info": {
   "codemirror_mode": {
    "name": "ipython",
    "version": 2
   },
   "file_extension": ".py",
   "mimetype": "text/x-python",
   "name": "python",
   "nbconvert_exporter": "python",
   "pygments_lexer": "ipython2",
   "version": "2.7.14"
  }
 },
 "nbformat": 4,
 "nbformat_minor": 2
}
