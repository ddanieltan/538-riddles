{
 "cells": [
  {
   "cell_type": "markdown",
   "metadata": {},
   "source": [
    "--- Day 12: Digital Plumber ---  \n",
    "Walking along the memory banks of the stream, you find a small village that is experiencing a little confusion:  \n",
    "some programs can't communicate with each other.  \n",
    "\n",
    "Programs in this village communicate using a fixed system of pipes.  \n",
    "Messages are passed between programs using these pipes, but most programs aren't connected to each other directly.   Instead, programs pass messages between each other until the message reaches the intended recipient.  \n",
    "\n",
    "For some reason, though, some of these messages aren't ever reaching their intended recipient,  \n",
    "and the programs suspect that some pipes are missing. They would like you to investigate.  \n",
    "\n",
    "You walk through the village and record the ID of each program  \n",
    "and the IDs with which it can communicate directly (your puzzle input).  \n",
    "Each program has one or more programs with which it can communicate,  \n",
    "and these pipes are bidirectional;  \n",
    "if 8 says it can communicate with 11, then 11 will say it can communicate with 8.  \n",
    "\n",
    "You need to figure out how many programs are in the group that contains program ID 0.  \n",
    "\n",
    "For example, suppose you go door-to-door like a travelling salesman and record the following list:  \n",
    "\n",
    "0 <-> 2  \n",
    "1 <-> 1  \n",
    "2 <-> 0, 3, 4  \n",
    "3 <-> 2, 4   \n",
    "4 <-> 2, 3, 6  \n",
    "5 <-> 6  \n",
    "6 <-> 4, 5  \n",
    "\n",
    "In this example, the following programs are in the group that contains program ID 0:  \n",
    "\n",
    "Program 0 by definition.  \n",
    "Program 2, directly connected to program 0.  \n",
    "Program 3 via program 2.  \n",
    "Program 4 via program 2.  \n",
    "Program 5 via programs 6, then 4, then 2.  \n",
    "Program 6 via programs 4, then 2.  \n",
    "Therefore, a total of 6 programs are in this group;  \n",
    "all but program 1, which has a pipe that connects it to itself.  \n",
    "\n",
    "How many programs are in the group that contains program ID 0?  "
   ]
  },
  {
   "cell_type": "code",
   "execution_count": 1,
   "metadata": {
    "collapsed": true
   },
   "outputs": [],
   "source": [
    "import numpy as np"
   ]
  },
  {
   "cell_type": "code",
   "execution_count": 19,
   "metadata": {
    "collapsed": true
   },
   "outputs": [],
   "source": [
    "dictionary={\n",
    "    0:[2],\n",
    "    1:[1],\n",
    "    2:[0,3,4],\n",
    "    3:[2,4],\n",
    "    4:[2,3,6],\n",
    "    5:[6],\n",
    "    6:[4,5]\n",
    "}"
   ]
  },
  {
   "cell_type": "code",
   "execution_count": 13,
   "metadata": {
    "collapsed": true
   },
   "outputs": [],
   "source": [
    "# back tracking algorithm modified from https://www.python.org/doc/essays/graphs/\n",
    "\n",
    "def check_connected(dictionary,start,end,path=[]):\n",
    "    \"\"\"Return path if start and end are connected, else return None\"\"\"\n",
    "    path=path+[start]\n",
    "    if start==end:\n",
    "        return path\n",
    "    for node in dictionary[start]:\n",
    "        if node not in path:\n",
    "            newpath=check_connected(dictionary,node,end,path)\n",
    "            if newpath: return newpath\n",
    "    return None"
   ]
  },
  {
   "cell_type": "code",
   "execution_count": 17,
   "metadata": {
    "collapsed": true
   },
   "outputs": [],
   "source": [
    "# original algo\n",
    "def find_path(graph, start, end, path=[]):\n",
    "        path = path + [start]\n",
    "        if start == end:\n",
    "            return path\n",
    "        if not graph.has_key(start):\n",
    "            return None\n",
    "        for node in graph[start]:\n",
    "            if node not in path:\n",
    "                newpath = find_path(graph, node, end, path)\n",
    "                if newpath: return newpath\n",
    "        return None"
   ]
  },
  {
   "cell_type": "code",
   "execution_count": 20,
   "metadata": {},
   "outputs": [
    {
     "data": {
      "text/plain": [
       "[2, 0]"
      ]
     },
     "execution_count": 20,
     "metadata": {},
     "output_type": "execute_result"
    }
   ],
   "source": [
    "check_connected(dictionary,2,0)"
   ]
  },
  {
   "cell_type": "code",
   "execution_count": 21,
   "metadata": {},
   "outputs": [
    {
     "data": {
      "text/plain": [
       "[0, 2]"
      ]
     },
     "execution_count": 21,
     "metadata": {},
     "output_type": "execute_result"
    }
   ],
   "source": [
    "check_connected(dictionary,0,2)"
   ]
  },
  {
   "cell_type": "code",
   "execution_count": 22,
   "metadata": {},
   "outputs": [
    {
     "data": {
      "text/plain": [
       "[0, 2, 3]"
      ]
     },
     "execution_count": 22,
     "metadata": {},
     "output_type": "execute_result"
    }
   ],
   "source": [
    "check_connected(dictionary,0,3)"
   ]
  },
  {
   "cell_type": "code",
   "execution_count": 23,
   "metadata": {},
   "outputs": [
    {
     "data": {
      "text/plain": [
       "[0, 2, 3, 4, 6]"
      ]
     },
     "execution_count": 23,
     "metadata": {},
     "output_type": "execute_result"
    }
   ],
   "source": [
    "check_connected(dictionary,0,6)"
   ]
  },
  {
   "cell_type": "code",
   "execution_count": 29,
   "metadata": {},
   "outputs": [],
   "source": [
    "def count_nodes(dictionary, target,counter=0):\n",
    "    \"\"\"Count the number of nodes that connect to target node\"\"\"\n",
    "    for key, value in dictionary.iteritems():\n",
    "        if check_connected(dictionary,key,target):\n",
    "            counter+=1\n",
    "    return counter"
   ]
  },
  {
   "cell_type": "code",
   "execution_count": 30,
   "metadata": {},
   "outputs": [
    {
     "data": {
      "text/plain": [
       "6"
      ]
     },
     "execution_count": 30,
     "metadata": {},
     "output_type": "execute_result"
    }
   ],
   "source": [
    "count_nodes(dictionary,0)"
   ]
  },
  {
   "cell_type": "code",
   "execution_count": 39,
   "metadata": {},
   "outputs": [
    {
     "name": "stdout",
     "output_type": "stream",
     "text": [
      "['0 <-> 46, 1376', '1 <-> 1465, 1889', '2 <-> 609, 1578', '3 <-> 3, 1003, 1133, 1887', '4 <-> 467, 1282']\n",
      "[0, 1, 2, 3, 4]\n",
      "[['46', '1376'], ['1465', '1889'], ['609', '1578'], ['3', '1003', '1133', '1887'], ['467', '1282']]\n"
     ]
    }
   ],
   "source": [
    "with open('inputs.txt','r') as f:\n",
    "    inputs=f.readlines()\n",
    "    inputs=[i.strip('\\n') for i in inputs]\n",
    "    keys=[int(i.split(' <')[0]) for i in inputs]\n",
    "    values=[i.split('> ')[1] for i in inputs]\n",
    "    values=[v.split(', ') for v in values]\n",
    "print inputs[:5]\n",
    "print keys[:5]\n",
    "print values[:5]"
   ]
  },
  {
   "cell_type": "code",
   "execution_count": 40,
   "metadata": {},
   "outputs": [
    {
     "name": "stdout",
     "output_type": "stream",
     "text": [
      "[[46, 1376], [1465, 1889], [609, 1578], [3, 1003, 1133, 1887], [467, 1282]]\n"
     ]
    }
   ],
   "source": [
    "# I can't find a more pythonic way to parse int from a comma separated string\n",
    "values2=[]\n",
    "for v in values:\n",
    "    entry=[int(a) for a in v]\n",
    "    values2.append(entry)\n",
    "print values2[:5]"
   ]
  },
  {
   "cell_type": "code",
   "execution_count": 47,
   "metadata": {},
   "outputs": [],
   "source": [
    "# create new dictionary\n",
    "dictionary={}\n",
    "for k,v in zip(keys,values2):\n",
    "    dictionary[k]=v"
   ]
  },
  {
   "cell_type": "code",
   "execution_count": 51,
   "metadata": {},
   "outputs": [
    {
     "data": {
      "text/plain": [
       "{0: [46, 1376],\n",
       " 1: [1465, 1889],\n",
       " 2: [609, 1578],\n",
       " 3: [3, 1003, 1133, 1887],\n",
       " 4: [467, 1282]}"
      ]
     },
     "execution_count": 51,
     "metadata": {},
     "output_type": "execute_result"
    }
   ],
   "source": [
    "dict(dictionary.items()[0:5]) #hack to view head of dictionary"
   ]
  },
  {
   "cell_type": "code",
   "execution_count": 52,
   "metadata": {},
   "outputs": [
    {
     "data": {
      "text/plain": [
       "152"
      ]
     },
     "execution_count": 52,
     "metadata": {},
     "output_type": "execute_result"
    }
   ],
   "source": [
    "count_nodes(dictionary,0)"
   ]
  },
  {
   "cell_type": "markdown",
   "metadata": {},
   "source": [
    "--- Part Two ---  \n",
    "There are more programs than just the ones in the group containing program ID 0.  \n",
    "The rest of them have no way of reaching that group, and still might have no way of reaching each other.  \n",
    "\n",
    "A group is a collection of programs that can all communicate via pipes either directly or indirectly.  \n",
    "The programs you identified just a moment ago are all part of the same group.  \n",
    "Now, they would like you to determine the total number of groups.  \n",
    "\n",
    "In the example above, there were 2 groups: one consisting of programs 0,2,3,4,5,6,  \n",
    "and the other consisting solely of program 1.  \n",
    "\n",
    "How many groups are there in total?  "
   ]
  },
  {
   "cell_type": "code",
   "execution_count": null,
   "metadata": {
    "collapsed": true
   },
   "outputs": [],
   "source": []
  }
 ],
 "metadata": {
  "kernelspec": {
   "display_name": "Python 2",
   "language": "python",
   "name": "python2"
  },
  "language_info": {
   "codemirror_mode": {
    "name": "ipython",
    "version": 2
   },
   "file_extension": ".py",
   "mimetype": "text/x-python",
   "name": "python",
   "nbconvert_exporter": "python",
   "pygments_lexer": "ipython2",
   "version": "2.7.14"
  }
 },
 "nbformat": 4,
 "nbformat_minor": 2
}
