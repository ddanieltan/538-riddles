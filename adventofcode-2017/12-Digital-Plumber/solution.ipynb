{
 "cells": [
  {
   "cell_type": "markdown",
   "metadata": {},
   "source": [
    "--- Day 12: Digital Plumber ---  \n",
    "Walking along the memory banks of the stream, you find a small village that is experiencing a little confusion:  \n",
    "some programs can't communicate with each other.  \n",
    "\n",
    "Programs in this village communicate using a fixed system of pipes.  \n",
    "Messages are passed between programs using these pipes, but most programs aren't connected to each other directly.   Instead, programs pass messages between each other until the message reaches the intended recipient.  \n",
    "\n",
    "For some reason, though, some of these messages aren't ever reaching their intended recipient,  \n",
    "and the programs suspect that some pipes are missing. They would like you to investigate.  \n",
    "\n",
    "You walk through the village and record the ID of each program  \n",
    "and the IDs with which it can communicate directly (your puzzle input).  \n",
    "Each program has one or more programs with which it can communicate,  \n",
    "and these pipes are bidirectional;  \n",
    "if 8 says it can communicate with 11, then 11 will say it can communicate with 8.  \n",
    "\n",
    "You need to figure out how many programs are in the group that contains program ID 0.  \n",
    "\n",
    "For example, suppose you go door-to-door like a travelling salesman and record the following list:  \n",
    "\n",
    "0 <-> 2  \n",
    "1 <-> 1  \n",
    "2 <-> 0, 3, 4  \n",
    "3 <-> 2, 4   \n",
    "4 <-> 2, 3, 6  \n",
    "5 <-> 6  \n",
    "6 <-> 4, 5  \n",
    "\n",
    "In this example, the following programs are in the group that contains program ID 0:  \n",
    "\n",
    "Program 0 by definition.  \n",
    "Program 2, directly connected to program 0.  \n",
    "Program 3 via program 2.  \n",
    "Program 4 via program 2.  \n",
    "Program 5 via programs 6, then 4, then 2.  \n",
    "Program 6 via programs 4, then 2.  \n",
    "Therefore, a total of 6 programs are in this group;  \n",
    "all but program 1, which has a pipe that connects it to itself.  \n",
    "\n",
    "How many programs are in the group that contains program ID 0?  "
   ]
  },
  {
   "cell_type": "code",
   "execution_count": 1,
   "metadata": {
    "collapsed": true
   },
   "outputs": [],
   "source": [
    "import numpy as np"
   ]
  },
  {
   "cell_type": "code",
   "execution_count": 16,
   "metadata": {},
   "outputs": [],
   "source": [
    "dictionary={\n",
    "    0:[2],\n",
    "    1:[1],\n",
    "    2:[0,3,4],\n",
    "    3:[2,4],\n",
    "    4:[1,5]\n",
    "}"
   ]
  },
  {
   "cell_type": "code",
   "execution_count": 17,
   "metadata": {},
   "outputs": [],
   "source": [
    "def check_connected(a,b):\n",
    "    \"\"\"Return True if program a is connected to program b\"\"\"\n",
    "    seen=[]\n",
    "    arr=dictionary[b]\n",
    "    \n",
    "    if len(arr)==1:\n",
    "        if arr[0]==a:\n",
    "            return True\n",
    "        else:\n",
    "            return False\n",
    "    else:\n",
    "        for i in arr:\n",
    "            seen.append(i)\n",
    "            if i==a:\n",
    "                return True\n",
    "    \n",
    "    return \n",
    "    \n",
    "   \n",
    "    return False\n",
    "    "
   ]
  },
  {
   "cell_type": "code",
   "execution_count": 13,
   "metadata": {},
   "outputs": [
    {
     "data": {
      "text/plain": [
       "True"
      ]
     },
     "execution_count": 13,
     "metadata": {},
     "output_type": "execute_result"
    }
   ],
   "source": [
    "check_connected(2,0)"
   ]
  },
  {
   "cell_type": "code",
   "execution_count": 14,
   "metadata": {},
   "outputs": [
    {
     "data": {
      "text/plain": [
       "True"
      ]
     },
     "execution_count": 14,
     "metadata": {},
     "output_type": "execute_result"
    }
   ],
   "source": [
    "check_connected(0,2)"
   ]
  },
  {
   "cell_type": "code",
   "execution_count": 15,
   "metadata": {},
   "outputs": [
    {
     "name": "stdout",
     "output_type": "stream",
     "text": [
      "[2, 4]\n"
     ]
    },
    {
     "data": {
      "text/plain": [
       "False"
      ]
     },
     "execution_count": 15,
     "metadata": {},
     "output_type": "execute_result"
    }
   ],
   "source": [
    "check_connected(0,3)"
   ]
  },
  {
   "cell_type": "code",
   "execution_count": null,
   "metadata": {
    "collapsed": true
   },
   "outputs": [],
   "source": []
  }
 ],
 "metadata": {
  "kernelspec": {
   "display_name": "Python 2",
   "language": "python",
   "name": "python2"
  },
  "language_info": {
   "codemirror_mode": {
    "name": "ipython",
    "version": 2
   },
   "file_extension": ".py",
   "mimetype": "text/x-python",
   "name": "python",
   "nbconvert_exporter": "python",
   "pygments_lexer": "ipython2",
   "version": "2.7.14"
  }
 },
 "nbformat": 4,
 "nbformat_minor": 2
}
