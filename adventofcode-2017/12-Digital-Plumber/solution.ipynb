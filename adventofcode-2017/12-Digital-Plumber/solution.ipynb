{
 "cells": [
  {
   "cell_type": "markdown",
   "metadata": {},
   "source": [
    "--- Day 12: Digital Plumber ---  \n",
    "Walking along the memory banks of the stream, you find a small village that is experiencing a little confusion:  \n",
    "some programs can't communicate with each other.  \n",
    "\n",
    "Programs in this village communicate using a fixed system of pipes.  \n",
    "Messages are passed between programs using these pipes, but most programs aren't connected to each other directly.   Instead, programs pass messages between each other until the message reaches the intended recipient.  \n",
    "\n",
    "For some reason, though, some of these messages aren't ever reaching their intended recipient,  \n",
    "and the programs suspect that some pipes are missing. They would like you to investigate.  \n",
    "\n",
    "You walk through the village and record the ID of each program  \n",
    "and the IDs with which it can communicate directly (your puzzle input).  \n",
    "Each program has one or more programs with which it can communicate,  \n",
    "and these pipes are bidirectional;  \n",
    "if 8 says it can communicate with 11, then 11 will say it can communicate with 8.  \n",
    "\n",
    "You need to figure out how many programs are in the group that contains program ID 0.  \n",
    "\n",
    "For example, suppose you go door-to-door like a travelling salesman and record the following list:  \n",
    "\n",
    "0 <-> 2  \n",
    "1 <-> 1  \n",
    "2 <-> 0, 3, 4  \n",
    "3 <-> 2, 4   \n",
    "4 <-> 2, 3, 6  \n",
    "5 <-> 6  \n",
    "6 <-> 4, 5  \n",
    "\n",
    "In this example, the following programs are in the group that contains program ID 0:  \n",
    "\n",
    "Program 0 by definition.  \n",
    "Program 2, directly connected to program 0.  \n",
    "Program 3 via program 2.  \n",
    "Program 4 via program 2.  \n",
    "Program 5 via programs 6, then 4, then 2.  \n",
    "Program 6 via programs 4, then 2.  \n",
    "Therefore, a total of 6 programs are in this group;  \n",
    "all but program 1, which has a pipe that connects it to itself.  \n",
    "\n",
    "How many programs are in the group that contains program ID 0?  "
   ]
  },
  {
   "cell_type": "code",
   "execution_count": 1,
   "metadata": {
    "collapsed": true
   },
   "outputs": [],
   "source": [
    "dictionary={\n",
    "    0:[2],\n",
    "    1:[1],\n",
    "    2:[0,3,4],\n",
    "    3:[2,4],\n",
    "    4:[2,3,6],\n",
    "    5:[6],\n",
    "    6:[4,5]\n",
    "}"
   ]
  },
  {
   "cell_type": "code",
   "execution_count": 2,
   "metadata": {
    "collapsed": true
   },
   "outputs": [],
   "source": [
    "# back tracking algorithm modified from https://www.python.org/doc/essays/graphs/\n",
    "\n",
    "def check_connected(dictionary,start,end,path=[]):\n",
    "    \"\"\"Return path if start and end are connected, else return None\"\"\"\n",
    "    path=path+[start]\n",
    "    if start==end:\n",
    "        return path\n",
    "    for node in dictionary[start]:\n",
    "        if node not in path:\n",
    "            newpath=check_connected(dictionary,node,end,path)\n",
    "            if newpath: return newpath\n",
    "    return None"
   ]
  },
  {
   "cell_type": "code",
   "execution_count": 3,
   "metadata": {
    "collapsed": true
   },
   "outputs": [],
   "source": [
    "# original algo\n",
    "def find_path(graph, start, end, path=[]):\n",
    "        path = path + [start]\n",
    "        if start == end:\n",
    "            return path\n",
    "        if not graph.has_key(start):\n",
    "            return None\n",
    "        for node in graph[start]:\n",
    "            if node not in path:\n",
    "                newpath = find_path(graph, node, end, path)\n",
    "                if newpath: return newpath\n",
    "        return None"
   ]
  },
  {
   "cell_type": "code",
   "execution_count": 4,
   "metadata": {},
   "outputs": [
    {
     "data": {
      "text/plain": [
       "[2, 0]"
      ]
     },
     "execution_count": 4,
     "metadata": {},
     "output_type": "execute_result"
    }
   ],
   "source": [
    "check_connected(dictionary,2,0)"
   ]
  },
  {
   "cell_type": "code",
   "execution_count": 5,
   "metadata": {},
   "outputs": [
    {
     "data": {
      "text/plain": [
       "[0, 2]"
      ]
     },
     "execution_count": 5,
     "metadata": {},
     "output_type": "execute_result"
    }
   ],
   "source": [
    "check_connected(dictionary,0,2)"
   ]
  },
  {
   "cell_type": "code",
   "execution_count": 6,
   "metadata": {},
   "outputs": [
    {
     "data": {
      "text/plain": [
       "[0, 2, 3]"
      ]
     },
     "execution_count": 6,
     "metadata": {},
     "output_type": "execute_result"
    }
   ],
   "source": [
    "check_connected(dictionary,0,3)"
   ]
  },
  {
   "cell_type": "code",
   "execution_count": 7,
   "metadata": {},
   "outputs": [
    {
     "data": {
      "text/plain": [
       "[0, 2, 3, 4, 6]"
      ]
     },
     "execution_count": 7,
     "metadata": {},
     "output_type": "execute_result"
    }
   ],
   "source": [
    "check_connected(dictionary,0,6)"
   ]
  },
  {
   "cell_type": "code",
   "execution_count": 8,
   "metadata": {
    "collapsed": true
   },
   "outputs": [],
   "source": [
    "def count_nodes(dictionary, target,counter=0):\n",
    "    \"\"\"Count the number of nodes that connect to target node\"\"\"\n",
    "    for key, value in dictionary.iteritems():\n",
    "        if check_connected(dictionary,key,target):\n",
    "            counter+=1\n",
    "    return counter"
   ]
  },
  {
   "cell_type": "code",
   "execution_count": 9,
   "metadata": {},
   "outputs": [
    {
     "data": {
      "text/plain": [
       "6"
      ]
     },
     "execution_count": 9,
     "metadata": {},
     "output_type": "execute_result"
    }
   ],
   "source": [
    "count_nodes(dictionary,0)"
   ]
  },
  {
   "cell_type": "code",
   "execution_count": 10,
   "metadata": {},
   "outputs": [
    {
     "name": "stdout",
     "output_type": "stream",
     "text": [
      "['0 <-> 46, 1376', '1 <-> 1465, 1889', '2 <-> 609, 1578', '3 <-> 3, 1003, 1133, 1887', '4 <-> 467, 1282']\n",
      "[0, 1, 2, 3, 4]\n",
      "[['46', '1376'], ['1465', '1889'], ['609', '1578'], ['3', '1003', '1133', '1887'], ['467', '1282']]\n"
     ]
    }
   ],
   "source": [
    "with open('inputs.txt','r') as f:\n",
    "    inputs=f.readlines()\n",
    "    inputs=[i.strip('\\n') for i in inputs]\n",
    "    keys=[int(i.split(' <')[0]) for i in inputs]\n",
    "    values=[i.split('> ')[1] for i in inputs]\n",
    "    values=[v.split(', ') for v in values]\n",
    "print inputs[:5]\n",
    "print keys[:5]\n",
    "print values[:5]"
   ]
  },
  {
   "cell_type": "code",
   "execution_count": 11,
   "metadata": {},
   "outputs": [
    {
     "name": "stdout",
     "output_type": "stream",
     "text": [
      "[[46, 1376], [1465, 1889], [609, 1578], [3, 1003, 1133, 1887], [467, 1282]]\n"
     ]
    }
   ],
   "source": [
    "# I can't find a more pythonic way to parse int from a comma separated string\n",
    "values2=[]\n",
    "for v in values:\n",
    "    entry=[int(a) for a in v]\n",
    "    values2.append(entry)\n",
    "print values2[:5]"
   ]
  },
  {
   "cell_type": "code",
   "execution_count": 12,
   "metadata": {
    "collapsed": true
   },
   "outputs": [],
   "source": [
    "# create new dictionary\n",
    "dictionary={}\n",
    "for k,v in zip(keys,values2):\n",
    "    dictionary[k]=v"
   ]
  },
  {
   "cell_type": "code",
   "execution_count": 13,
   "metadata": {},
   "outputs": [
    {
     "data": {
      "text/plain": [
       "{0: [46, 1376],\n",
       " 1: [1465, 1889],\n",
       " 2: [609, 1578],\n",
       " 3: [3, 1003, 1133, 1887],\n",
       " 4: [467, 1282]}"
      ]
     },
     "execution_count": 13,
     "metadata": {},
     "output_type": "execute_result"
    }
   ],
   "source": [
    "dict(dictionary.items()[0:5]) #hack to view head of dictionary"
   ]
  },
  {
   "cell_type": "code",
   "execution_count": 14,
   "metadata": {},
   "outputs": [
    {
     "data": {
      "text/plain": [
       "152"
      ]
     },
     "execution_count": 14,
     "metadata": {},
     "output_type": "execute_result"
    }
   ],
   "source": [
    "count_nodes(dictionary,0)"
   ]
  },
  {
   "cell_type": "markdown",
   "metadata": {},
   "source": [
    "--- Part Two ---  \n",
    "There are more programs than just the ones in the group containing program ID 0.  \n",
    "The rest of them have no way of reaching that group, and still might have no way of reaching each other.  \n",
    "\n",
    "A group is a collection of programs that can all communicate via pipes either directly or indirectly.  \n",
    "The programs you identified just a moment ago are all part of the same group.  \n",
    "Now, they would like you to determine the total number of groups.  \n",
    "\n",
    "In the example above, there were 2 groups: one consisting of programs 0,2,3,4,5,6,  \n",
    "and the other consisting solely of program 1.  \n",
    "\n",
    "How many groups are there in total?  "
   ]
  },
  {
   "cell_type": "code",
   "execution_count": 15,
   "metadata": {
    "collapsed": true
   },
   "outputs": [],
   "source": [
    "def count_nodes2(dictionary, target):\n",
    "    \"\"\"Count the number of nodes that connect to target node\n",
    "    For Part 2, return all keys that are connected to target\n",
    "    \"\"\"\n",
    "    keys=[]\n",
    "    for key, value in dictionary.iteritems():\n",
    "        if check_connected(dictionary,key,target):\n",
    "            keys.append(key)\n",
    "    return keys"
   ]
  },
  {
   "cell_type": "code",
   "execution_count": 16,
   "metadata": {},
   "outputs": [
    {
     "data": {
      "text/plain": [
       "[0, 22, 25, 35, 41]"
      ]
     },
     "execution_count": 16,
     "metadata": {},
     "output_type": "execute_result"
    }
   ],
   "source": [
    "count_nodes2(dictionary,0)[:5]"
   ]
  },
  {
   "cell_type": "code",
   "execution_count": 63,
   "metadata": {
    "collapsed": true
   },
   "outputs": [],
   "source": [
    "def count_groups(dictionary,keys,groups=0):\n",
    "    \"\"\"Count the number of groups. \n",
    "    A group is collection of programs that are not connected to each other.\n",
    "    \"\"\"\n",
    "    \n",
    "    remaining_keys=list(keys)\n",
    "    \n",
    "    while len(remaining_keys)>0:\n",
    "        target=remaining_keys[0]\n",
    "        sub_group=count_nodes2(dictionary,target)\n",
    "        remaining_keys=list(set(remaining_keys)-set(sub_group)) #set subtraction - To subtract 1 list from another\n",
    "        groups+=1\n",
    "        print len(remaining_keys),groups\n",
    "        \n",
    "    \n",
    "    return groups"
   ]
  },
  {
   "cell_type": "code",
   "execution_count": 64,
   "metadata": {},
   "outputs": [
    {
     "name": "stdout",
     "output_type": "stream",
     "text": [
      "1848 1\n",
      "1808 2\n",
      "1675 3\n",
      "1658 4\n",
      "1652 5\n",
      "1640 6\n",
      "1572 7\n",
      "1561 8\n",
      "1559 9\n",
      "1482 10\n",
      "1414 11\n",
      "1393 12\n",
      "1362 13\n",
      "1228 14\n",
      "1144 15\n",
      "924 16\n",
      "832 17\n",
      "831 18\n",
      "819 19\n",
      "818 20\n",
      "816 21\n",
      "812 22\n",
      "810 23\n",
      "802 24\n",
      "761 25\n",
      "754 26\n",
      "753 27\n",
      "749 28\n",
      "748 29\n",
      "745 30\n",
      "736 31\n",
      "730 32\n",
      "719 33\n",
      "701 34\n",
      "661 35\n",
      "660 36\n",
      "656 37\n",
      "655 38\n",
      "654 39\n",
      "652 40\n",
      "633 41\n",
      "595 42\n",
      "565 43\n",
      "545 44\n",
      "541 45\n",
      "539 46\n",
      "521 47\n",
      "515 48\n",
      "514 49\n",
      "510 50\n",
      "503 51\n",
      "502 52\n",
      "492 53\n",
      "490 54\n",
      "483 55\n",
      "430 56\n",
      "418 57\n",
      "412 58\n",
      "411 59\n",
      "406 60\n",
      "403 61\n",
      "402 62\n",
      "399 63\n",
      "398 64\n",
      "376 65\n",
      "372 66\n",
      "364 67\n",
      "353 68\n",
      "341 69\n",
      "340 70\n",
      "339 71\n",
      "338 72\n",
      "335 73\n",
      "327 74\n",
      "324 75\n",
      "316 76\n",
      "306 77\n",
      "288 78\n",
      "278 79\n",
      "267 80\n",
      "266 81\n",
      "265 82\n",
      "264 83\n",
      "253 84\n",
      "246 85\n",
      "243 86\n",
      "239 87\n",
      "237 88\n",
      "224 89\n",
      "223 90\n",
      "220 91\n",
      "219 92\n",
      "210 93\n",
      "206 94\n",
      "195 95\n",
      "188 96\n",
      "183 97\n",
      "179 98\n",
      "177 99\n",
      "174 100\n",
      "169 101\n",
      "164 102\n",
      "163 103\n",
      "162 104\n",
      "160 105\n",
      "158 106\n",
      "157 107\n",
      "156 108\n",
      "147 109\n",
      "146 110\n",
      "145 111\n",
      "144 112\n",
      "140 113\n",
      "138 114\n",
      "134 115\n",
      "127 116\n",
      "125 117\n",
      "121 118\n",
      "120 119\n",
      "118 120\n",
      "116 121\n",
      "110 122\n",
      "109 123\n",
      "108 124\n",
      "105 125\n",
      "104 126\n",
      "103 127\n",
      "101 128\n",
      "98 129\n",
      "97 130\n",
      "95 131\n",
      "94 132\n",
      "89 133\n",
      "84 134\n",
      "83 135\n",
      "81 136\n",
      "80 137\n",
      "76 138\n",
      "74 139\n",
      "73 140\n",
      "72 141\n",
      "60 142\n",
      "59 143\n",
      "58 144\n",
      "54 145\n",
      "49 146\n",
      "48 147\n",
      "45 148\n",
      "44 149\n",
      "43 150\n",
      "42 151\n",
      "41 152\n",
      "40 153\n",
      "38 154\n",
      "37 155\n",
      "36 156\n",
      "34 157\n",
      "33 158\n",
      "32 159\n",
      "31 160\n",
      "29 161\n",
      "28 162\n",
      "27 163\n",
      "24 164\n",
      "23 165\n",
      "22 166\n",
      "20 167\n",
      "19 168\n",
      "18 169\n",
      "17 170\n",
      "15 171\n",
      "14 172\n",
      "13 173\n",
      "12 174\n",
      "11 175\n",
      "10 176\n",
      "9 177\n",
      "8 178\n",
      "7 179\n",
      "6 180\n",
      "5 181\n",
      "4 182\n",
      "3 183\n",
      "2 184\n",
      "1 185\n",
      "0 186\n"
     ]
    },
    {
     "data": {
      "text/plain": [
       "186"
      ]
     },
     "execution_count": 64,
     "metadata": {},
     "output_type": "execute_result"
    }
   ],
   "source": [
    "count_groups(dictionary,keys)"
   ]
  }
 ],
 "metadata": {
  "kernelspec": {
   "display_name": "Python 2",
   "language": "python",
   "name": "python2"
  },
  "language_info": {
   "codemirror_mode": {
    "name": "ipython",
    "version": 2
   },
   "file_extension": ".py",
   "mimetype": "text/x-python",
   "name": "python",
   "nbconvert_exporter": "python",
   "pygments_lexer": "ipython2",
   "version": "2.7.14"
  }
 },
 "nbformat": 4,
 "nbformat_minor": 2
}
