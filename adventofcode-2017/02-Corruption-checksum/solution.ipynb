{
 "cells": [
  {
   "cell_type": "code",
   "execution_count": 13,
   "metadata": {
    "collapsed": true
   },
   "outputs": [],
   "source": [
    "import pandas as pd\n",
    "import numpy as np\n"
   ]
  },
  {
   "cell_type": "code",
   "execution_count": 46,
   "metadata": {
    "collapsed": true
   },
   "outputs": [],
   "source": [
    "test=[[5,1,9,5],[7,5,3],[2,4,6,8]]"
   ]
  },
  {
   "cell_type": "code",
   "execution_count": 47,
   "metadata": {},
   "outputs": [],
   "source": [
    "diffs=[]\n",
    "# For each list identify max and mix, record difference\n",
    "for t in test:\n",
    "    diff=max(t)-min(t)\n",
    "    diffs.append(diff)"
   ]
  },
  {
   "cell_type": "code",
   "execution_count": 48,
   "metadata": {},
   "outputs": [
    {
     "data": {
      "text/plain": [
       "[8, 4, 6]"
      ]
     },
     "execution_count": 48,
     "metadata": {},
     "output_type": "execute_result"
    }
   ],
   "source": [
    "diffs"
   ]
  },
  {
   "cell_type": "code",
   "execution_count": 49,
   "metadata": {},
   "outputs": [
    {
     "data": {
      "text/plain": [
       "18"
      ]
     },
     "execution_count": 49,
     "metadata": {},
     "output_type": "execute_result"
    }
   ],
   "source": [
    "sum(diffs)"
   ]
  },
  {
   "cell_type": "code",
   "execution_count": 52,
   "metadata": {},
   "outputs": [],
   "source": [
    "inputs=[]\n",
    "with open('/Users/dtan/Code/coding-practice/adventofcode-2017/2-Corruption-checksum/input.txt','r') as f:\n",
    "    inputs=f.readlines()\n",
    "    inputs=[i.strip('\\n') for i in inputs]\n",
    "    inputs=[i.split('\\t') for i in inputs]\n"
   ]
  },
  {
   "cell_type": "code",
   "execution_count": 44,
   "metadata": {},
   "outputs": [
    {
     "data": {
      "text/plain": [
       "[['4168',\n",
       "  '3925',\n",
       "  '858',\n",
       "  '2203',\n",
       "  '440',\n",
       "  '185',\n",
       "  '2886',\n",
       "  '160',\n",
       "  '1811',\n",
       "  '4272',\n",
       "  '4333',\n",
       "  '2180',\n",
       "  '174',\n",
       "  '157',\n",
       "  '361',\n",
       "  '1555']]"
      ]
     },
     "execution_count": 44,
     "metadata": {},
     "output_type": "execute_result"
    }
   ],
   "source": [
    "inputs[:1] # each element is still a string"
   ]
  },
  {
   "cell_type": "code",
   "execution_count": 73,
   "metadata": {},
   "outputs": [],
   "source": [
    "diffs=[]\n",
    "for i in inputs:\n",
    "    line=[int(value) for value in i]\n",
    "    diffs.append(max(line)-min(line))"
   ]
  },
  {
   "cell_type": "code",
   "execution_count": 74,
   "metadata": {},
   "outputs": [
    {
     "data": {
      "text/plain": [
       "[4176,\n",
       " 679,\n",
       " 6473,\n",
       " 5727,\n",
       " 879,\n",
       " 2299,\n",
       " 2029,\n",
       " 4866,\n",
       " 4227,\n",
       " 1944,\n",
       " 2003,\n",
       " 5911,\n",
       " 2089,\n",
       " 854,\n",
       " 6495,\n",
       " 1182]"
      ]
     },
     "execution_count": 74,
     "metadata": {},
     "output_type": "execute_result"
    }
   ],
   "source": [
    "diffs\n"
   ]
  },
  {
   "cell_type": "code",
   "execution_count": 75,
   "metadata": {},
   "outputs": [
    {
     "data": {
      "text/plain": [
       "51833"
      ]
     },
     "execution_count": 75,
     "metadata": {},
     "output_type": "execute_result"
    }
   ],
   "source": [
    "sum(diffs)"
   ]
  },
  {
   "cell_type": "code",
   "execution_count": 76,
   "metadata": {
    "collapsed": true
   },
   "outputs": [],
   "source": [
    "## Part 2"
   ]
  },
  {
   "cell_type": "code",
   "execution_count": 77,
   "metadata": {
    "collapsed": true
   },
   "outputs": [],
   "source": [
    "import itertools"
   ]
  },
  {
   "cell_type": "code",
   "execution_count": null,
   "metadata": {
    "collapsed": true
   },
   "outputs": [],
   "source": [
    "# For every list, find every combination of pairs\n",
    "\n",
    "# ensure a is bigger than b\n",
    "\n",
    "# calculate a % b == 0\n",
    "\n",
    "# store success cases and sum"
   ]
  },
  {
   "cell_type": "code",
   "execution_count": 79,
   "metadata": {
    "collapsed": true
   },
   "outputs": [],
   "source": [
    "test2=[[5,9,2,8],[9,4,7,3],[3,8,6,5]]"
   ]
  },
  {
   "cell_type": "code",
   "execution_count": 94,
   "metadata": {},
   "outputs": [],
   "source": [
    "divs=[]\n",
    "for t in test2:\n",
    "    combis=list(itertools.combinations(t,2))\n",
    "    for c in combis:\n",
    "        a,b=max(c),min(c)\n",
    "        if a%b==0:\n",
    "            divs.append(a/b)"
   ]
  },
  {
   "cell_type": "code",
   "execution_count": 95,
   "metadata": {},
   "outputs": [
    {
     "data": {
      "text/plain": [
       "[4, 3, 2]"
      ]
     },
     "execution_count": 95,
     "metadata": {},
     "output_type": "execute_result"
    }
   ],
   "source": [
    "divs"
   ]
  },
  {
   "cell_type": "code",
   "execution_count": 96,
   "metadata": {
    "collapsed": true
   },
   "outputs": [],
   "source": [
    "divs=[]\n",
    "for i in inputs:\n",
    "    line=[int(value) for value in i]\n",
    "    combis=list(itertools.combinations(line,2))\n",
    "    for c in combis:\n",
    "        a,b=max(c),min(c)\n",
    "        if a%b==0:\n",
    "            divs.append(a/b)"
   ]
  },
  {
   "cell_type": "code",
   "execution_count": 97,
   "metadata": {},
   "outputs": [
    {
     "data": {
      "text/plain": [
       "[25, 4, 41, 25, 7, 13, 14, 30, 21, 16, 17, 22, 8, 9, 29, 7]"
      ]
     },
     "execution_count": 97,
     "metadata": {},
     "output_type": "execute_result"
    }
   ],
   "source": [
    "divs"
   ]
  },
  {
   "cell_type": "code",
   "execution_count": 98,
   "metadata": {},
   "outputs": [
    {
     "data": {
      "text/plain": [
       "288"
      ]
     },
     "execution_count": 98,
     "metadata": {},
     "output_type": "execute_result"
    }
   ],
   "source": [
    "sum(divs)"
   ]
  }
 ],
 "metadata": {
  "kernelspec": {
   "display_name": "Python 2",
   "language": "python",
   "name": "python2"
  },
  "language_info": {
   "codemirror_mode": {
    "name": "ipython",
    "version": 2
   },
   "file_extension": ".py",
   "mimetype": "text/x-python",
   "name": "python",
   "nbconvert_exporter": "python",
   "pygments_lexer": "ipython2",
   "version": "2.7.14"
  }
 },
 "nbformat": 4,
 "nbformat_minor": 2
}
