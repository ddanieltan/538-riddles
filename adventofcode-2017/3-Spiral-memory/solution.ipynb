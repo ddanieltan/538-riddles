{
 "cells": [
  {
   "cell_type": "raw",
   "metadata": {},
   "source": [
    "### Part 1\n",
    "\n",
    "17  16  15  14  13\n",
    "18   5   4   3  12\n",
    "19   6   1   2  11\n",
    "20   7   8   9  10\n",
    "21  22  23  24  25\n",
    "\n",
    "\n",
    "The pattern i see is that progression of the lower right hand corner of each square can be represented as\n",
    "\n",
    "1, 9, 25, 49 ...\n",
    "\n",
    "which is\n",
    "\n",
    "1^2, 3^2, 5^2, 7^2 ...\n",
    "\n",
    "n^2, n=1,3,5,7...\n"
   ]
  },
  {
   "cell_type": "code",
   "execution_count": 9,
   "metadata": {
    "collapsed": true
   },
   "outputs": [],
   "source": [
    "import numpy as np\n",
    "import pandas as pd"
   ]
  },
  {
   "cell_type": "code",
   "execution_count": 16,
   "metadata": {
    "collapsed": true
   },
   "outputs": [],
   "source": [
    "## Step 1: Based on the given input, find n\n",
    "real_input=312051"
   ]
  },
  {
   "cell_type": "code",
   "execution_count": 21,
   "metadata": {},
   "outputs": [],
   "source": [
    "# Find n\n",
    "def find_n(num):\n",
    "    for i in range(1,1000,2):\n",
    "        if num<np.power(i,2):\n",
    "            return i"
   ]
  },
  {
   "cell_type": "code",
   "execution_count": 22,
   "metadata": {},
   "outputs": [
    {
     "data": {
      "text/plain": [
       "5"
      ]
     },
     "execution_count": 22,
     "metadata": {},
     "output_type": "execute_result"
    }
   ],
   "source": [
    "find_n(14)"
   ]
  },
  {
   "cell_type": "code",
   "execution_count": 23,
   "metadata": {},
   "outputs": [
    {
     "data": {
      "text/plain": [
       "559"
      ]
     },
     "execution_count": 23,
     "metadata": {},
     "output_type": "execute_result"
    }
   ],
   "source": [
    "find_n(real_input)"
   ]
  },
  {
   "cell_type": "code",
   "execution_count": 24,
   "metadata": {
    "collapsed": true
   },
   "outputs": [],
   "source": [
    "## Step 2: Once we know n, assume value 1 is at position (0,0).\n",
    "## n^2 is in position (n/2, -n/2). Note n/2 needs to return an int result. n will always be odd."
   ]
  },
  {
   "cell_type": "code",
   "execution_count": 30,
   "metadata": {
    "collapsed": true
   },
   "outputs": [],
   "source": [
    "def starting_position(n):\n",
    "    x=n/2\n",
    "    y=n/2\n",
    "    return x,-y"
   ]
  },
  {
   "cell_type": "code",
   "execution_count": 31,
   "metadata": {},
   "outputs": [
    {
     "data": {
      "text/plain": [
       "(2, -2)"
      ]
     },
     "execution_count": 31,
     "metadata": {},
     "output_type": "execute_result"
    }
   ],
   "source": [
    "starting_position(5) ## value=25, n=5"
   ]
  },
  {
   "cell_type": "code",
   "execution_count": 32,
   "metadata": {},
   "outputs": [
    {
     "data": {
      "text/plain": [
       "(279, -279)"
      ]
     },
     "execution_count": 32,
     "metadata": {},
     "output_type": "execute_result"
    }
   ],
   "source": [
    "starting_position(559)"
   ]
  },
  {
   "cell_type": "code",
   "execution_count": 33,
   "metadata": {
    "collapsed": true
   },
   "outputs": [],
   "source": [
    "## Step 3: From the starting position, we walk backwards within this square.\n",
    "## Every n steps we reach a corner of the square\n",
    "## Move clockwise, so 1st n steps is in -x direction, then +y direction, then +x direction, then -y direction"
   ]
  },
  {
   "cell_type": "code",
   "execution_count": 51,
   "metadata": {},
   "outputs": [],
   "source": [
    "def input_position(num):\n",
    "    n=find_n(num)\n",
    "    x,y=starting_position(n)\n",
    "    \n",
    "    current_num=np.power(n,2)\n",
    "    for i in range(1,n,1): #-x direction\n",
    "        current_num-=1\n",
    "        x-=1\n",
    "        if current_num==num:\n",
    "            return x,y\n",
    "    \n",
    "    for i in range(1,n,1): #+y direction\n",
    "        current_num-=1\n",
    "        y+=1\n",
    "        if current_num==num:\n",
    "            return x,y\n",
    "    \n",
    "    for i in range(1,n,1): #+x direction\n",
    "        current_num-=1\n",
    "        x+=1\n",
    "        if current_num==num:\n",
    "            return x,y\n",
    "\n",
    "    for i in range(1,n,1): #-y direction\n",
    "        current_num-=1\n",
    "        y-=1\n",
    "        if current_num==num:\n",
    "            return x,y\n",
    "    \n",
    "    return 0,0 # No solution found\n",
    "    \n",
    "    \n",
    "    "
   ]
  },
  {
   "cell_type": "code",
   "execution_count": 52,
   "metadata": {},
   "outputs": [
    {
     "data": {
      "text/plain": [
       "(1, 2)"
      ]
     },
     "execution_count": 52,
     "metadata": {},
     "output_type": "execute_result"
    }
   ],
   "source": [
    "input_position(14)"
   ]
  },
  {
   "cell_type": "code",
   "execution_count": 53,
   "metadata": {},
   "outputs": [
    {
     "data": {
      "text/plain": [
       "(-151, -279)"
      ]
     },
     "execution_count": 53,
     "metadata": {},
     "output_type": "execute_result"
    }
   ],
   "source": [
    "input_position(real_input)"
   ]
  },
  {
   "cell_type": "code",
   "execution_count": 54,
   "metadata": {
    "collapsed": true
   },
   "outputs": [],
   "source": [
    "##Step 4: calculate the manhattan distance from the position to the centre (0,0) \n",
    "def manhattan_distance(position):\n",
    "    x,y=position\n",
    "    return abs(x)+abs(y)"
   ]
  },
  {
   "cell_type": "code",
   "execution_count": 55,
   "metadata": {},
   "outputs": [
    {
     "data": {
      "text/plain": [
       "3"
      ]
     },
     "execution_count": 55,
     "metadata": {},
     "output_type": "execute_result"
    }
   ],
   "source": [
    "manhattan_distance(input_position(14))"
   ]
  },
  {
   "cell_type": "code",
   "execution_count": 56,
   "metadata": {},
   "outputs": [
    {
     "data": {
      "text/plain": [
       "430"
      ]
     },
     "execution_count": 56,
     "metadata": {},
     "output_type": "execute_result"
    }
   ],
   "source": [
    "manhattan_distance(input_position(real_input))"
   ]
  },
  {
   "cell_type": "raw",
   "metadata": {},
   "source": [
    "### Part 2\n",
    "\n",
    "147  142  133  122   59\n",
    "304    5    4    2   57\n",
    "330   10    1    1   54\n",
    "351   11   23   25   26\n",
    "362  747  806  880  931\n",
    "\n",
    "\n",
    "I don't see a pattern...\n",
    "Maybe I have to just brute force a script to make this pattern from scratch..."
   ]
  },
  {
   "cell_type": "code",
   "execution_count": null,
   "metadata": {
    "collapsed": true
   },
   "outputs": [],
   "source": []
  }
 ],
 "metadata": {
  "kernelspec": {
   "display_name": "Python 2",
   "language": "python",
   "name": "python2"
  },
  "language_info": {
   "codemirror_mode": {
    "name": "ipython",
    "version": 2
   },
   "file_extension": ".py",
   "mimetype": "text/x-python",
   "name": "python",
   "nbconvert_exporter": "python",
   "pygments_lexer": "ipython2",
   "version": "2.7.14"
  }
 },
 "nbformat": 4,
 "nbformat_minor": 2
}
