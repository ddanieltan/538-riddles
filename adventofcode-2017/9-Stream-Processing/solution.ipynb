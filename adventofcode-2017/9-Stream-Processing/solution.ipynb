{
 "cells": [
  {
   "cell_type": "markdown",
   "metadata": {},
   "source": [
    "--- Day 9: Stream Processing ---  \n",
    "A large stream blocks your path.  \n",
    "According to the locals, it's not safe to cross the stream at the moment because it's full of garbage.  \n",
    "You look down at the stream; rather than water, you discover that it's a stream of characters.  \n",
    "\n",
    "You sit for a while and record part of the stream (your puzzle input).  \n",
    "The characters represent groups - sequences that begin with { and end with }.  \n",
    "Within a group, there are zero or more other things, separated by commas: either another group or garbage.  \n",
    "Since groups can contain other groups, a } only closes the most-recently-opened unclosed group -  \n",
    "that is, they are nestable.  \n",
    "Your puzzle input represents a single, large group which itself contains many smaller ones.\n",
    "\n",
    "Sometimes, instead of a group, you will find garbage.  \n",
    "Garbage begins with < and ends with >.  \n",
    "Between those angle brackets, almost any character can appear, including { and }.  \n",
    "Within garbage, < has no special meaning.\n",
    "\n",
    "In a futile attempt to clean up the garbage, some program has canceled some of the characters within it using !:  \n",
    "inside garbage, any character that comes after ! should be ignored, including <, >, and even another !.  \n",
    "\n",
    "You don't see any characters that deviate from these rules.  \n",
    "Outside garbage, you only find well-formed groups, and garbage always terminates according to the rules above.  \n",
    "\n",
    "Here are some self-contained pieces of garbage:  \n",
    "\n",
    "<>, empty garbage.  \n",
    "<random characters>, garbage containing random characters.  \n",
    "<<<<>, because the extra < are ignored.  \n",
    "<{!>}>, because the first > is canceled.  \n",
    "<!!>, because the second ! is canceled, allowing the > to terminate the garbage.  \n",
    "<!!!>>, because the second ! and the first > are canceled.  \n",
    "<{o\"i!a,<{i<a>, which ends at the first >.  \n",
    "Here are some examples of whole streams and the number of groups they contain:  \n",
    "\n",
    "{}, 1 group.  \n",
    "{{{}}}, 3 groups.  \n",
    "{{},{}}, also 3 groups.  \n",
    "{{{},{},{{}}}}, 6 groups.  \n",
    "{<{},{},{{}}>}, 1 group (which itself contains garbage).  \n",
    "{<a>,<a>,<a>,<a>}, 1 group.  \n",
    "{{<a>},{<a>},{<a>},{<a>}}, 5 groups.  \n",
    "{{<!>},{<!>},{<!>},{<a>}}, 2 groups (since all but the last > are canceled).  \n",
    "Your goal is to find the total score for all groups in your input.  \n",
    "Each group is assigned a score which is one more than the score of the group that immediately contains it.  \n",
    "(The outermost group gets a score of 1.)  \n",
    "\n",
    "{}, score of 1.  \n",
    "{{{}}}, score of 1 + 2 + 3 = 6.  \n",
    "{{},{}}, score of 1 + 2 + 2 = 5.  \n",
    "{{{},{},{{}}}}, score of 1 + 2 + 3 + 3 + 3 + 4 = 16.  \n",
    "{<a>,<a>,<a>,<a>}, score of 1.  \n",
    "{{<ab>},{<ab>},{<ab>},{<ab>}}, score of 1 + 2 + 2 + 2 + 2 = 9.  \n",
    "{{<!!>},{<!!>},{<!!>},{<!!>}}, score of 1 + 2 + 2 + 2 + 2 = 9.  \n",
    "{{<a!>},{<a!>},{<a!>},{<ab>}}, score of 1 + 2 = 3.  \n",
    "What is the total score for all groups in your input?  "
   ]
  },
  {
   "cell_type": "code",
   "execution_count": null,
   "metadata": {
    "collapsed": true
   },
   "outputs": [],
   "source": []
  }
 ],
 "metadata": {
  "kernelspec": {
   "display_name": "Python 2",
   "language": "python",
   "name": "python2"
  },
  "language_info": {
   "codemirror_mode": {
    "name": "ipython",
    "version": 2
   },
   "file_extension": ".py",
   "mimetype": "text/x-python",
   "name": "python",
   "nbconvert_exporter": "python",
   "pygments_lexer": "ipython2",
   "version": "2.7.14"
  }
 },
 "nbformat": 4,
 "nbformat_minor": 2
}
