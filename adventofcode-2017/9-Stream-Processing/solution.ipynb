{
 "cells": [
  {
   "cell_type": "markdown",
   "metadata": {},
   "source": [
    "--- Day 9: Stream Processing ---  \n",
    "A large stream blocks your path.  \n",
    "According to the locals, it's not safe to cross the stream at the moment because it's full of garbage.  \n",
    "You look down at the stream; rather than water, you discover that it's a stream of characters.  \n",
    "\n",
    "You sit for a while and record part of the stream (your puzzle input).  \n",
    "The characters represent groups - sequences that begin with { and end with }.  \n",
    "Within a group, there are zero or more other things, separated by commas: either another group or garbage.  \n",
    "Since groups can contain other groups, a } only closes the most-recently-opened unclosed group -  \n",
    "that is, they are nestable.  \n",
    "Your puzzle input represents a single, large group which itself contains many smaller ones.\n",
    "\n",
    "Sometimes, instead of a group, you will find garbage.  \n",
    "Garbage begins with < and ends with >.  \n",
    "Between those angle brackets, almost any character can appear, including { and }.  \n",
    "Within garbage, < has no special meaning.\n",
    "\n",
    "In a futile attempt to clean up the garbage, some program has canceled some of the characters within it using !:  \n",
    "inside garbage, any character that comes after ! should be ignored, including <, >, and even another !.  \n",
    "\n",
    "You don't see any characters that deviate from these rules.  \n",
    "Outside garbage, you only find well-formed groups, and garbage always terminates according to the rules above.  \n",
    "\n",
    "Here are some self-contained pieces of garbage:  \n",
    "\n",
    "<>, empty garbage.  \n",
    "<random characters>, garbage containing random characters.  \n",
    "<<<<>, because the extra < are ignored.  \n",
    "<{!>}>, because the first > is canceled.  \n",
    "<!!>, because the second ! is canceled, allowing the > to terminate the garbage.  \n",
    "<!!!>>, because the second ! and the first > are canceled.  \n",
    "<{o\"i!a,<{i<a>, which ends at the first >.  \n",
    "Here are some examples of whole streams and the number of groups they contain:  \n",
    "\n",
    "{}, 1 group.  \n",
    "{{{}}}, 3 groups.  \n",
    "{{},{}}, also 3 groups.  \n",
    "{{{},{},{{}}}}, 6 groups.  \n",
    "{<{},{},{{}}>}, 1 group (which itself contains garbage).  \n",
    "{<a>,<a>,<a>,<a>}, 1 group.  \n",
    "{{<a>},{<a>},{<a>},{<a>}}, 5 groups.  \n",
    "{{<!>},{<!>},{<!>},{<a>}}, 2 groups (since all but the last > are canceled).  \n",
    "Your goal is to find the total score for all groups in your input.  \n",
    "Each group is assigned a score which is one more than the score of the group that immediately contains it.  \n",
    "(The outermost group gets a score of 1.)  \n",
    "\n",
    "{}, score of 1.  \n",
    "{{{}}}, score of 1 + 2 + 3 = 6.  \n",
    "{{},{}}, score of 1 + 2 + 2 = 5.  \n",
    "{{{},{},{{}}}}, score of 1 + 2 + 3 + 3 + 3 + 4 = 16.  \n",
    "{<a>,<a>,<a>,<a>}, score of 1.  \n",
    "{{<ab>},{<ab>},{<ab>},{<ab>}}, score of 1 + 2 + 2 + 2 + 2 = 9.  \n",
    "{{<!!>},{<!!>},{<!!>},{<!!>}}, score of 1 + 2 + 2 + 2 + 2 = 9.  \n",
    "{{<a!>},{<a!>},{<a!>},{<ab>}}, score of 1 + 2 = 3.  \n",
    "What is the total score for all groups in your input?  "
   ]
  },
  {
   "cell_type": "code",
   "execution_count": 36,
   "metadata": {
    "collapsed": true
   },
   "outputs": [],
   "source": [
    "# regex time..."
   ]
  },
  {
   "cell_type": "markdown",
   "metadata": {},
   "source": [
    "# Reflection\n",
    "\n",
    "I initially thought this question required regex.  \n",
    "But I learnt that regex is not good at evaluating nested loops.  \n",
    "I refered to reddit solutions to understand how to approach this problem.  \n",
    "\n",
    "The idea of going left to right in a string, while logging current depth was the missing key that I needed to find a solution."
   ]
  },
  {
   "cell_type": "code",
   "execution_count": 65,
   "metadata": {
    "collapsed": true
   },
   "outputs": [],
   "source": [
    "def parse(string):\n",
    "    \"\"\"Parse string and calculate score\"\"\"\n",
    "    \n",
    "    score=0\n",
    "    garbage_score=0\n",
    "    current_depth=0\n",
    "    in_garbage=False\n",
    "    skip_char=False\n",
    "    \n",
    "    for c in string:\n",
    "        if in_garbage:\n",
    "            if skip_char:\n",
    "                skip_char=False\n",
    "            elif c=='!':\n",
    "                skip_char=True\n",
    "            elif c=='>':\n",
    "                in_garbage=False\n",
    "            else:\n",
    "                garbage_score+=1\n",
    "        else:\n",
    "            if c=='{':\n",
    "                current_depth+=1\n",
    "            elif c=='}':\n",
    "                score+=current_depth\n",
    "                current_depth-=1\n",
    "            elif c=='<':\n",
    "                in_garbage=True\n",
    "    \n",
    "    return score, garbage_score"
   ]
  },
  {
   "cell_type": "code",
   "execution_count": 66,
   "metadata": {},
   "outputs": [
    {
     "data": {
      "text/plain": [
       "(6, 0)"
      ]
     },
     "execution_count": 66,
     "metadata": {},
     "output_type": "execute_result"
    }
   ],
   "source": [
    "parse('{{{}}}')"
   ]
  },
  {
   "cell_type": "code",
   "execution_count": 67,
   "metadata": {
    "collapsed": true
   },
   "outputs": [],
   "source": [
    "with open('inputs.txt','r') as f:\n",
    "    inputs=f.readline()"
   ]
  },
  {
   "cell_type": "code",
   "execution_count": 68,
   "metadata": {},
   "outputs": [
    {
     "data": {
      "text/plain": [
       "(16869, 7284)"
      ]
     },
     "execution_count": 68,
     "metadata": {},
     "output_type": "execute_result"
    }
   ],
   "source": [
    "parse(inputs)"
   ]
  },
  {
   "cell_type": "markdown",
   "metadata": {},
   "source": [
    "--- Part Two ---  \n",
    "Now, you're ready to remove the garbage.  \n",
    "\n",
    "To prove you've removed it, you need to count all of the characters within the garbage.  \n",
    "The leading and trailing < and > don't count, nor do any canceled characters or the ! doing the canceling.  \n",
    "\n",
    "<>, 0 characters.  \n",
    "<random characters>, 17 characters.  \n",
    "<<<<>, 3 characters.  \n",
    "<{!>}>, 2 characters.  \n",
    "<!!>, 0 characters.  \n",
    "<!!!>>, 0 characters.  \n",
    "<{o\"i!a,<{i<a>, 10 characters.  \n",
    "How many non-canceled characters are within the garbage in your puzzle input?  "
   ]
  },
  {
   "cell_type": "code",
   "execution_count": null,
   "metadata": {
    "collapsed": true
   },
   "outputs": [],
   "source": [
    "#Answered with garbage score - 7284"
   ]
  }
 ],
 "metadata": {
  "kernelspec": {
   "display_name": "Python 2",
   "language": "python",
   "name": "python2"
  },
  "language_info": {
   "codemirror_mode": {
    "name": "ipython",
    "version": 2
   },
   "file_extension": ".py",
   "mimetype": "text/x-python",
   "name": "python",
   "nbconvert_exporter": "python",
   "pygments_lexer": "ipython2",
   "version": "2.7.14"
  }
 },
 "nbformat": 4,
 "nbformat_minor": 2
}
