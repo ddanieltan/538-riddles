{
 "cells": [
  {
   "cell_type": "markdown",
   "metadata": {},
   "source": [
    "--- Day 13: Packet Scanners ---  \n",
    "You need to cross a vast firewall.  \n",
    "The firewall consists of several layers, each with a security scanner that moves back and forth across the layer.  \n",
    "To succeed, you must not be detected by a scanner.  \n",
    "\n",
    "By studying the firewall briefly, you are able to record (in your puzzle input) the depth of each layer  \n",
    "and the range of the scanning area for the scanner within it, written as depth: range.  \n",
    "Each layer has a thickness of exactly 1.  \n",
    "A layer at depth 0 begins immediately inside the firewall; a layer at depth 1 would start immediately after that.  \n",
    "\n",
    "For example, suppose you've recorded the following:  \n",
    "\n",
    "0: 3  \n",
    "1: 2  \n",
    "4: 4  \n",
    "6: 4  \n",
    "This means that there is a layer immediately inside the firewall (with range 3),  \n",
    "a second layer immediately after that (with range 2), a third layer which begins at depth 4 (with range 4),  \n",
    "and a fourth layer which begins at depth 6 (also with range 4). Visually, it might look like this:  \n",
    "\n",
    " 0   1   2   3   4   5   6  \n",
    "[ ] [ ] ... ... [ ] ... [ ]  \n",
    "[ ] [ ]         [ ]     [ ]  \n",
    "[ ]             [ ]     [ ]  \n",
    "                [ ]     [ ]  \n",
    "Within each layer, a security scanner moves back and forth within its range.  \n",
    "Each security scanner starts at the top and moves down until it reaches the bottom,  \n",
    "then moves up until it reaches the top, and repeats.  \n",
    "A security scanner takes one picosecond to move one step. Drawing scanners as S,  \n",
    "the first few picoseconds look like this:  \n",
    "\n",
    "\n",
    "Picosecond 0:  \n",
    " 0   1   2   3   4   5   6  \n",
    "[S] [S] ... ... [S] ... [S]  \n",
    "[ ] [ ]         [ ]     [ ]  \n",
    "[ ]             [ ]     [ ]  \n",
    "                [ ]     [ ]  \n",
    "\n",
    "Picosecond 1:  \n",
    " 0   1   2   3   4   5   6  \n",
    "[ ] [ ] ... ... [ ] ... [ ]  \n",
    "[S] [S]         [S]     [S]  \n",
    "[ ]             [ ]     [ ]  \n",
    "                [ ]     [ ]  \n",
    "\n",
    "Picosecond 2:  \n",
    " 0   1   2   3   4   5   6  \n",
    "[ ] [S] ... ... [ ] ... [ ]  \n",
    "[ ] [ ]         [ ]     [ ]  \n",
    "[S]             [S]     [S]  \n",
    "                [ ]     [ ]  \n",
    "\n",
    "Picosecond 3:  \n",
    " 0   1   2   3   4   5   6  \n",
    "[ ] [ ] ... ... [ ] ... [ ]  \n",
    "[S] [S]         [ ]     [ ]  \n",
    "[ ]             [ ]     [ ]  \n",
    "                [S]     [S]  \n",
    "Your plan is to hitch a ride on a packet about to move through the firewall.  \n",
    "The packet will travel along the top of each layer, and it moves at one layer per picosecond.  \n",
    "Each picosecond, the packet moves one layer forward (its first move takes it into layer 0),  \n",
    "and then the scanners move one step.  \n",
    "If there is a scanner at the top of the layer as your packet enters it, you are caught.  \n",
    "(If a scanner moves into the top of its layer while you are there, you are not caught:  \n",
    "it doesn't have time to notice you before you leave.) If you were to do this in the configuration above,  \n",
    "marking your current position with parentheses, your passage through the firewall would look like this:  \n",
    "\n",
    "Initial state:  \n",
    " 0   1   2   3   4   5   6  \n",
    "[S] [S] ... ... [S] ... [S]  \n",
    "[ ] [ ]         [ ]     [ ]  \n",
    "[ ]             [ ]     [ ]  \n",
    "                [ ]     [ ]  \n",
    "\n",
    "Picosecond 0:  \n",
    " 0   1   2   3   4   5   6  \n",
    "(S) [S] ... ... [S] ... [S]  \n",
    "[ ] [ ]         [ ]     [ ]  \n",
    "[ ]             [ ]     [ ]  \n",
    "                [ ]     [ ]  \n",
    "\n",
    " 0   1   2   3   4   5   6  \n",
    "( ) [ ] ... ... [ ] ... [ ]  \n",
    "[S] [S]         [S]     [S]  \n",
    "[ ]             [ ]     [ ]  \n",
    "                [ ]     [ ]  \n",
    "\n",
    "\n",
    "Picosecond 1:  \n",
    " 0   1   2   3   4   5   6  \n",
    "[ ] ( ) ... ... [ ] ... [ ]  \n",
    "[S] [S]         [S]     [S]  \n",
    "[ ]             [ ]     [ ]  \n",
    "                [ ]     [ ]  \n",
    "\n",
    " 0   1   2   3   4   5   6  \n",
    "[ ] (S) ... ... [ ] ... [ ]  \n",
    "[ ] [ ]         [ ]     [ ]  \n",
    "[S]             [S]     [S]  \n",
    "                [ ]     [ ]  \n",
    "\n",
    "\n",
    "Picosecond 2:  \n",
    " 0   1   2   3   4   5   6  \n",
    "[ ] [S] (.) ... [ ] ... [ ]  \n",
    "[ ] [ ]         [ ]     [ ]  \n",
    "[S]             [S]     [S]  \n",
    "                [ ]     [ ]  \n",
    "\n",
    " 0   1   2   3   4   5   6  \n",
    "[ ] [ ] (.) ... [ ] ... [ ]  \n",
    "[S] [S]         [ ]     [ ]  \n",
    "[ ]             [ ]     [ ]  \n",
    "                [S]     [S]  \n",
    "\n",
    "\n",
    "Picosecond 3:  \n",
    " 0   1   2   3   4   5   6  \n",
    "[ ] [ ] ... (.) [ ] ... [ ]  \n",
    "[S] [S]         [ ]     [ ]  \n",
    "[ ]             [ ]     [ ]  \n",
    "                [S]     [S]  \n",
    "\n",
    " 0   1   2   3   4   5   6  \n",
    "[S] [S] ... (.) [ ] ... [ ]  \n",
    "[ ] [ ]         [ ]     [ ]  \n",
    "[ ]             [S]     [S]  \n",
    "                [ ]     [ ]  \n",
    "\n",
    "\n",
    "Picosecond 4:  \n",
    " 0   1   2   3   4   5   6  \n",
    "[S] [S] ... ... ( ) ... [ ]  \n",
    "[ ] [ ]         [ ]     [ ]  \n",
    "[ ]             [S]     [S]  \n",
    "                [ ]     [ ]  \n",
    "\n",
    " 0   1   2   3   4   5   6  \n",
    "[ ] [ ] ... ... ( ) ... [ ]  \n",
    "[S] [S]         [S]     [S]  \n",
    "[ ]             [ ]     [ ]  \n",
    "                [ ]     [ ]  \n",
    "\n",
    "\n",
    "Picosecond 5:  \n",
    " 0   1   2   3   4   5   6  \n",
    "[ ] [ ] ... ... [ ] (.) [ ]  \n",
    "[S] [S]         [S]     [S]  \n",
    "[ ]             [ ]     [ ]  \n",
    "                [ ]     [ ]  \n",
    "\n",
    " 0   1   2   3   4   5   6  \n",
    "[ ] [S] ... ... [S] (.) [S]  \n",
    "[ ] [ ]         [ ]     [ ]  \n",
    "[S]             [ ]     [ ]  \n",
    "                [ ]     [ ]  \n",
    "\n",
    "\n",
    "Picosecond 6:  \n",
    " 0   1   2   3   4   5   6  \n",
    "[ ] [S] ... ... [S] ... (S)  \n",
    "[ ] [ ]         [ ]     [ ]  \n",
    "[S]             [ ]     [ ]  \n",
    "                [ ]     [ ]  \n",
    "\n",
    " 0   1   2   3   4   5   6  \n",
    "[ ] [ ] ... ... [ ] ... ( )  \n",
    "[S] [S]         [S]     [S]  \n",
    "[ ]             [ ]     [ ]  \n",
    "                [ ]     [ ]  \n",
    "In this situation, you are caught in layers 0 and 6,  \n",
    "because your packet entered the layer when its scanner was at the top when you entered it.  \n",
    "You are not caught in layer 1, since the scanner moved into the top of the layer once you were already there.  \n",
    "\n",
    "The severity of getting caught on a layer is equal to its depth multiplied by its range.  \n",
    "(Ignore layers in which you do not get caught.) The severity of the whole trip is the sum of these values.  \n",
    "In the example above, the trip severity is 0*3 + 6*4 = 24.  \n",
    "\n",
    "Given the details of the firewall you've recorded, if you leave immediately, what is the severity of your whole trip?  "
   ]
  },
  {
   "cell_type": "code",
   "execution_count": 47,
   "metadata": {},
   "outputs": [],
   "source": [
    "# figure out how to traverse a list forwards, then backwards based on the tick"
   ]
  },
  {
   "cell_type": "code",
   "execution_count": 48,
   "metadata": {},
   "outputs": [
    {
     "name": "stdout",
     "output_type": "stream",
     "text": [
      "1\n",
      "2\n",
      "3\n"
     ]
    }
   ],
   "source": [
    "# Understanding generators (keyword=yield) https://stackoverflow.com/questions/231767/what-does-the-yield-keyword-do\n",
    "\n",
    "def f123():\n",
    "    yield 1\n",
    "    yield 2\n",
    "    yield 3\n",
    "\n",
    "for item in f123():\n",
    "    print item"
   ]
  },
  {
   "cell_type": "code",
   "execution_count": 49,
   "metadata": {},
   "outputs": [
    {
     "name": "stdout",
     "output_type": "stream",
     "text": [
      "[0, 1, 2, 3]\n",
      "[2, 1]\n"
     ]
    }
   ],
   "source": [
    "a=list(range(4))\n",
    "b=list(reversed(a[1:-1]))\n",
    "print a\n",
    "print b"
   ]
  },
  {
   "cell_type": "code",
   "execution_count": 50,
   "metadata": {},
   "outputs": [
    {
     "ename": "SyntaxError",
     "evalue": "invalid syntax (<ipython-input-50-e8c993d2576d>, line 5)",
     "output_type": "error",
     "traceback": [
      "\u001b[0;36m  File \u001b[0;32m\"<ipython-input-50-e8c993d2576d>\"\u001b[0;36m, line \u001b[0;32m5\u001b[0m\n\u001b[0;31m    yield from list1\u001b[0m\n\u001b[0m             ^\u001b[0m\n\u001b[0;31mSyntaxError\u001b[0m\u001b[0;31m:\u001b[0m invalid syntax\n"
     ]
    }
   ],
   "source": [
    "# Elegant answer that only works in Python3\n",
    "# https://stackoverflow.com/questions/50701772/how-to-traverse-a-list-until-it-reaches-the-last-element-then-traverse-it-backw/50701884#50701884\n",
    "\n",
    "def bounce(list1):\n",
    "    yield from list1\n",
    "    yield from list(reversed(list1[1:-1]))\n",
    "    \n",
    "for x in bounce(range(4)):\n",
    "    print x"
   ]
  },
  {
   "cell_type": "code",
   "execution_count": 51,
   "metadata": {},
   "outputs": [
    {
     "name": "stdout",
     "output_type": "stream",
     "text": [
      "1\n",
      "2\n",
      "3\n",
      "1\n",
      "2\n",
      "\n",
      "Finding nth element in generator\n",
      "1\n",
      "\n",
      " using islice\n"
     ]
    },
    {
     "data": {
      "text/plain": [
       "2"
      ]
     },
     "execution_count": 51,
     "metadata": {},
     "output_type": "execute_result"
    }
   ],
   "source": [
    "# Alternative solution using itertools.cycle\n",
    "from itertools import cycle, islice\n",
    "\n",
    "# create a generator\n",
    "g = cycle([1,2,3])\n",
    "\n",
    "# print out values\n",
    "# Syntax for Python 2 = itertools.cycle.next()\n",
    "# Syntax for Python 3 = next(itertools.cycle())\n",
    "print g.next()\n",
    "print g.next()\n",
    "print g.next()\n",
    "print g.next()\n",
    "print g.next()\n",
    "\n",
    "print '\\nFinding nth element in generator'\n",
    "for i in range(10): # 5 ticks\n",
    "    g.next()\n",
    "    if i==6:\n",
    "        print g.next()\n",
    "\n",
    "g = cycle([1,2,3])\n",
    "print '\\n using islice'\n",
    "# islice(generator, start_index, stop_index)\n",
    "list(islice(g,4,5))[0]"
   ]
  },
  {
   "cell_type": "code",
   "execution_count": 52,
   "metadata": {},
   "outputs": [],
   "source": [
    "def move_scanner(length,tick):\n",
    "    \"\"\"\n",
    "    Return index of Scanner based on how long this layer is (length)\n",
    "    and what tick (picosecond) are we on\n",
    "    \"\"\"\n",
    "    forwards=list(range(length))\n",
    "    backwards=list(reversed(forwards))[1:-1]\n",
    "    generator=cycle(forwards+backwards)\n",
    "    \n",
    "    return list(islice(generator,tick,tick+1))[0]"
   ]
  },
  {
   "cell_type": "code",
   "execution_count": 53,
   "metadata": {},
   "outputs": [
    {
     "name": "stdout",
     "output_type": "stream",
     "text": [
      "0\n",
      "1\n",
      "2\n",
      "1\n",
      "0\n"
     ]
    }
   ],
   "source": [
    "print move_scanner(3,0) #Ans should be 0\n",
    "print move_scanner(3,1) #Ans should be 1\n",
    "print move_scanner(3,2) #Ans should be 2\n",
    "print move_scanner(3,3) #Ans should be 1\n",
    "print move_scanner(3,4) #Ans should be 0"
   ]
  },
  {
   "cell_type": "code",
   "execution_count": 54,
   "metadata": {},
   "outputs": [
    {
     "name": "stdout",
     "output_type": "stream",
     "text": [
      "Pointer is at layer 0\n",
      "Pointer is at layer 1\n",
      "Pointer is at layer 2\n",
      "Pointer is at layer 3\n",
      "Pointer is at layer 4\n"
     ]
    }
   ],
   "source": [
    "# The user/pointer will be at layer n at n ticks.\n",
    "for n in range(5):\n",
    "    print 'Pointer is at layer {}'.format(n)"
   ]
  },
  {
   "cell_type": "code",
   "execution_count": 55,
   "metadata": {},
   "outputs": [],
   "source": [
    "# Creating the layers\n",
    "def create_layers(input_list):\n",
    "    \"\"\"\n",
    "    Inputs: str(layer_id,layer_length), eg. '0: 3'\n",
    "    Output: dict{key=layer_id, value=[0,1,2...layer_length]}\n",
    "    \"\"\"\n",
    "    dict_={}\n",
    "    for string in input_list:\n",
    "        # Parse string eg. \"0: 3\"\n",
    "        a,b=string.split(': ')\n",
    "        layer_id=int(a)\n",
    "        layer_length=int(b)\n",
    "\n",
    "        dict_[layer_id]=range(layer_length)\n",
    "    \n",
    "    return dict_\n",
    "        "
   ]
  },
  {
   "cell_type": "code",
   "execution_count": 56,
   "metadata": {},
   "outputs": [],
   "source": [
    "test=[\n",
    "    '0: 3',\n",
    "    '1: 2',\n",
    "    '4: 4',\n",
    "    '6: 4',\n",
    "]"
   ]
  },
  {
   "cell_type": "code",
   "execution_count": 57,
   "metadata": {},
   "outputs": [
    {
     "data": {
      "text/plain": [
       "{0: [0, 1, 2], 1: [0, 1], 4: [0, 1, 2, 3], 6: [0, 1, 2, 3]}"
      ]
     },
     "execution_count": 57,
     "metadata": {},
     "output_type": "execute_result"
    }
   ],
   "source": [
    "create_layers(test)"
   ]
  },
  {
   "cell_type": "code",
   "execution_count": 68,
   "metadata": {},
   "outputs": [],
   "source": [
    "def solve(INPUTS):\n",
    "    \"\"\"\n",
    "    Given a list of inputs, return severity\n",
    "    Severity = layer1*id1 + layer2*id2 ...\n",
    "    \"\"\"\n",
    "\n",
    "    d=create_layers(INPUTS)\n",
    "    TICKS=range(max(d.keys())+1)\n",
    "    severity=0\n",
    "\n",
    "    for t in TICKS:\n",
    "        try:\n",
    "            layer=d[t]\n",
    "            if move_scanner(len(layer),t)==0:\n",
    "                print 'Caught at layer {} depth {}'.format(t,len(layer))\n",
    "                severity+=(len(layer)*t)\n",
    "\n",
    "        except KeyError:\n",
    "            pass\n",
    "    \n",
    "    return severity"
   ]
  },
  {
   "cell_type": "code",
   "execution_count": 69,
   "metadata": {},
   "outputs": [
    {
     "name": "stdout",
     "output_type": "stream",
     "text": [
      "Caught at layer 0 depth 3\n",
      "Caught at layer 6 depth 4\n"
     ]
    },
    {
     "data": {
      "text/plain": [
       "24"
      ]
     },
     "execution_count": 69,
     "metadata": {},
     "output_type": "execute_result"
    }
   ],
   "source": [
    "solve(test)"
   ]
  },
  {
   "cell_type": "code",
   "execution_count": 70,
   "metadata": {},
   "outputs": [
    {
     "data": {
      "text/plain": [
       "['0: 4', '1: 2', '2: 3', '4: 4', '6: 8']"
      ]
     },
     "execution_count": 70,
     "metadata": {},
     "output_type": "execute_result"
    }
   ],
   "source": [
    "with open('input.txt') as f:\n",
    "    INPUTS=[i[:-1] for i in f.readlines()]\n",
    "INPUTS[:5]"
   ]
  },
  {
   "cell_type": "code",
   "execution_count": 71,
   "metadata": {},
   "outputs": [
    {
     "name": "stdout",
     "output_type": "stream",
     "text": [
      "Caught at layer 0 depth 4\n",
      "Caught at layer 8 depth 5\n",
      "Caught at layer 20 depth 6\n",
      "Caught at layer 22 depth 12\n",
      "Caught at layer 28 depth 8\n",
      "Caught at layer 88 depth 1\n"
     ]
    },
    {
     "data": {
      "text/plain": [
       "736"
      ]
     },
     "execution_count": 71,
     "metadata": {},
     "output_type": "execute_result"
    }
   ],
   "source": [
    "# My wrong answer\n",
    "solve(INPUTS)"
   ]
  },
  {
   "cell_type": "code",
   "execution_count": 67,
   "metadata": {},
   "outputs": [
    {
     "name": "stdout",
     "output_type": "stream",
     "text": [
      "Caught at layer 0 depth 4\n",
      "Caught at layer 8 depth 5\n",
      "Caught at layer 20 depth 6\n",
      "Caught at layer 22 depth 12\n",
      "Caught at layer 28 depth 8\n",
      "648\n"
     ]
    }
   ],
   "source": [
    "# Correct Answer\n",
    "\n",
    "total = 0\n",
    "\n",
    "for line in INPUTS:\n",
    "    layer, depth = list(map(int, line.split(\": \")))\n",
    "    try:\n",
    "        if layer % ((depth - 1)*2) == 0:\n",
    "            print 'Caught at layer {} depth {}'.format(layer,depth)\n",
    "            total += layer*depth\n",
    "    except ZeroDivisionError:\n",
    "        pass\n",
    "\n",
    "print(total)"
   ]
  },
  {
   "cell_type": "code",
   "execution_count": null,
   "metadata": {},
   "outputs": [],
   "source": [
    "# The error was caused by my poor way of parsing the input.txt\n",
    "# Layer 88 had a depth of 14, but I captured it as a depth of 1\n",
    "# Because i used i[:-1] which did not work for 2-digit depths"
   ]
  },
  {
   "cell_type": "code",
   "execution_count": 75,
   "metadata": {},
   "outputs": [
    {
     "data": {
      "text/plain": [
       "['0: 4', '1: 2', '2: 3', '4: 4', '6: 8']"
      ]
     },
     "execution_count": 75,
     "metadata": {},
     "output_type": "execute_result"
    }
   ],
   "source": [
    "# Correction\n",
    "with open('input.txt') as f:\n",
    "    INPUTS=[i.strip('\\n') for i in f.readlines()]\n",
    "INPUTS[:5]"
   ]
  },
  {
   "cell_type": "code",
   "execution_count": 76,
   "metadata": {},
   "outputs": [
    {
     "name": "stdout",
     "output_type": "stream",
     "text": [
      "Caught at layer 0 depth 4\n",
      "Caught at layer 8 depth 5\n",
      "Caught at layer 20 depth 6\n",
      "Caught at layer 22 depth 12\n",
      "Caught at layer 28 depth 8\n"
     ]
    },
    {
     "data": {
      "text/plain": [
       "648"
      ]
     },
     "execution_count": 76,
     "metadata": {},
     "output_type": "execute_result"
    }
   ],
   "source": [
    "solve(INPUTS)"
   ]
  },
  {
   "cell_type": "code",
   "execution_count": null,
   "metadata": {},
   "outputs": [],
   "source": []
  }
 ],
 "metadata": {
  "kernelspec": {
   "display_name": "Python 2",
   "language": "python",
   "name": "python2"
  },
  "language_info": {
   "codemirror_mode": {
    "name": "ipython",
    "version": 2
   },
   "file_extension": ".py",
   "mimetype": "text/x-python",
   "name": "python",
   "nbconvert_exporter": "python",
   "pygments_lexer": "ipython2",
   "version": "2.7.14"
  }
 },
 "nbformat": 4,
 "nbformat_minor": 2
}
