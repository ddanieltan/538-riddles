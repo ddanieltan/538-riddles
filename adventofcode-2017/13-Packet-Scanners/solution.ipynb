{
 "cells": [
  {
   "cell_type": "markdown",
   "metadata": {},
   "source": [
    "--- Day 13: Packet Scanners ---  \n",
    "You need to cross a vast firewall.  \n",
    "The firewall consists of several layers, each with a security scanner that moves back and forth across the layer.  \n",
    "To succeed, you must not be detected by a scanner.  \n",
    "\n",
    "By studying the firewall briefly, you are able to record (in your puzzle input) the depth of each layer  \n",
    "and the range of the scanning area for the scanner within it, written as depth: range.  \n",
    "Each layer has a thickness of exactly 1.  \n",
    "A layer at depth 0 begins immediately inside the firewall; a layer at depth 1 would start immediately after that.  \n",
    "\n",
    "In this situation, you are caught in layers 0 and 6,  \n",
    "because your packet entered the layer when its scanner was at the top when you entered it.  \n",
    "You are not caught in layer 1, since the scanner moved into the top of the layer once you were already there.  \n",
    "\n",
    "The severity of getting caught on a layer is equal to its depth multiplied by its range.  \n",
    "(Ignore layers in which you do not get caught.) The severity of the whole trip is the sum of these values.  \n",
    "In the example above, the trip severity is 0*3 + 6*4 = 24.  \n",
    "\n",
    "Given the details of the firewall you've recorded, if you leave immediately, what is the severity of your whole trip?  "
   ]
  },
  {
   "cell_type": "code",
   "execution_count": 14,
   "metadata": {},
   "outputs": [],
   "source": [
    "# figure out how to traverse a list forwards, then backwards based on the tick"
   ]
  },
  {
   "cell_type": "code",
   "execution_count": 15,
   "metadata": {},
   "outputs": [
    {
     "name": "stdout",
     "output_type": "stream",
     "text": [
      "1\n",
      "2\n",
      "3\n"
     ]
    }
   ],
   "source": [
    "# Understanding generators (keyword=yield) https://stackoverflow.com/questions/231767/what-does-the-yield-keyword-do\n",
    "\n",
    "def f123():\n",
    "    yield 1\n",
    "    yield 2\n",
    "    yield 3\n",
    "\n",
    "for item in f123():\n",
    "    print item"
   ]
  },
  {
   "cell_type": "code",
   "execution_count": 16,
   "metadata": {},
   "outputs": [
    {
     "name": "stdout",
     "output_type": "stream",
     "text": [
      "[0, 1, 2, 3]\n",
      "[2, 1]\n"
     ]
    }
   ],
   "source": [
    "a=list(range(4))\n",
    "b=list(reversed(a[1:-1]))\n",
    "print a\n",
    "print b"
   ]
  },
  {
   "cell_type": "code",
   "execution_count": null,
   "metadata": {},
   "outputs": [],
   "source": [
    "# Elegant answer that only works in Python3\n",
    "# https://stackoverflow.com/questions/50701772/how-to-traverse-a-list-until-it-reaches-the-last-element-then-traverse-it-backw/50701884#50701884\n",
    "\n",
    "def bounce(list1):\n",
    "    yield from list1\n",
    "    yield from list(reversed(list1[1:-1]))\n",
    "    \n",
    "for x in bounce(range(4)):\n",
    "    print x"
   ]
  },
  {
   "cell_type": "code",
   "execution_count": 18,
   "metadata": {},
   "outputs": [
    {
     "name": "stdout",
     "output_type": "stream",
     "text": [
      "1\n",
      "2\n",
      "3\n",
      "1\n",
      "2\n",
      "\n",
      "Finding nth element in generator\n",
      "1\n",
      "\n",
      " using islice\n"
     ]
    },
    {
     "data": {
      "text/plain": [
       "2"
      ]
     },
     "execution_count": 18,
     "metadata": {},
     "output_type": "execute_result"
    }
   ],
   "source": [
    "# Alternative solution using itertools.cycle\n",
    "from itertools import cycle, islice\n",
    "\n",
    "# create a generator\n",
    "g = cycle([1,2,3])\n",
    "\n",
    "# print out values\n",
    "# Syntax for Python 2 = itertools.cycle.next()\n",
    "# Syntax for Python 3 = next(itertools.cycle())\n",
    "print g.next()\n",
    "print g.next()\n",
    "print g.next()\n",
    "print g.next()\n",
    "print g.next()\n",
    "\n",
    "print '\\nFinding nth element in generator'\n",
    "for i in range(10): # 5 ticks\n",
    "    g.next()\n",
    "    if i==6:\n",
    "        print g.next()\n",
    "\n",
    "g = cycle([1,2,3])\n",
    "print '\\n using islice'\n",
    "# islice(generator, start_index, stop_index)\n",
    "list(islice(g,4,5))[0]"
   ]
  },
  {
   "cell_type": "code",
   "execution_count": 19,
   "metadata": {},
   "outputs": [],
   "source": [
    "def move_scanner(length,tick):\n",
    "    \"\"\"\n",
    "    Return index of Scanner based on how long this layer is (length)\n",
    "    and what tick (picosecond) are we on\n",
    "    \"\"\"\n",
    "    forwards=list(range(length))\n",
    "    backwards=list(reversed(forwards))[1:-1]\n",
    "    generator=cycle(forwards+backwards)\n",
    "    \n",
    "    return list(islice(generator,tick,tick+1))[0]"
   ]
  },
  {
   "cell_type": "code",
   "execution_count": null,
   "metadata": {},
   "outputs": [],
   "source": [
    "# Alternative way of finding index of the scanner, \n",
    "# sum(d*r for d,r,R in S if not d%R) # R= 2*range-2, d%R gives position of scanner"
   ]
  },
  {
   "cell_type": "code",
   "execution_count": 20,
   "metadata": {},
   "outputs": [
    {
     "name": "stdout",
     "output_type": "stream",
     "text": [
      "0\n",
      "1\n",
      "2\n",
      "1\n",
      "0\n"
     ]
    }
   ],
   "source": [
    "print move_scanner(3,0) #Ans should be 0\n",
    "print move_scanner(3,1) #Ans should be 1\n",
    "print move_scanner(3,2) #Ans should be 2\n",
    "print move_scanner(3,3) #Ans should be 1\n",
    "print move_scanner(3,4) #Ans should be 0"
   ]
  },
  {
   "cell_type": "code",
   "execution_count": 21,
   "metadata": {},
   "outputs": [
    {
     "name": "stdout",
     "output_type": "stream",
     "text": [
      "Pointer is at layer 0\n",
      "Pointer is at layer 1\n",
      "Pointer is at layer 2\n",
      "Pointer is at layer 3\n",
      "Pointer is at layer 4\n"
     ]
    }
   ],
   "source": [
    "# The user/pointer will be at layer n at n ticks.\n",
    "for n in range(5):\n",
    "    print 'Pointer is at layer {}'.format(n)"
   ]
  },
  {
   "cell_type": "code",
   "execution_count": 22,
   "metadata": {},
   "outputs": [],
   "source": [
    "# Creating the layers\n",
    "def create_layers(input_list):\n",
    "    \"\"\"\n",
    "    Inputs: str(layer_id,layer_length), eg. '0: 3'\n",
    "    Output: dict{key=layer_id, value=[0,1,2...layer_length]}\n",
    "    \"\"\"\n",
    "    dict_={}\n",
    "    for string in input_list:\n",
    "        # Parse string eg. \"0: 3\"\n",
    "        a,b=string.split(': ')\n",
    "        layer_id=int(a)\n",
    "        layer_length=int(b)\n",
    "\n",
    "        dict_[layer_id]=range(layer_length)\n",
    "    \n",
    "    return dict_\n",
    "        "
   ]
  },
  {
   "cell_type": "code",
   "execution_count": 23,
   "metadata": {},
   "outputs": [],
   "source": [
    "test=[\n",
    "    '0: 3',\n",
    "    '1: 2',\n",
    "    '4: 4',\n",
    "    '6: 4',\n",
    "]"
   ]
  },
  {
   "cell_type": "code",
   "execution_count": 24,
   "metadata": {},
   "outputs": [
    {
     "data": {
      "text/plain": [
       "{0: [0, 1, 2], 1: [0, 1], 4: [0, 1, 2, 3], 6: [0, 1, 2, 3]}"
      ]
     },
     "execution_count": 24,
     "metadata": {},
     "output_type": "execute_result"
    }
   ],
   "source": [
    "create_layers(test)"
   ]
  },
  {
   "cell_type": "code",
   "execution_count": 25,
   "metadata": {},
   "outputs": [],
   "source": [
    "def solve(INPUTS):\n",
    "    \"\"\"\n",
    "    Given a list of inputs, return severity\n",
    "    Severity = layer1*id1 + layer2*id2 ...\n",
    "    \"\"\"\n",
    "\n",
    "    d=create_layers(INPUTS)\n",
    "    TICKS=range(max(d.keys())+1)\n",
    "    severity=0\n",
    "\n",
    "    for t in TICKS:\n",
    "        try:\n",
    "            layer=d[t]\n",
    "            if move_scanner(len(layer),t)==0:\n",
    "                print 'Caught at layer {} depth {}'.format(t,len(layer))\n",
    "                severity+=(len(layer)*t)\n",
    "\n",
    "        except KeyError:\n",
    "            pass\n",
    "    \n",
    "    return severity"
   ]
  },
  {
   "cell_type": "code",
   "execution_count": 26,
   "metadata": {},
   "outputs": [
    {
     "name": "stdout",
     "output_type": "stream",
     "text": [
      "Caught at layer 0 depth 3\n",
      "Caught at layer 6 depth 4\n"
     ]
    },
    {
     "data": {
      "text/plain": [
       "24"
      ]
     },
     "execution_count": 26,
     "metadata": {},
     "output_type": "execute_result"
    }
   ],
   "source": [
    "solve(test)"
   ]
  },
  {
   "cell_type": "code",
   "execution_count": 27,
   "metadata": {},
   "outputs": [
    {
     "data": {
      "text/plain": [
       "['0: 4', '1: 2', '2: 3', '4: 4', '6: 8']"
      ]
     },
     "execution_count": 27,
     "metadata": {},
     "output_type": "execute_result"
    }
   ],
   "source": [
    "with open('input.txt') as f:\n",
    "    INPUTS=[i[:-1] for i in f.readlines()]\n",
    "INPUTS[:5]"
   ]
  },
  {
   "cell_type": "code",
   "execution_count": 28,
   "metadata": {},
   "outputs": [
    {
     "name": "stdout",
     "output_type": "stream",
     "text": [
      "Caught at layer 0 depth 4\n",
      "Caught at layer 8 depth 5\n",
      "Caught at layer 20 depth 6\n",
      "Caught at layer 22 depth 12\n",
      "Caught at layer 28 depth 8\n",
      "Caught at layer 88 depth 1\n"
     ]
    },
    {
     "data": {
      "text/plain": [
       "736"
      ]
     },
     "execution_count": 28,
     "metadata": {},
     "output_type": "execute_result"
    }
   ],
   "source": [
    "# My wrong answer\n",
    "solve(INPUTS)"
   ]
  },
  {
   "cell_type": "code",
   "execution_count": 29,
   "metadata": {},
   "outputs": [
    {
     "name": "stdout",
     "output_type": "stream",
     "text": [
      "Caught at layer 0 depth 4\n",
      "Caught at layer 8 depth 5\n",
      "Caught at layer 20 depth 6\n",
      "Caught at layer 22 depth 12\n",
      "Caught at layer 28 depth 8\n",
      "648\n"
     ]
    }
   ],
   "source": [
    "# Correct Answer\n",
    "\n",
    "total = 0\n",
    "\n",
    "for line in INPUTS:\n",
    "    layer, depth = list(map(int, line.split(\": \")))\n",
    "    try:\n",
    "        if layer % ((depth - 1)*2) == 0:\n",
    "            print 'Caught at layer {} depth {}'.format(layer,depth)\n",
    "            total += layer*depth\n",
    "    except ZeroDivisionError:\n",
    "        pass\n",
    "\n",
    "print(total)"
   ]
  },
  {
   "cell_type": "code",
   "execution_count": 30,
   "metadata": {},
   "outputs": [],
   "source": [
    "# The error was caused by my poor way of parsing the input.txt\n",
    "# Layer 88 had a depth of 14, but I captured it as a depth of 1\n",
    "# Because i used i[:-1] which did not work for 2-digit depths"
   ]
  },
  {
   "cell_type": "code",
   "execution_count": 31,
   "metadata": {},
   "outputs": [
    {
     "data": {
      "text/plain": [
       "['0: 4', '1: 2', '2: 3', '4: 4', '6: 8']"
      ]
     },
     "execution_count": 31,
     "metadata": {},
     "output_type": "execute_result"
    }
   ],
   "source": [
    "# Correction\n",
    "with open('input.txt') as f:\n",
    "    INPUTS=[i.strip('\\n') for i in f.readlines()]\n",
    "INPUTS[:5]"
   ]
  },
  {
   "cell_type": "code",
   "execution_count": 32,
   "metadata": {},
   "outputs": [
    {
     "name": "stdout",
     "output_type": "stream",
     "text": [
      "Caught at layer 0 depth 4\n",
      "Caught at layer 8 depth 5\n",
      "Caught at layer 20 depth 6\n",
      "Caught at layer 22 depth 12\n",
      "Caught at layer 28 depth 8\n"
     ]
    },
    {
     "data": {
      "text/plain": [
       "648"
      ]
     },
     "execution_count": 32,
     "metadata": {},
     "output_type": "execute_result"
    }
   ],
   "source": [
    "solve(INPUTS)"
   ]
  },
  {
   "cell_type": "markdown",
   "metadata": {},
   "source": [
    "--- Part Two ---\n",
    "\n",
    "Now, you need to pass through the firewall without being caught - easier said than done.\n",
    "\n",
    "You can't control the speed of the packet, but you can delay it any number of picoseconds.\n",
    "\n",
    "For each picosecond you delay the packet before beginning your trip, all security scanners move one step.\n",
    "\n",
    "You're not in the firewall during this time; you don't enter layer 0 until you stop delaying the packet.\n",
    "\n",
    "\n",
    "In the example above, if you delay 10 picoseconds (picoseconds 0 - 9), you won't get caught:\n",
    "\n",
    "Because all smaller delays would get you caught, the fewest number of picoseconds you would need to delay to get through safely is 10.\n",
    "\n",
    "What is the fewest number of picoseconds that you need to delay the packet to pass through the firewall without being caught?\n"
   ]
  },
  {
   "cell_type": "code",
   "execution_count": 33,
   "metadata": {},
   "outputs": [],
   "source": [
    "import itertools"
   ]
  },
  {
   "cell_type": "code",
   "execution_count": 34,
   "metadata": {},
   "outputs": [],
   "source": [
    "def solve2(INPUTS):\n",
    "    \"\"\"\n",
    "    Given a list of inputs, return the delay to not get caught by the scanner\n",
    "    \"\"\"\n",
    "    d=create_layers(INPUTS)\n",
    "\n",
    "    for delay in itertools.count():\n",
    "        TICKS=range(max(d.keys())+1+delay)[delay:]\n",
    "        caught=0\n",
    "        \n",
    "        for t in TICKS:\n",
    "            try:\n",
    "                layer=d[t-delay]\n",
    "                if move_scanner(len(layer),t)==0:\n",
    "                    #print 'Delay={} Caught at layer {} depth {}'.format(delay,t,len(layer))\n",
    "                    caught+=1\n",
    "\n",
    "            except KeyError:\n",
    "                pass\n",
    "        \n",
    "        #print caught\n",
    "        if caught==0:\n",
    "            return delay\n",
    "        \n",
    "    \n",
    "    return 9999 #no answer found\n",
    "    \n"
   ]
  },
  {
   "cell_type": "code",
   "execution_count": 35,
   "metadata": {},
   "outputs": [
    {
     "name": "stdout",
     "output_type": "stream",
     "text": [
      "[0, 1, 2, 3, 4, 5, 6]\n",
      "[1, 2, 3, 4, 5, 6, 7]\n",
      "[2, 3, 4, 5, 6, 7, 8]\n",
      "[3, 4, 5, 6, 7, 8, 9]\n",
      "[4, 5, 6, 7, 8, 9, 10]\n",
      "[5, 6, 7, 8, 9, 10, 11]\n"
     ]
    }
   ],
   "source": [
    "# Demo of counter\n",
    "for delay in itertools.count():\n",
    "    print range(6+1+delay)[delay:]\n",
    "    if delay==5:\n",
    "        break"
   ]
  },
  {
   "cell_type": "code",
   "execution_count": 36,
   "metadata": {},
   "outputs": [
    {
     "data": {
      "text/plain": [
       "10"
      ]
     },
     "execution_count": 36,
     "metadata": {},
     "output_type": "execute_result"
    }
   ],
   "source": [
    "solve2(test)"
   ]
  },
  {
   "cell_type": "code",
   "execution_count": null,
   "metadata": {},
   "outputs": [],
   "source": [
    "solve2(INPUTS)\n",
    "\n",
    "# I believe the solution here is correct but it runs WAY too slow because I'm looping through every step. \n",
    "# The final ans is in the millions. So this is a terribly inefficient way to find the answer."
   ]
  },
  {
   "cell_type": "code",
   "execution_count": 56,
   "metadata": {},
   "outputs": [],
   "source": [
    "# Creating the layers\n",
    "def create_layers2(input_list):\n",
    "    \"\"\"\n",
    "    Inputs: str(layer_id,layer_length), eg. '0: 3'\n",
    "    Output: dict{key=layer_id, values=[0,1,2...layer_length],2*range-2 }\n",
    "    \"\"\"\n",
    "    list_=[]\n",
    "    for string in input_list:\n",
    "        # Parse string eg. \"0: 3\"\n",
    "        a,b=string.split(': ')\n",
    "        layer_id=int(a)\n",
    "        layer_length=int(b)\n",
    "\n",
    "        list_.append((layer_id,layer_length,2*layer_length-2))\n",
    "    \n",
    "    return list_\n",
    "        "
   ]
  },
  {
   "cell_type": "code",
   "execution_count": 57,
   "metadata": {},
   "outputs": [
    {
     "data": {
      "text/plain": [
       "[(0, 3, 4), (1, 2, 2), (4, 4, 6), (6, 4, 6)]"
      ]
     },
     "execution_count": 57,
     "metadata": {},
     "output_type": "execute_result"
    }
   ],
   "source": [
    "M=create_layers2(test)\n",
    "M"
   ]
  },
  {
   "cell_type": "code",
   "execution_count": 58,
   "metadata": {},
   "outputs": [],
   "source": [
    "S=create_layers2(INPUTS)"
   ]
  },
  {
   "cell_type": "code",
   "execution_count": 81,
   "metadata": {},
   "outputs": [
    {
     "data": {
      "text/plain": [
       "3933124"
      ]
     },
     "execution_count": 81,
     "metadata": {},
     "output_type": "execute_result"
    }
   ],
   "source": [
    "# Correct answer online for Part 2\n",
    "(i for i in itertools.count() if all((i+d)%R for d,r,R in S)).next()"
   ]
  },
  {
   "cell_type": "code",
   "execution_count": null,
   "metadata": {},
   "outputs": [],
   "source": [
    "## Breaking it down\n",
    "next                          #python3 syntax, python2 is .next()\n",
    "(i for i in itertools.count() # generator that produces 0,1,2,3...\n",
    " if \n",
    " all(                         # returns True only if all inner conditions are True\n",
    "     (i+d)%R for d,r,R in S   # formula outputting index\n",
    " )\n",
    ")"
   ]
  },
  {
   "cell_type": "code",
   "execution_count": null,
   "metadata": {},
   "outputs": [],
   "source": [
    "# every i in the list comprehension needs to be a non-None value before all(...) returns True\n",
    "all(i for i in [1,2,3,4,5])"
   ]
  },
  {
   "cell_type": "code",
   "execution_count": 85,
   "metadata": {},
   "outputs": [
    {
     "data": {
      "text/plain": [
       "False"
      ]
     },
     "execution_count": 85,
     "metadata": {},
     "output_type": "execute_result"
    }
   ],
   "source": [
    "all(i for i in [1,2,3,4,5,None])"
   ]
  },
  {
   "cell_type": "code",
   "execution_count": null,
   "metadata": {},
   "outputs": [],
   "source": [
    "## Better worded but same model answer solution\n",
    "\n",
    "lines = [line.split(': ') for line in sys.stdin.readlines()]\n",
    "\n",
    "heights = {int(pos): int(height) for pos, height in lines}\n",
    "\n",
    "def scanner(height, time):\n",
    "    offset = time % ((height - 1) * 2)\n",
    "\n",
    "    return 2 * (height - 1) - offset if offset > height - 1 else offset\n",
    "\n",
    "part1 = sum(pos * heights[pos] for pos in heights if scanner(heights[pos], pos) == 0)\n",
    "\n",
    "part2 = next(wait for wait in itertools.count() if not any(scanner(heights[pos], wait + pos) == 0 for pos in heights))\n",
    "permalinkembedsavegive gold"
   ]
  }
 ],
 "metadata": {
  "kernelspec": {
   "display_name": "Python 2",
   "language": "python",
   "name": "python2"
  },
  "language_info": {
   "codemirror_mode": {
    "name": "ipython",
    "version": 2
   },
   "file_extension": ".py",
   "mimetype": "text/x-python",
   "name": "python",
   "nbconvert_exporter": "python",
   "pygments_lexer": "ipython2",
   "version": "2.7.14"
  }
 },
 "nbformat": 4,
 "nbformat_minor": 2
}
