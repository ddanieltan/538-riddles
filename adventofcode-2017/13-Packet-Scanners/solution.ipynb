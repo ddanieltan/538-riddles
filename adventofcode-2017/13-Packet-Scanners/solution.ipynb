{
 "cells": [
  {
   "cell_type": "markdown",
   "metadata": {},
   "source": [
    "--- Day 13: Packet Scanners ---  \n",
    "You need to cross a vast firewall.  \n",
    "The firewall consists of several layers, each with a security scanner that moves back and forth across the layer.  \n",
    "To succeed, you must not be detected by a scanner.  \n",
    "\n",
    "By studying the firewall briefly, you are able to record (in your puzzle input) the depth of each layer  \n",
    "and the range of the scanning area for the scanner within it, written as depth: range.  \n",
    "Each layer has a thickness of exactly 1.  \n",
    "A layer at depth 0 begins immediately inside the firewall; a layer at depth 1 would start immediately after that.  \n",
    "\n",
    "For example, suppose you've recorded the following:  \n",
    "\n",
    "0: 3  \n",
    "1: 2  \n",
    "4: 4  \n",
    "6: 4  \n",
    "This means that there is a layer immediately inside the firewall (with range 3),  \n",
    "a second layer immediately after that (with range 2), a third layer which begins at depth 4 (with range 4),  \n",
    "and a fourth layer which begins at depth 6 (also with range 4). Visually, it might look like this:  \n",
    "\n",
    " 0   1   2   3   4   5   6  \n",
    "[ ] [ ] ... ... [ ] ... [ ]  \n",
    "[ ] [ ]         [ ]     [ ]  \n",
    "[ ]             [ ]     [ ]  \n",
    "                [ ]     [ ]  \n",
    "Within each layer, a security scanner moves back and forth within its range.  \n",
    "Each security scanner starts at the top and moves down until it reaches the bottom,  \n",
    "then moves up until it reaches the top, and repeats.  \n",
    "A security scanner takes one picosecond to move one step. Drawing scanners as S,  \n",
    "the first few picoseconds look like this:  \n",
    "\n",
    "\n",
    "Picosecond 0:  \n",
    " 0   1   2   3   4   5   6  \n",
    "[S] [S] ... ... [S] ... [S]  \n",
    "[ ] [ ]         [ ]     [ ]  \n",
    "[ ]             [ ]     [ ]  \n",
    "                [ ]     [ ]  \n",
    "\n",
    "Picosecond 1:  \n",
    " 0   1   2   3   4   5   6  \n",
    "[ ] [ ] ... ... [ ] ... [ ]  \n",
    "[S] [S]         [S]     [S]  \n",
    "[ ]             [ ]     [ ]  \n",
    "                [ ]     [ ]  \n",
    "\n",
    "Picosecond 2:  \n",
    " 0   1   2   3   4   5   6  \n",
    "[ ] [S] ... ... [ ] ... [ ]  \n",
    "[ ] [ ]         [ ]     [ ]  \n",
    "[S]             [S]     [S]  \n",
    "                [ ]     [ ]  \n",
    "\n",
    "Picosecond 3:  \n",
    " 0   1   2   3   4   5   6  \n",
    "[ ] [ ] ... ... [ ] ... [ ]  \n",
    "[S] [S]         [ ]     [ ]  \n",
    "[ ]             [ ]     [ ]  \n",
    "                [S]     [S]  \n",
    "Your plan is to hitch a ride on a packet about to move through the firewall.  \n",
    "The packet will travel along the top of each layer, and it moves at one layer per picosecond.  \n",
    "Each picosecond, the packet moves one layer forward (its first move takes it into layer 0),  \n",
    "and then the scanners move one step.  \n",
    "If there is a scanner at the top of the layer as your packet enters it, you are caught.  \n",
    "(If a scanner moves into the top of its layer while you are there, you are not caught:  \n",
    "it doesn't have time to notice you before you leave.) If you were to do this in the configuration above,  \n",
    "marking your current position with parentheses, your passage through the firewall would look like this:  \n",
    "\n",
    "Initial state:  \n",
    " 0   1   2   3   4   5   6  \n",
    "[S] [S] ... ... [S] ... [S]  \n",
    "[ ] [ ]         [ ]     [ ]  \n",
    "[ ]             [ ]     [ ]  \n",
    "                [ ]     [ ]  \n",
    "\n",
    "Picosecond 0:  \n",
    " 0   1   2   3   4   5   6  \n",
    "(S) [S] ... ... [S] ... [S]  \n",
    "[ ] [ ]         [ ]     [ ]  \n",
    "[ ]             [ ]     [ ]  \n",
    "                [ ]     [ ]  \n",
    "\n",
    " 0   1   2   3   4   5   6  \n",
    "( ) [ ] ... ... [ ] ... [ ]  \n",
    "[S] [S]         [S]     [S]  \n",
    "[ ]             [ ]     [ ]  \n",
    "                [ ]     [ ]  \n",
    "\n",
    "\n",
    "Picosecond 1:  \n",
    " 0   1   2   3   4   5   6  \n",
    "[ ] ( ) ... ... [ ] ... [ ]  \n",
    "[S] [S]         [S]     [S]  \n",
    "[ ]             [ ]     [ ]  \n",
    "                [ ]     [ ]  \n",
    "\n",
    " 0   1   2   3   4   5   6  \n",
    "[ ] (S) ... ... [ ] ... [ ]  \n",
    "[ ] [ ]         [ ]     [ ]  \n",
    "[S]             [S]     [S]  \n",
    "                [ ]     [ ]  \n",
    "\n",
    "\n",
    "Picosecond 2:  \n",
    " 0   1   2   3   4   5   6  \n",
    "[ ] [S] (.) ... [ ] ... [ ]  \n",
    "[ ] [ ]         [ ]     [ ]  \n",
    "[S]             [S]     [S]  \n",
    "                [ ]     [ ]  \n",
    "\n",
    " 0   1   2   3   4   5   6  \n",
    "[ ] [ ] (.) ... [ ] ... [ ]  \n",
    "[S] [S]         [ ]     [ ]  \n",
    "[ ]             [ ]     [ ]  \n",
    "                [S]     [S]  \n",
    "\n",
    "\n",
    "Picosecond 3:  \n",
    " 0   1   2   3   4   5   6  \n",
    "[ ] [ ] ... (.) [ ] ... [ ]  \n",
    "[S] [S]         [ ]     [ ]  \n",
    "[ ]             [ ]     [ ]  \n",
    "                [S]     [S]  \n",
    "\n",
    " 0   1   2   3   4   5   6  \n",
    "[S] [S] ... (.) [ ] ... [ ]  \n",
    "[ ] [ ]         [ ]     [ ]  \n",
    "[ ]             [S]     [S]  \n",
    "                [ ]     [ ]  \n",
    "\n",
    "\n",
    "Picosecond 4:  \n",
    " 0   1   2   3   4   5   6  \n",
    "[S] [S] ... ... ( ) ... [ ]  \n",
    "[ ] [ ]         [ ]     [ ]  \n",
    "[ ]             [S]     [S]  \n",
    "                [ ]     [ ]  \n",
    "\n",
    " 0   1   2   3   4   5   6  \n",
    "[ ] [ ] ... ... ( ) ... [ ]  \n",
    "[S] [S]         [S]     [S]  \n",
    "[ ]             [ ]     [ ]  \n",
    "                [ ]     [ ]  \n",
    "\n",
    "\n",
    "Picosecond 5:  \n",
    " 0   1   2   3   4   5   6  \n",
    "[ ] [ ] ... ... [ ] (.) [ ]  \n",
    "[S] [S]         [S]     [S]  \n",
    "[ ]             [ ]     [ ]  \n",
    "                [ ]     [ ]  \n",
    "\n",
    " 0   1   2   3   4   5   6  \n",
    "[ ] [S] ... ... [S] (.) [S]  \n",
    "[ ] [ ]         [ ]     [ ]  \n",
    "[S]             [ ]     [ ]  \n",
    "                [ ]     [ ]  \n",
    "\n",
    "\n",
    "Picosecond 6:  \n",
    " 0   1   2   3   4   5   6  \n",
    "[ ] [S] ... ... [S] ... (S)  \n",
    "[ ] [ ]         [ ]     [ ]  \n",
    "[S]             [ ]     [ ]  \n",
    "                [ ]     [ ]  \n",
    "\n",
    " 0   1   2   3   4   5   6  \n",
    "[ ] [ ] ... ... [ ] ... ( )  \n",
    "[S] [S]         [S]     [S]  \n",
    "[ ]             [ ]     [ ]  \n",
    "                [ ]     [ ]  \n",
    "In this situation, you are caught in layers 0 and 6,  \n",
    "because your packet entered the layer when its scanner was at the top when you entered it.  \n",
    "You are not caught in layer 1, since the scanner moved into the top of the layer once you were already there.  \n",
    "\n",
    "The severity of getting caught on a layer is equal to its depth multiplied by its range.  \n",
    "(Ignore layers in which you do not get caught.) The severity of the whole trip is the sum of these values.  \n",
    "In the example above, the trip severity is 0*3 + 6*4 = 24.  \n",
    "\n",
    "Given the details of the firewall you've recorded, if you leave immediately, what is the severity of your whole trip?  "
   ]
  },
  {
   "cell_type": "code",
   "execution_count": 1,
   "metadata": {
    "collapsed": true
   },
   "outputs": [],
   "source": [
    "# figure out how to traverse a list forwards, then backwards based on the tick"
   ]
  },
  {
   "cell_type": "code",
   "execution_count": 25,
   "metadata": {},
   "outputs": [
    {
     "name": "stdout",
     "output_type": "stream",
     "text": [
      "1\n",
      "2\n",
      "3\n"
     ]
    }
   ],
   "source": [
    "# Understanding generators (keyword=yield) https://stackoverflow.com/questions/231767/what-does-the-yield-keyword-do\n",
    "\n",
    "def f123():\n",
    "    yield 1\n",
    "    yield 2\n",
    "    yield 3\n",
    "\n",
    "for item in f123():\n",
    "    print item"
   ]
  },
  {
   "cell_type": "code",
   "execution_count": 28,
   "metadata": {},
   "outputs": [
    {
     "name": "stdout",
     "output_type": "stream",
     "text": [
      "[0, 1, 2, 3]\n",
      "[2, 1]\n"
     ]
    }
   ],
   "source": [
    "a=list(range(4))\n",
    "b=list(reversed(a[1:-1]))\n",
    "print a\n",
    "print b"
   ]
  },
  {
   "cell_type": "code",
   "execution_count": 32,
   "metadata": {},
   "outputs": [
    {
     "ename": "SyntaxError",
     "evalue": "invalid syntax (<ipython-input-32-5a2875aeecb0>, line 2)",
     "output_type": "error",
     "traceback": [
      "\u001b[0;36m  File \u001b[0;32m\"<ipython-input-32-5a2875aeecb0>\"\u001b[0;36m, line \u001b[0;32m2\u001b[0m\n\u001b[0;31m    yield from list1\u001b[0m\n\u001b[0m             ^\u001b[0m\n\u001b[0;31mSyntaxError\u001b[0m\u001b[0;31m:\u001b[0m invalid syntax\n"
     ]
    }
   ],
   "source": [
    "# Elegant answer that only works in Python3\n",
    "# https://stackoverflow.com/questions/50701772/how-to-traverse-a-list-until-it-reaches-the-last-element-then-traverse-it-backw/50701884#50701884\n",
    "\n",
    "def bounce(list1):\n",
    "    yield from list1\n",
    "    yield from list(reversed(list1[1:-1]))\n",
    "    \n",
    "for x in bounce(range(4)):\n",
    "    print x"
   ]
  },
  {
   "cell_type": "code",
   "execution_count": 34,
   "metadata": {},
   "outputs": [
    {
     "data": {
      "text/plain": [
       "1"
      ]
     },
     "execution_count": 34,
     "metadata": {},
     "output_type": "execute_result"
    }
   ],
   "source": [
    "# Alternative solution using itertools.cycle\n"
   ]
  },
  {
   "cell_type": "code",
   "execution_count": 9,
   "metadata": {},
   "outputs": [],
   "source": [
    "def move_scanner(length,tick):\n",
    "    \"\"\"\n",
    "    Return index of Scanner based on how long this layer is (length)\n",
    "    and what tick (picosecond) are we on\n",
    "    \"\"\"\n",
    "    forwards_list=list(range(length))\n",
    "    backwards_list=list(reversed(forwards_list))\n",
    "    \n",
    "    \n",
    "    \n",
    "    \n",
    "    \n",
    "    return tick%range1"
   ]
  },
  {
   "cell_type": "code",
   "execution_count": 10,
   "metadata": {},
   "outputs": [
    {
     "name": "stdout",
     "output_type": "stream",
     "text": [
      "0\n",
      "1\n",
      "2\n",
      "0\n",
      "1\n"
     ]
    }
   ],
   "source": [
    "print move_scanner(3,0) #Ans should be 0\n",
    "print move_scanner(3,1) #Ans should be 1\n",
    "print move_scanner(3,2) #Ans should be 2\n",
    "print move_scanner(3,3) #Ans should be 1\n",
    "print move_scanner(3,4) #Ans should be 0"
   ]
  },
  {
   "cell_type": "code",
   "execution_count": 1,
   "metadata": {},
   "outputs": [],
   "source": [
    "def move_scanner(layer):\n",
    "    \"\"\"\n",
    "    Move scanner within a layer on 1 tick\n",
    "    Return new layer\n",
    "    \"\"\"\n",
    "    \n",
    "    output=list(layer)\n",
    "    \n",
    "    # find current index of scanner and direction\n",
    "    index=0\n",
    "    direction=''\n",
    "    for i in output:\n",
    "        if i!=None:\n",
    "            index=output.index(i)\n",
    "            direction=i\n",
    "    \n",
    "    #move 1 step forwards or backwards\n",
    "    if direction=='f':\n",
    "        if index+1==len(layer)-1: # swap f to b if we're at end of list\n",
    "            output[index+1]='b'\n",
    "        else:\n",
    "            output[index+1]=direction\n",
    "    elif direction=='b':\n",
    "        if index-1==0:\n",
    "            output[index-1]='f'\n",
    "        else:\n",
    "            output[index-1]=direction\n",
    "        \n",
    "    # remove initial entry\n",
    "    output[index]=None\n",
    "\n",
    "    \n",
    "    return output"
   ]
  },
  {
   "cell_type": "code",
   "execution_count": 2,
   "metadata": {},
   "outputs": [
    {
     "data": {
      "text/plain": [
       "[None, None, None, 'b']"
      ]
     },
     "execution_count": 2,
     "metadata": {},
     "output_type": "execute_result"
    }
   ],
   "source": [
    "move_scanner([None,None,'f',None])"
   ]
  },
  {
   "cell_type": "code",
   "execution_count": 4,
   "metadata": {},
   "outputs": [
    {
     "data": {
      "text/plain": [
       "[None, None, 'b', None]"
      ]
     },
     "execution_count": 4,
     "metadata": {},
     "output_type": "execute_result"
    }
   ],
   "source": [
    "move_scanner([None,None,None,'b'])"
   ]
  },
  {
   "cell_type": "code",
   "execution_count": 5,
   "metadata": {},
   "outputs": [
    {
     "data": {
      "text/plain": [
       "[None, 'b', None, None]"
      ]
     },
     "execution_count": 5,
     "metadata": {},
     "output_type": "execute_result"
    }
   ],
   "source": [
    "move_scanner([None,None,'b',None])"
   ]
  },
  {
   "cell_type": "code",
   "execution_count": 6,
   "metadata": {},
   "outputs": [
    {
     "data": {
      "text/plain": [
       "['f', None, None, None]"
      ]
     },
     "execution_count": 6,
     "metadata": {},
     "output_type": "execute_result"
    }
   ],
   "source": [
    "move_scanner([None, 'b', None, None])"
   ]
  },
  {
   "cell_type": "code",
   "execution_count": 7,
   "metadata": {
    "collapsed": true
   },
   "outputs": [],
   "source": [
    "test_inputs=[\n",
    "    '0: 3',\n",
    "    '1: 2',\n",
    "    '4: 4',\n",
    "    '6: 4',\n",
    "]"
   ]
  },
  {
   "cell_type": "code",
   "execution_count": 10,
   "metadata": {
    "collapsed": true
   },
   "outputs": [],
   "source": [
    "def parse_inputs(input_list,output={}):\n",
    "    \"\"\"\n",
    "    Return a list of layers\n",
    "    \n",
    "    layer[0]=id\n",
    "    layer[1]=[None, None, ..., None]\n",
    "    \"\"\"\n",
    "    \n",
    "    parsed=[i.split(': ') for i in input_list]\n",
    "        \n",
    "    for p in parsed:\n",
    "        \n",
    "        id_=int(p[0])\n",
    "        initial_list=[None]*int(p[1])\n",
    "        initial_list[0]='f'\n",
    "        \n",
    "        output[id_]=initial_list\n",
    "        #output.append([id_,initial_list])\n",
    "        \n",
    "    return output\n",
    "        "
   ]
  },
  {
   "cell_type": "code",
   "execution_count": 11,
   "metadata": {},
   "outputs": [
    {
     "data": {
      "text/plain": [
       "{0: ['f', None, None],\n",
       " 1: ['f', None],\n",
       " 4: ['f', None, None, None],\n",
       " 6: ['f', None, None, None]}"
      ]
     },
     "execution_count": 11,
     "metadata": {},
     "output_type": "execute_result"
    }
   ],
   "source": [
    "parse_inputs(test_inputs)"
   ]
  },
  {
   "cell_type": "code",
   "execution_count": 17,
   "metadata": {},
   "outputs": [],
   "source": [
    "dictionary=parse_inputs(test_inputs)"
   ]
  },
  {
   "cell_type": "code",
   "execution_count": 18,
   "metadata": {},
   "outputs": [
    {
     "data": {
      "text/plain": [
       "[0, 1, 4, 6]"
      ]
     },
     "execution_count": 18,
     "metadata": {},
     "output_type": "execute_result"
    }
   ],
   "source": [
    "parse_inputs(test_inputs).keys()"
   ]
  },
  {
   "cell_type": "code",
   "execution_count": 20,
   "metadata": {},
   "outputs": [
    {
     "data": {
      "text/plain": [
       "{0: ['f', None, None],\n",
       " 1: ['f', None],\n",
       " 4: ['f', None, None, None],\n",
       " 6: ['f', None, None, None]}"
      ]
     },
     "execution_count": 20,
     "metadata": {},
     "output_type": "execute_result"
    }
   ],
   "source": [
    "for i in range(6): #10 ticks\n",
    "    for key,value in dictionary.iteritems():\n",
    "        if i==key and value[0]=='f':\n",
    "            print 'caught'\n",
    "        else:\n",
    "            dictionary[key]=move_scanner(value)\n",
    "\n",
    "dictionary"
   ]
  },
  {
   "cell_type": "code",
   "execution_count": null,
   "metadata": {
    "collapsed": true
   },
   "outputs": [],
   "source": []
  }
 ],
 "metadata": {
  "kernelspec": {
   "display_name": "Python 2",
   "language": "python",
   "name": "python2"
  },
  "language_info": {
   "codemirror_mode": {
    "name": "ipython",
    "version": 2
   },
   "file_extension": ".py",
   "mimetype": "text/x-python",
   "name": "python",
   "nbconvert_exporter": "python",
   "pygments_lexer": "ipython2",
   "version": "2.7.14"
  }
 },
 "nbformat": 4,
 "nbformat_minor": 2
}
