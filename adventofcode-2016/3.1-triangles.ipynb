{
 "cells": [
  {
   "cell_type": "code",
   "execution_count": 9,
   "metadata": {
    "collapsed": true,
    "deletable": true,
    "editable": true
   },
   "outputs": [],
   "source": [
    "import pandas as pd\n",
    "import numpy as np"
   ]
  },
  {
   "cell_type": "code",
   "execution_count": 1,
   "metadata": {
    "collapsed": false,
    "deletable": true,
    "editable": true
   },
   "outputs": [
    {
     "data": {
      "text/plain": [
       "[['566', '477', '376'],\n",
       " ['575', '488', '365'],\n",
       " ['50', '18', '156'],\n",
       " ['558', '673', '498'],\n",
       " ['133', '112', '510'],\n",
       " ['670', '613', '25']]"
      ]
     },
     "execution_count": 1,
     "metadata": {},
     "output_type": "execute_result"
    }
   ],
   "source": [
    "with open('input/3.1.txt') as f:\n",
    "    contents=f.readlines()\n",
    "    contents=[x.split() for x in contents]\n",
    "contents[:6]"
   ]
  },
  {
   "cell_type": "code",
   "execution_count": 30,
   "metadata": {
    "collapsed": false,
    "deletable": true,
    "editable": true
   },
   "outputs": [
    {
     "name": "stdout",
     "output_type": "stream",
     "text": [
      "1050\n"
     ]
    }
   ],
   "source": [
    "counter=0\n",
    "for c in contents:\n",
    "    temp_array=np.array([int(c[0]),int(c[1]),int(c[2])])\n",
    "    temp_array=np.sort(temp_array) # sort ascending order\n",
    "    longest_side = temp_array[2]\n",
    "    other_sides = temp_array[0]+temp_array[1]\n",
    "    if other_sides>longest_side:\n",
    "        counter+=1\n",
    "print counter"
   ]
  },
  {
   "cell_type": "code",
   "execution_count": null,
   "metadata": {
    "collapsed": true,
    "deletable": true,
    "editable": true
   },
   "outputs": [],
   "source": []
  }
 ],
 "metadata": {
  "kernelspec": {
   "display_name": "Python 2",
   "language": "python",
   "name": "python2"
  },
  "language_info": {
   "codemirror_mode": {
    "name": "ipython",
    "version": 2
   },
   "file_extension": ".py",
   "mimetype": "text/x-python",
   "name": "python",
   "nbconvert_exporter": "python",
   "pygments_lexer": "ipython2",
   "version": "2.7.13"
  }
 },
 "nbformat": 4,
 "nbformat_minor": 2
}
