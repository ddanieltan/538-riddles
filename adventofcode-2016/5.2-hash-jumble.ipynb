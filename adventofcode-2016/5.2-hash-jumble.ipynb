{
 "cells": [
  {
   "cell_type": "code",
   "execution_count": 55,
   "metadata": {
    "collapsed": true,
    "deletable": true,
    "editable": true
   },
   "outputs": [],
   "source": [
    "import pandas as pd\n",
    "import numpy as np\n",
    "import hashlib"
   ]
  },
  {
   "cell_type": "code",
   "execution_count": 56,
   "metadata": {
    "collapsed": true,
    "deletable": true,
    "editable": true
   },
   "outputs": [],
   "source": [
    "match_string='00000'"
   ]
  },
  {
   "cell_type": "code",
   "execution_count": 57,
   "metadata": {
    "collapsed": false,
    "deletable": true,
    "editable": true
   },
   "outputs": [],
   "source": [
    "def get_pw(input_string,match_string):\n",
    "    unsorted_pw = []\n",
    "    counter=0\n",
    "    seen_positions =[]\n",
    "    while len(unsorted_pw)<8:\n",
    "        hash_string = input_string+str(counter) #abc123\n",
    "        hash_result = hashlib.md5(hash_string).hexdigest() #output is a string      \n",
    "        if hash_result[:5] == match_string:\n",
    "            print hash_result\n",
    "            try:\n",
    "                position = int(hash_result[5])\n",
    "                if position<=7 and position not in seen_positions:\n",
    "                    unsorted_pw.append((position,hash_result[6]))\n",
    "                    seen_positions.append(position)\n",
    "            except ValueError, e:\n",
    "                pass   \n",
    "        counter += 1\n",
    "    \n",
    "    sorted_pw = sorted(unsorted_pw, key=lambda x:x[0])\n",
    "    pw = [x[1] for x in sorted_pw]\n",
    "    \n",
    "    return ''.join(pw)"
   ]
  },
  {
   "cell_type": "code",
   "execution_count": 59,
   "metadata": {
    "collapsed": false,
    "deletable": true,
    "editable": true
   },
   "outputs": [
    {
     "name": "stdout",
     "output_type": "stream",
     "text": [
      "00000155f8105dff7f56ee10fa9b9abd\n",
      "000008f82c5b3924a1ecbebf60344e00\n",
      "00000f9a2c309875e05c5a5d09f1b8c4\n",
      "000004e597bd77c5cd2133e9d885fe7e\n",
      "0000073848c9ff7a27ca2e942ac10a4c\n",
      "00000a9c311683dbbf122e9611a1c2d4\n",
      "000003c75169d14fdb31ec1593915cff\n",
      "0000000ea49fd3fc1b2f10e02d98ee96\n",
      "000006e42e097c536b8be5179d65f327\n",
      "000007b9278b049b172742aa82b5119a\n",
      "000009d6e11733ceb6566b9c925a0770\n",
      "00000cf8353c7d266a990865ea529f26\n",
      "00000d64ba3bbc8102ec6179e495d88e\n",
      "000006601753bceae1d061b3600deb3e\n",
      "0000058939cbc6a1d1ab3bf7d29b0764\n",
      "000002af5a2d97ef50063c37644d0166\n"
     ]
    },
    {
     "data": {
      "text/plain": [
       "'05ace8e3'"
      ]
     },
     "execution_count": 59,
     "metadata": {},
     "output_type": "execute_result"
    }
   ],
   "source": [
    "# Test case\n",
    "get_pw('abc',match_string)"
   ]
  },
  {
   "cell_type": "code",
   "execution_count": 60,
   "metadata": {
    "collapsed": false,
    "deletable": true,
    "editable": true
   },
   "outputs": [
    {
     "name": "stdout",
     "output_type": "stream",
     "text": [
      "00000c6c3f533fe4f7b0cb6d851185a8\n",
      "000006a94bb1c9322cbb56dd8564e76e\n",
      "000006c8c9090315b0fb38154a947c86\n",
      "00000970faef6424564944d5e8a59618\n",
      "000007b2e0e83dfeade14ebe09f9e6a7\n",
      "00000bc5fdee6506b09262247ceb63f0\n",
      "0000051079ac6b44fc3a5266a1630d42\n",
      "00000537192966c3ee924306195faede\n",
      "0000008239d1bbf480ea541e9da1e494\n",
      "000008bed8f2fabab6548bb3edd7e8e5\n",
      "0000070bd33213b6ccc4e369b2daa8c1\n",
      "00000351ce68ffb449644d4bfa4cee5d\n",
      "00000e1da9c24b1aab3a54427e4881e0\n",
      "00000bc7014bff91acabdaa04c2e36b4\n",
      "00000ae3448eda0cf4b03e477d7bb14f\n",
      "00000fe244eb868fbdfb8669c0839638\n",
      "00000729b28151d5bae574bee4cf6953\n",
      "00000f71f44480ec3af1560ac7f6841e\n",
      "00000a7325cc6dab6ca39ad3bccdd46b\n",
      "000005ab6ffd053eb419c0aaf02daa5c\n",
      "00000e65b4ed6759bb5f2274eca5c327\n",
      "00000e095bd1af53252bc7635fa7a5e8\n",
      "00000583b5bc6e887cea24907e0df958\n",
      "000007ba60bbd28ca93292f666fe58d8\n",
      "000000acd5e9762a7106c60088550ed9\n",
      "000006ed719910d3d2aac1c5c34309b6\n",
      "00000f03c1b40ba46e7665324fde042b\n",
      "000008e7cf60038c10243b00f3fd7301\n",
      "00000ef5ef7334a470efea70332d9c07\n",
      "0000075db939b5b10a25ef7a7e610b37\n",
      "000001c3c28bcbacf0f543a33548ef24\n",
      "000004d57fc545f376c09f27383b2c88\n",
      "0000062ad27ec5733af76d15764d4392\n",
      "0000023d12c49f028699d4679ba91780\n"
     ]
    },
    {
     "data": {
      "text/plain": [
       "'8c35d1ab'"
      ]
     },
     "execution_count": 60,
     "metadata": {},
     "output_type": "execute_result"
    }
   ],
   "source": [
    "# Actual\n",
    "get_pw('ffykfhsq',match_string)"
   ]
  }
 ],
 "metadata": {
  "kernelspec": {
   "display_name": "Python 2",
   "language": "python",
   "name": "python2"
  },
  "language_info": {
   "codemirror_mode": {
    "name": "ipython",
    "version": 2
   },
   "file_extension": ".py",
   "mimetype": "text/x-python",
   "name": "python",
   "nbconvert_exporter": "python",
   "pygments_lexer": "ipython2",
   "version": "2.7.13"
  }
 },
 "nbformat": 4,
 "nbformat_minor": 2
}
