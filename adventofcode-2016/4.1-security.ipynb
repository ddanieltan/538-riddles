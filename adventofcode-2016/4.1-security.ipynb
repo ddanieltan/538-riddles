{
 "cells": [
  {
   "cell_type": "code",
   "execution_count": 118,
   "metadata": {
    "collapsed": true
   },
   "outputs": [],
   "source": [
    "import pandas as pd\n",
    "import numpy as np\n",
    "import re\n",
    "import sys"
   ]
  },
  {
   "cell_type": "code",
   "execution_count": 112,
   "metadata": {
    "collapsed": true
   },
   "outputs": [],
   "source": [
    "test_input = ['aaaaa-bbb-z-y-x-123[abxyz]',\n",
    "             'a-b-c-d-e-f-g-h-987[abcde]',\n",
    "             'not-a-real-room-404[oarel]',\n",
    "             'totally-real-room-200[decoy]']"
   ]
  },
  {
   "cell_type": "code",
   "execution_count": 126,
   "metadata": {
    "collapsed": false
   },
   "outputs": [],
   "source": [
    "# check if room is 'real'\n",
    "def is_real(letters,checksum):\n",
    "    distinct_letters=list(set(letters))\n",
    "    length= [letters.count(d) for d in distinct_letters]\n",
    "    \n",
    "    d = {'length':length,'letter':distinct_letters}\n",
    "    df = pd.DataFrame(data=d)\n",
    "    \n",
    "    #1. sort words in letters by length\n",
    "    #2. if length is tied, sort by alphabetical order\n",
    "    df=df.sort_values(['length', 'letter'], ascending=[False, True]) #https://stackoverflow.com/questions/17141558/how-to-sort-a-dataframe-in-python-pandas-by-two-or-more-columns\n",
    "    df=df.reset_index(drop=True)\n",
    "\n",
    "    #3. checking against checksum\n",
    "    result=''\n",
    "    for i in range(0,5):\n",
    "        result+=(df['letter'][i])\n",
    "\n",
    "    if result==checksum:\n",
    "        return True\n",
    "    else:\n",
    "        return False\n"
   ]
  },
  {
   "cell_type": "code",
   "execution_count": 127,
   "metadata": {
    "collapsed": false
   },
   "outputs": [
    {
     "data": {
      "text/plain": [
       "True"
      ]
     },
     "execution_count": 127,
     "metadata": {},
     "output_type": "execute_result"
    }
   ],
   "source": [
    "is_real('aaaaabbbzyx','abxyz')"
   ]
  },
  {
   "cell_type": "code",
   "execution_count": 129,
   "metadata": {
    "collapsed": false,
    "deletable": true,
    "editable": true
   },
   "outputs": [
    {
     "name": "stdout",
     "output_type": "stream",
     "text": [
      "1514\n"
     ]
    }
   ],
   "source": [
    "# Test case, correct ans=1514\n",
    "sum_sid=0\n",
    "for i in test_input:\n",
    "    letters,checksum = filter(None,re.findall('[^\\d]*',i)) #aaaaa-bbb-z-y-x-,[abxyz]\n",
    "    letters=re.sub('-','',letters) #aaaaabbbzyx\n",
    "    checksum=checksum.strip('[]') #[abxyz]->abxyz\n",
    "    sid=int(re.findall('\\d+',i)[0])\n",
    "    \n",
    "    if is_real(letters,checksum):\n",
    "        sum_sid+=sid\n",
    "print sum_sid"
   ]
  },
  {
   "cell_type": "code",
   "execution_count": 134,
   "metadata": {
    "collapsed": false
   },
   "outputs": [],
   "source": [
    "# Actual inputs\n",
    "with open('input/4.1.txt') as f:\n",
    "    content=f.readlines()\n",
    "    content=[x.strip('\\n') for x in content]\n"
   ]
  },
  {
   "cell_type": "code",
   "execution_count": 135,
   "metadata": {
    "collapsed": false
   },
   "outputs": [
    {
     "name": "stdout",
     "output_type": "stream",
     "text": [
      "173787\n"
     ]
    }
   ],
   "source": [
    "sum_sid=0\n",
    "for c in content:\n",
    "    letters,checksum = filter(None,re.findall('[^\\d]*',c))\n",
    "    letters = re.sub('-','',letters)\n",
    "    checksum = checksum.strip('[]')\n",
    "    sid = int(re.findall('\\d+',c)[0])\n",
    "    \n",
    "    if is_real(letters,checksum):\n",
    "        sum_sid+=sid\n",
    "print sum_sid"
   ]
  },
  {
   "cell_type": "code",
   "execution_count": null,
   "metadata": {
    "collapsed": true
   },
   "outputs": [],
   "source": []
  }
 ],
 "metadata": {
  "kernelspec": {
   "display_name": "Python 2",
   "language": "python",
   "name": "python2"
  },
  "language_info": {
   "codemirror_mode": {
    "name": "ipython",
    "version": 2
   },
   "file_extension": ".py",
   "mimetype": "text/x-python",
   "name": "python",
   "nbconvert_exporter": "python",
   "pygments_lexer": "ipython2",
   "version": "2.7.13"
  }
 },
 "nbformat": 4,
 "nbformat_minor": 2
}
