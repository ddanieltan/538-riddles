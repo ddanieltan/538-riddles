{
 "cells": [
  {
   "cell_type": "code",
   "execution_count": 1,
   "metadata": {
    "collapsed": true,
    "deletable": true,
    "editable": true
   },
   "outputs": [],
   "source": [
    "import pandas as pd\n",
    "import numpy as np"
   ]
  },
  {
   "cell_type": "code",
   "execution_count": 1,
   "metadata": {
    "collapsed": false,
    "deletable": true,
    "editable": true
   },
   "outputs": [
    {
     "data": {
      "text/plain": [
       "[['566', '477', '376'],\n",
       " ['575', '488', '365'],\n",
       " ['50', '18', '156'],\n",
       " ['558', '673', '498'],\n",
       " ['133', '112', '510'],\n",
       " ['670', '613', '25']]"
      ]
     },
     "execution_count": 1,
     "metadata": {},
     "output_type": "execute_result"
    }
   ],
   "source": [
    "with open('input/3.1.txt') as f:\n",
    "    contents=f.readlines()\n",
    "    contents=[x.split() for x in contents]\n",
    "contents[:6]"
   ]
  },
  {
   "cell_type": "code",
   "execution_count": 3,
   "metadata": {
    "collapsed": false,
    "deletable": true,
    "editable": true
   },
   "outputs": [],
   "source": [
    "# parsing verticle arrays into horizontal\n",
    "a=[]\n",
    "b=[]\n",
    "c=[]\n",
    "for row in contents:\n",
    "    a.append(int(row[0]))\n",
    "    b.append(int(row[1]))\n",
    "    c.append(int(row[2]))"
   ]
  },
  {
   "cell_type": "code",
   "execution_count": 4,
   "metadata": {
    "collapsed": false,
    "deletable": true,
    "editable": true
   },
   "outputs": [
    {
     "name": "stdout",
     "output_type": "stream",
     "text": [
      "1992\n",
      "[[566, 575, 50], [558, 133, 670], [84, 910, 894], [581, 98, 628], [129, 187, 288], [569, 685, 256]]\n"
     ]
    }
   ],
   "source": [
    "triangles=[]\n",
    "for i in xrange(0,len(a),3):\n",
    "    arr=[a[i],a[i+1],a[i+2]]\n",
    "    triangles.append(arr)\n",
    "for i in xrange(0,len(b),3):\n",
    "    arr=[b[i],b[i+1],b[i+2]]\n",
    "    triangles.append(arr)\n",
    "for i in xrange(0,len(c),3):\n",
    "    arr=[c[i],c[i+1],c[i+2]]\n",
    "    triangles.append(arr)\n",
    "print len(triangles)\n",
    "print triangles[:6]\n",
    "    "
   ]
  },
  {
   "cell_type": "code",
   "execution_count": 17,
   "metadata": {
    "collapsed": false,
    "deletable": true,
    "editable": true
   },
   "outputs": [
    {
     "name": "stdout",
     "output_type": "stream",
     "text": [
      "1921\n"
     ]
    }
   ],
   "source": [
    "# checking sides\n",
    "counter=0\n",
    "for t in triangles:\n",
    "    t = np.sort(t)\n",
    "    longest_side=t[2]\n",
    "    other_sides=t[0]+t[1]\n",
    "    if other_sides>longest_side:\n",
    "        counter+=1\n",
    "print counter\n"
   ]
  },
  {
   "cell_type": "code",
   "execution_count": null,
   "metadata": {
    "collapsed": true,
    "deletable": true,
    "editable": true
   },
   "outputs": [],
   "source": []
  }
 ],
 "metadata": {
  "kernelspec": {
   "display_name": "Python 2",
   "language": "python",
   "name": "python2"
  },
  "language_info": {
   "codemirror_mode": {
    "name": "ipython",
    "version": 2
   },
   "file_extension": ".py",
   "mimetype": "text/x-python",
   "name": "python",
   "nbconvert_exporter": "python",
   "pygments_lexer": "ipython2",
   "version": "2.7.13"
  }
 },
 "nbformat": 4,
 "nbformat_minor": 2
}
