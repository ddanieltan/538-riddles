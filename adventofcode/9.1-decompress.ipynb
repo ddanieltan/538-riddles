{
 "cells": [
  {
   "cell_type": "code",
   "execution_count": 1,
   "metadata": {
    "collapsed": true
   },
   "outputs": [],
   "source": [
    "import pandas as pd\n",
    "import numpy as np\n",
    "import re"
   ]
  },
  {
   "cell_type": "code",
   "execution_count": null,
   "metadata": {
    "collapsed": true
   },
   "outputs": [],
   "source": [
    "\"\"\"\n",
    "The format compresses a sequence of characters. Whitespace is ignored. \n",
    "To indicate that some sequence should be repeated, a marker is added to the file, like (10x2). \n",
    "To decompress this marker, take the subsequent 10 characters and repeat them 2 times. \n",
    "Then, continue reading the file after the repeated data. \n",
    "The marker itself is not included in the decompressed output.\n",
    "\n",
    "If parentheses or other characters appear within the data referenced by a marker, that's okay - \n",
    "treat it like normal data, not a marker, and then resume looking for markers after the decompressed section.\n",
    "\"\"\""
   ]
  },
  {
   "cell_type": "code",
   "execution_count": null,
   "metadata": {
    "collapsed": true
   },
   "outputs": [],
   "source": [
    "\"\"\"\n",
    "For example:\n",
    "\n",
    "ADVENT contains no markers and decompresses to itself with no changes, resulting in a decompressed length of 6.\n",
    "\n",
    "A(1x5)BC repeats only the B a total of 5 times, becoming ABBBBBC for a decompressed length of 7.\n",
    "\n",
    "(3x3)XYZ becomes XYZXYZXYZ for a decompressed length of 9.\n",
    "\n",
    "A(2x2)BCD(2x2)EFG doubles the BC and EF, becoming ABCBCDEFEFG for a decompressed length of 11.\n",
    "\n",
    "(6x1)(1x3)A simply becomes (1x3)A - the (1x3) looks like a marker, \n",
    "but because it's within a data section of another marker, it is not treated any differently from the A \n",
    "that comes after it. It has a decompressed length of 6.\n",
    "\n",
    "X(8x2)(3x3)ABCY becomes X(3x3)ABC(3x3)ABCY (for a decompressed length of 18), \n",
    "because the decompressed data from the (8x2) marker (the (3x3)ABC) is skipped and not processed further.\n",
    "\n",
    "\"\"\""
   ]
  },
  {
   "cell_type": "code",
   "execution_count": 5,
   "metadata": {
    "collapsed": true
   },
   "outputs": [],
   "source": [
    "test_inputs=['ADVENT',\n",
    "            'A(1x5)BC',\n",
    "            '(3x3)XYZ',\n",
    "            'A(2x2)BCD(2x2)EFG',\n",
    "            '(6x1)(1x3)A',\n",
    "            'X(8x2)(3x3)ABCY']"
   ]
  },
  {
   "cell_type": "code",
   "execution_count": 5,
   "metadata": {},
   "outputs": [
    {
     "data": {
      "text/plain": [
       "['A', '1x5', 'BC']"
      ]
     },
     "execution_count": 5,
     "metadata": {},
     "output_type": "execute_result"
    }
   ],
   "source": [
    "re.split(r'\\((.*?)\\)','A(1x5)BC')"
   ]
  },
  {
   "cell_type": "code",
   "execution_count": 9,
   "metadata": {},
   "outputs": [
    {
     "data": {
      "text/plain": [
       "['A', '2x2)BCD', '2x2)EFG']"
      ]
     },
     "execution_count": 9,
     "metadata": {},
     "output_type": "execute_result"
    }
   ],
   "source": [
    "re.split(r'\\(','A(2x2)BCD(2x2)EFG')"
   ]
  },
  {
   "cell_type": "code",
   "execution_count": 12,
   "metadata": {},
   "outputs": [
    {
     "data": {
      "text/plain": [
       "['A', '2x2)BCD(2x2)EFG']"
      ]
     },
     "execution_count": 12,
     "metadata": {},
     "output_type": "execute_result"
    }
   ],
   "source": [
    "'A(2x2)BCD(2x2)EFG'.split('(',1) "
   ]
  },
  {
   "cell_type": "code",
   "execution_count": 74,
   "metadata": {
    "collapsed": true
   },
   "outputs": [],
   "source": [
    "def solve(input_string):\n",
    "    \n",
    "    if '(' not in input_string:\n",
    "        return input_string\n",
    "    \n",
    "    front,chunk=input_string.split('(',1) #string.split(delimiter,max_splits)\n",
    "    mid,back=chunk[:3],chunk[4:]\n",
    "    \n",
    "    #print front, mid, back A 1x5 BC\n",
    "    num_of_chars=int(mid[0])\n",
    "    repeats=int(mid[2])\n",
    "    \n",
    "    chars=back[:num_of_chars]\n",
    "    insert=chars*repeats\n",
    "    end=back[num_of_chars:]\n",
    "    \n",
    "    ans_string=front+insert+end\n",
    "    \n",
    "    if '(' in end:\n",
    "        return solve(ans_string)\n",
    "    else:                \n",
    "        return ans_string"
   ]
  },
  {
   "cell_type": "code",
   "execution_count": 70,
   "metadata": {},
   "outputs": [
    {
     "data": {
      "text/plain": [
       "11"
      ]
     },
     "execution_count": 70,
     "metadata": {},
     "output_type": "execute_result"
    }
   ],
   "source": [
    "solve('A(2x2)BCD(2x2)EFG')"
   ]
  },
  {
   "cell_type": "code",
   "execution_count": 61,
   "metadata": {},
   "outputs": [],
   "source": [
    "inputs=test_inputs"
   ]
  },
  {
   "cell_type": "code",
   "execution_count": 62,
   "metadata": {},
   "outputs": [
    {
     "name": "stdout",
     "output_type": "stream",
     "text": [
      "ADVENT\n",
      "ABBBBBC\n",
      "XYZXYZXYZ\n",
      "ABCBCDEFEFG\n",
      "(1x3)A\n",
      "X(3x3)ABC(3x3)ABCY\n"
     ]
    }
   ],
   "source": [
    "# iterate through each char\n",
    "\n",
    "for i in test_inputs:\n",
    "    print solve(i)\n",
    "\n",
    "# once detect a (, record repeating instruction\n",
    "# once detect a ), execute instructions\n",
    "\n"
   ]
  },
  {
   "cell_type": "code",
   "execution_count": 66,
   "metadata": {},
   "outputs": [],
   "source": [
    "with open('input/9-1.txt') as f:\n",
    "    input_string=f.readlines()"
   ]
  },
  {
   "cell_type": "code",
   "execution_count": 83,
   "metadata": {},
   "outputs": [],
   "source": []
  },
  {
   "cell_type": "code",
   "execution_count": 84,
   "metadata": {},
   "outputs": [
    {
     "ename": "ValueError",
     "evalue": "invalid literal for int() with base 10: 'x'",
     "output_type": "error",
     "traceback": [
      "\u001b[0;31m---------------------------------------------------------------------------\u001b[0m",
      "\u001b[0;31mValueError\u001b[0m                                Traceback (most recent call last)",
      "\u001b[0;32m<ipython-input-84-85ae5c35c47e>\u001b[0m in \u001b[0;36m<module>\u001b[0;34m()\u001b[0m\n\u001b[0;32m----> 1\u001b[0;31m \u001b[0msolve\u001b[0m\u001b[0;34m(\u001b[0m\u001b[0maa\u001b[0m\u001b[0;34m)\u001b[0m\u001b[0;34m\u001b[0m\u001b[0m\n\u001b[0m",
      "\u001b[0;32m<ipython-input-74-8bf634b46f08>\u001b[0m in \u001b[0;36msolve\u001b[0;34m(input_string)\u001b[0m\n\u001b[1;32m      9\u001b[0m     \u001b[0;31m#print front, mid, back A 1x5 BC\u001b[0m\u001b[0;34m\u001b[0m\u001b[0;34m\u001b[0m\u001b[0m\n\u001b[1;32m     10\u001b[0m     \u001b[0mnum_of_chars\u001b[0m\u001b[0;34m=\u001b[0m\u001b[0mint\u001b[0m\u001b[0;34m(\u001b[0m\u001b[0mmid\u001b[0m\u001b[0;34m[\u001b[0m\u001b[0;36m0\u001b[0m\u001b[0;34m]\u001b[0m\u001b[0;34m)\u001b[0m\u001b[0;34m\u001b[0m\u001b[0m\n\u001b[0;32m---> 11\u001b[0;31m     \u001b[0mrepeats\u001b[0m\u001b[0;34m=\u001b[0m\u001b[0mint\u001b[0m\u001b[0;34m(\u001b[0m\u001b[0mmid\u001b[0m\u001b[0;34m[\u001b[0m\u001b[0;36m2\u001b[0m\u001b[0;34m]\u001b[0m\u001b[0;34m)\u001b[0m\u001b[0;34m\u001b[0m\u001b[0m\n\u001b[0m\u001b[1;32m     12\u001b[0m \u001b[0;34m\u001b[0m\u001b[0m\n\u001b[1;32m     13\u001b[0m     \u001b[0mchars\u001b[0m\u001b[0;34m=\u001b[0m\u001b[0mback\u001b[0m\u001b[0;34m[\u001b[0m\u001b[0;34m:\u001b[0m\u001b[0mnum_of_chars\u001b[0m\u001b[0;34m]\u001b[0m\u001b[0;34m\u001b[0m\u001b[0m\n",
      "\u001b[0;31mValueError\u001b[0m: invalid literal for int() with base 10: 'x'"
     ]
    }
   ],
   "source": []
  },
  {
   "cell_type": "code",
   "execution_count": null,
   "metadata": {
    "collapsed": true
   },
   "outputs": [],
   "source": []
  }
 ],
 "metadata": {
  "kernelspec": {
   "display_name": "Python 2",
   "language": "python",
   "name": "python2"
  },
  "language_info": {
   "codemirror_mode": {
    "name": "ipython",
    "version": 2
   },
   "file_extension": ".py",
   "mimetype": "text/x-python",
   "name": "python",
   "nbconvert_exporter": "python",
   "pygments_lexer": "ipython2",
   "version": "2.7.13"
  }
 },
 "nbformat": 4,
 "nbformat_minor": 2
}
