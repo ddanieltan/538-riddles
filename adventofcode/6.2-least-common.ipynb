{
 "cells": [
  {
   "cell_type": "code",
   "execution_count": 1,
   "metadata": {
    "collapsed": false,
    "deletable": true,
    "editable": true
   },
   "outputs": [],
   "source": [
    "import pandas as pd\n",
    "import numpy as np\n",
    "from collections import Counter\n",
    "import operator\n",
    "from collections import defaultdict"
   ]
  },
  {
   "cell_type": "code",
   "execution_count": 2,
   "metadata": {
    "collapsed": true,
    "deletable": true,
    "editable": true
   },
   "outputs": [],
   "source": [
    "test_inputs = ['eedadn',\n",
    "'drvtee',\n",
    "'eandsr',\n",
    "'raavrd',\n",
    "'atevrs',\n",
    "'tsrnev',\n",
    "'sdttsa',\n",
    "'rasrtv',\n",
    "'nssdts',\n",
    "'ntnada',\n",
    "'svetve',\n",
    "'tesnvt',\n",
    "'vntsnd',\n",
    "'vrdear',\n",
    "'dvrsen',\n",
    "'enarar']"
   ]
  },
  {
   "cell_type": "code",
   "execution_count": 3,
   "metadata": {
    "collapsed": false,
    "deletable": true,
    "editable": true
   },
   "outputs": [
    {
     "name": "stdout",
     "output_type": "stream",
     "text": [
      "defaultdict(<type 'list'>, {0: ['e', 'd', 'e', 'r', 'a', 't', 's', 'r', 'n', 'n', 's', 't', 'v', 'v', 'd', 'e'], 1: ['e', 'r', 'a', 'a', 't', 's', 'd', 'a', 's', 't', 'v', 'e', 'n', 'r', 'v', 'n'], 2: ['d', 'v', 'n', 'a', 'e', 'r', 't', 's', 's', 'n', 'e', 's', 't', 'd', 'r', 'a'], 3: ['a', 't', 'd', 'v', 'v', 'n', 't', 'r', 'd', 'a', 't', 'n', 's', 'e', 's', 'r'], 4: ['d', 'e', 's', 'r', 'r', 'e', 's', 't', 't', 'd', 'v', 'v', 'n', 'a', 'e', 'a'], 5: ['n', 'e', 'r', 'd', 's', 'v', 'a', 'v', 's', 'a', 'e', 't', 'd', 'r', 'n', 'r']})\n"
     ]
    }
   ],
   "source": [
    "# parse inputs by index\n",
    "input_dict = defaultdict(list)\n",
    "for i in test_inputs: #message\n",
    "    msg_length = len(i)\n",
    "    for j in xrange(msg_length): #index\n",
    "        input_dict[j].append(i[j]) #key=index, value=letter\n",
    "print input_dict"
   ]
  },
  {
   "cell_type": "code",
   "execution_count": 12,
   "metadata": {
    "collapsed": false,
    "deletable": true,
    "editable": true
   },
   "outputs": [
    {
     "name": "stdout",
     "output_type": "stream",
     "text": [
      "advent\n"
     ]
    }
   ],
   "source": [
    "# test\n",
    "\n",
    "ans=''\n",
    "for k,v in input_dict.iteritems(): #iteritems required to iterate through dict\n",
    "    ans += Counter(v).most_common()[-1][0] #least common\n",
    "print ans"
   ]
  },
  {
   "cell_type": "code",
   "execution_count": 13,
   "metadata": {
    "collapsed": false,
    "deletable": true,
    "editable": true
   },
   "outputs": [
    {
     "data": {
      "text/plain": [
       "['wxupppln', 'ducindyd', 'rhszlyfu', 'kouqvpue', 'nwntizie']"
      ]
     },
     "execution_count": 13,
     "metadata": {},
     "output_type": "execute_result"
    }
   ],
   "source": [
    "with open('input/6.txt') as f:\n",
    "    content = f.readlines()\n",
    "    content = [x.strip('\\n') for x in content]\n",
    "content[:5]"
   ]
  },
  {
   "cell_type": "code",
   "execution_count": 14,
   "metadata": {
    "collapsed": false,
    "deletable": true,
    "editable": true
   },
   "outputs": [],
   "source": [
    "#parsing\n",
    "d = defaultdict(list)\n",
    "for i in content: #message\n",
    "    msg_length = len(i)\n",
    "    for j in xrange(msg_length): #index\n",
    "        d[j].append(i[j]) #key=index, value=letter"
   ]
  },
  {
   "cell_type": "code",
   "execution_count": 15,
   "metadata": {
    "collapsed": false,
    "deletable": true,
    "editable": true
   },
   "outputs": [
    {
     "name": "stdout",
     "output_type": "stream",
     "text": [
      "uwpfaqrq\n"
     ]
    }
   ],
   "source": [
    "# solving\n",
    "ans=''\n",
    "for k,v in d.iteritems(): #iteritems required to iterate through dict\n",
    "    ans += Counter(v).most_common()[-1][0] #least common\n",
    "print ans"
   ]
  },
  {
   "cell_type": "code",
   "execution_count": null,
   "metadata": {
    "collapsed": true,
    "deletable": true,
    "editable": true
   },
   "outputs": [],
   "source": []
  }
 ],
 "metadata": {
  "kernelspec": {
   "display_name": "Python 2",
   "language": "python",
   "name": "python2"
  },
  "language_info": {
   "codemirror_mode": {
    "name": "ipython",
    "version": 2
   },
   "file_extension": ".py",
   "mimetype": "text/x-python",
   "name": "python",
   "nbconvert_exporter": "python",
   "pygments_lexer": "ipython2",
   "version": "2.7.13"
  }
 },
 "nbformat": 4,
 "nbformat_minor": 2
}
