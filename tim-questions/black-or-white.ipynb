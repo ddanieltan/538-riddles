{
 "cells": [
  {
   "cell_type": "code",
   "execution_count": 1,
   "metadata": {
    "collapsed": true
   },
   "outputs": [],
   "source": [
    "import numpy as np\n",
    "import pandas as pd"
   ]
  },
  {
   "cell_type": "markdown",
   "metadata": {},
   "source": [
    "## Question\n",
    "\n",
    "Given that x out of N balls in a box are black, and the rest are white\n",
    "\n",
    "A ball is randomly taken with replacement\n",
    "\n",
    "And the colour is recorded\n",
    "\n",
    "This is done M times\n",
    "\n",
    "Given that the outcome Q is observed,\n",
    "\n",
    "Calculate the probabiltiy distribution for X, the random variable for no. of black balls in box\n",
    "\n"
   ]
  },
  {
   "cell_type": "markdown",
   "metadata": {},
   "source": [
    "### Example\n",
    "\n",
    "Input=2,3,BWW (N, M, Q)\n",
    "\n",
    "Output= p0=0.0, p1=1.0, p2=0.0"
   ]
  },
  {
   "cell_type": "code",
   "execution_count": 23,
   "metadata": {
    "collapsed": true
   },
   "outputs": [],
   "source": [
    "# Limit the possibilities\n",
    "\n",
    "# If from Q, we see both B and W at least once, we can remove ALL BLACK or ALL WHITE from possibilities\n",
    "\n",
    "def reject_ALL(q):\n",
    "    qq = q.upper()\n",
    "    if len(list(set(qq)))==2:\n",
    "        return True #We can reject ALL BLACK or ALL WHITE\n",
    "    else:\n",
    "        return False\n",
    "    "
   ]
  },
  {
   "cell_type": "code",
   "execution_count": 25,
   "metadata": {},
   "outputs": [
    {
     "data": {
      "text/plain": [
       "True"
      ]
     },
     "execution_count": 25,
     "metadata": {},
     "output_type": "execute_result"
    }
   ],
   "source": [
    "q1='BWW'\n",
    "reject_ALL(q1)"
   ]
  },
  {
   "cell_type": "code",
   "execution_count": 32,
   "metadata": {
    "collapsed": true
   },
   "outputs": [],
   "source": [
    "# Once we reject ALLB or ALLW, map out the possibilities\n",
    "\n",
    "def map_all(n,q):\n",
    "    possibilities=[]\n",
    "    \n",
    "    for i in range(n):\n",
    "        p = (i+1)*'B'\n",
    "        p+=(n-i-1)*'W'\n",
    "        possibilities.append(p)\n",
    "    \n",
    "    if reject_ALL(q):\n",
    "        all_black=n*'B'\n",
    "        possibilities.remove(all_black)\n",
    "    else:\n",
    "        all_white=n*'W'\n",
    "        possibilities.append(all_white)\n",
    "        \n",
    "    return possibilities\n",
    "        \n",
    "        "
   ]
  },
  {
   "cell_type": "code",
   "execution_count": 71,
   "metadata": {},
   "outputs": [
    {
     "name": "stdout",
     "output_type": "stream",
     "text": [
      "['BWWWW', 'BBWWW', 'BBBWW', 'BBBBW']\n"
     ]
    }
   ],
   "source": [
    "map_all(5,'BWW')\n"
   ]
  },
  {
   "cell_type": "code",
   "execution_count": 80,
   "metadata": {},
   "outputs": [],
   "source": [
    "# Calculate probability distribution\n",
    "\n",
    "def prob(n,m,q):\n",
    "    front='p_'\n",
    "    possibilities=[]\n",
    "    \n",
    "    for i in range(n):\n",
    "        p = (i+1)*'B'\n",
    "        p+=(n-i-1)*'W'\n",
    "        possibilities.append(p)\n",
    "    \n",
    "    if reject_ALL(q):\n",
    "        all_black=n*'B'\n",
    "        possibilities.remove(all_black)\n",
    "    else:\n",
    "        all_white=n*'W'\n",
    "        possibilities.append(all_white)\n",
    "    \n",
    "    denom=len(possibilities)\n",
    "    \n",
    "    for j in range(n+1):\n",
    "        if j==0:\n",
    "            b_substring=n*'W'\n",
    "        else:\n",
    "            b_substring=j*'B'\n",
    "        \n",
    "        counter=0\n",
    "        for p in possibilities:\n",
    "            \n",
    "            if b_substring in p:\n",
    "                counter+=1\n",
    "        \n",
    "        print front+str(j)+': ' + j*'B'\n",
    "        print float(counter)/denom\n",
    "        "
   ]
  },
  {
   "cell_type": "code",
   "execution_count": 83,
   "metadata": {},
   "outputs": [
    {
     "name": "stdout",
     "output_type": "stream",
     "text": [
      "p_0: \n",
      "0.0\n",
      "p_1: B\n",
      "1.0\n",
      "p_2: BB\n",
      "0.5\n",
      "p_3: BBB\n",
      "0.0\n"
     ]
    }
   ],
   "source": [
    "prob(3,3,'BWW')"
   ]
  },
  {
   "cell_type": "code",
   "execution_count": null,
   "metadata": {
    "collapsed": true
   },
   "outputs": [],
   "source": []
  }
 ],
 "metadata": {
  "kernelspec": {
   "display_name": "Python 2",
   "language": "python",
   "name": "python2"
  },
  "language_info": {
   "codemirror_mode": {
    "name": "ipython",
    "version": 2
   },
   "file_extension": ".py",
   "mimetype": "text/x-python",
   "name": "python",
   "nbconvert_exporter": "python",
   "pygments_lexer": "ipython2",
   "version": "2.7.14"
  }
 },
 "nbformat": 4,
 "nbformat_minor": 2
}
