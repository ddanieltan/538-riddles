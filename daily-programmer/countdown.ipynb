{
 "cells": [
  {
   "cell_type": "code",
   "execution_count": 1,
   "metadata": {
    "collapsed": true
   },
   "outputs": [],
   "source": [
    "import pandas as pd\n",
    "import numpy as np"
   ]
  },
  {
   "cell_type": "markdown",
   "metadata": {},
   "source": [
    "https://www.reddit.com/r/dailyprogrammer/comments/6fe9cv/20170605_challenge_318_easy_countdown_game_show/\n",
    "\n",
    "Given a set of numbers X1-X5, calculate using mathematical operations to solve for Y. \n",
    "\n",
    "You can use addition, subtraction, multiplication, or division.\n",
    "\n",
    "Unlike \"real math\", the standard order of operations (PEMDAS) is not applied here. \n",
    "\n",
    "Instead, the order is determined left to right."
   ]
  },
  {
   "cell_type": "code",
   "execution_count": 2,
   "metadata": {
    "collapsed": true
   },
   "outputs": [],
   "source": [
    "test_input = [1,2,3,4,5]\n",
    "test_ans = 24"
   ]
  },
  {
   "cell_type": "code",
   "execution_count": 3,
   "metadata": {
    "collapsed": true
   },
   "outputs": [],
   "source": [
    "operands=['+','-','*','/']\n"
   ]
  },
  {
   "cell_type": "code",
   "execution_count": 6,
   "metadata": {
    "collapsed": false
   },
   "outputs": [
    {
     "name": "stdout",
     "output_type": "stream",
     "text": [
      "Help on package pandas:\n",
      "\n",
      "NAME\n",
      "    pandas\n",
      "\n",
      "FILE\n",
      "    /Users/DTan/miniconda2/lib/python2.7/site-packages/pandas/__init__.py\n",
      "\n",
      "DESCRIPTION\n",
      "    pandas - a powerful data analysis and manipulation library for Python\n",
      "    =====================================================================\n",
      "    \n",
      "    See http://pandas.pydata.org/ for full documentation. Otherwise, see the\n",
      "    docstrings of the various objects in the pandas namespace:\n",
      "    \n",
      "    Series\n",
      "    DataFrame\n",
      "    Panel\n",
      "    Index\n",
      "    DatetimeIndex\n",
      "    HDFStore\n",
      "    bdate_range\n",
      "    date_range\n",
      "    read_csv\n",
      "    read_fwf\n",
      "    read_table\n",
      "    ols\n",
      "\n",
      "PACKAGE CONTENTS\n",
      "    _hash\n",
      "    _join\n",
      "    _period\n",
      "    _sparse\n",
      "    _testing\n",
      "    _version\n",
      "    _window\n",
      "    algos\n",
      "    api (package)\n",
      "    compat (package)\n",
      "    computation (package)\n",
      "    core (package)\n",
      "    formats (package)\n",
      "    hashtable\n",
      "    index\n",
      "    indexes (package)\n",
      "    info\n",
      "    io (package)\n",
      "    json\n",
      "    lib\n",
      "    msgpack (package)\n",
      "    parser\n",
      "    rpy (package)\n",
      "    sparse (package)\n",
      "    stats (package)\n",
      "    tests (package)\n",
      "    tools (package)\n",
      "    tseries (package)\n",
      "    tslib\n",
      "    types (package)\n",
      "    util (package)\n",
      "\n",
      "SUBMODULES\n",
      "    offsets\n",
      "\n",
      "DATA\n",
      "    IndexSlice = <pandas.core.indexing._IndexSlice object>\n",
      "    NaT = NaT\n",
      "    __docformat__ = 'restructuredtext'\n",
      "    __version__ = u'0.19.2'\n",
      "    datetools = <module 'pandas.core.datetools' from '/Users/DTa...thon2.7...\n",
      "    describe_option = <pandas.core.config.CallableDynamicDoc object>\n",
      "    get_option = <pandas.core.config.CallableDynamicDoc object>\n",
      "    options = <pandas.core.config.DictWrapper object>\n",
      "    plot_params = {'xaxis.compat': False}\n",
      "    reset_option = <pandas.core.config.CallableDynamicDoc object>\n",
      "    set_option = <pandas.core.config.CallableDynamicDoc object>\n",
      "\n",
      "VERSION\n",
      "    0.19.2\n",
      "\n",
      "\n"
     ]
    }
   ],
   "source": []
  },
  {
   "cell_type": "code",
   "execution_count": null,
   "metadata": {
    "collapsed": true
   },
   "outputs": [],
   "source": []
  }
 ],
 "metadata": {
  "kernelspec": {
   "display_name": "Python 2",
   "language": "python",
   "name": "python2"
  },
  "language_info": {
   "codemirror_mode": {
    "name": "ipython",
    "version": 2
   },
   "file_extension": ".py",
   "mimetype": "text/x-python",
   "name": "python",
   "nbconvert_exporter": "python",
   "pygments_lexer": "ipython2",
   "version": "2.7.13"
  }
 },
 "nbformat": 4,
 "nbformat_minor": 2
}
